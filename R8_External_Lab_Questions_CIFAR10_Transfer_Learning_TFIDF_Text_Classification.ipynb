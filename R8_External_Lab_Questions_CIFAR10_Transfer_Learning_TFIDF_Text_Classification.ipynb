{
  "nbformat": 4,
  "nbformat_minor": 0,
  "metadata": {
    "colab": {
      "name": "R8_External_Lab_Questions_CIFAR10_Transfer_Learning_TFIDF_Text_Classification.ipynb",
      "provenance": [],
      "collapsed_sections": []
    },
    "kernelspec": {
      "name": "python3",
      "display_name": "Python 3"
    },
    "accelerator": "TPU"
  },
  "cells": [
    {
      "cell_type": "markdown",
      "metadata": {
        "id": "QGIsF1ADyJ58",
        "colab_type": "text"
      },
      "source": [
        "# Transfer Learning CIFAR10"
      ]
    },
    {
      "cell_type": "markdown",
      "metadata": {
        "id": "E-n6tVFayGBe",
        "colab_type": "text"
      },
      "source": [
        "* Train a simple convnet on the CIFAR dataset the first 5 output classes [0..4].\n",
        "* Freeze convolutional layers and fine-tune dense layers for the last 5 ouput classes [5..9].\n"
      ]
    },
    {
      "cell_type": "markdown",
      "metadata": {
        "id": "Cq8ejXHJyGYq",
        "colab_type": "text"
      },
      "source": [
        "### 1. Import CIFAR10 data and create 2 datasets with one dataset having classes from 0 to 4 and other having classes from 5 to 9 "
      ]
    },
    {
      "cell_type": "code",
      "metadata": {
        "id": "uWYbxnBayFUP",
        "colab_type": "code",
        "colab": {
          "base_uri": "https://localhost:8080/",
          "height": 79
        },
        "outputId": "73ef60c0-f000-48f4-fb4b-82a8bd834e87"
      },
      "source": [
        "from keras.datasets import cifar10\n",
        "(X_train, y_train), (X_test, y_test) = cifar10.load_data()"
      ],
      "execution_count": 1,
      "outputs": [
        {
          "output_type": "stream",
          "text": [
            "Using TensorFlow backend.\n"
          ],
          "name": "stderr"
        },
        {
          "output_type": "display_data",
          "data": {
            "text/html": [
              "<p style=\"color: red;\">\n",
              "The default version of TensorFlow in Colab will soon switch to TensorFlow 2.x.<br>\n",
              "We recommend you <a href=\"https://www.tensorflow.org/guide/migrate\" target=\"_blank\">upgrade</a> now \n",
              "or ensure your notebook will continue to use TensorFlow 1.x via the <code>%tensorflow_version 1.x</code> magic:\n",
              "<a href=\"https://colab.research.google.com/notebooks/tensorflow_version.ipynb\" target=\"_blank\">more info</a>.</p>\n"
            ],
            "text/plain": [
              "<IPython.core.display.HTML object>"
            ]
          },
          "metadata": {
            "tags": []
          }
        }
      ]
    },
    {
      "cell_type": "code",
      "metadata": {
        "id": "aEyLbePQqkSl",
        "colab_type": "code",
        "colab": {}
      },
      "source": [
        "X_train1=[]\n",
        "y_train1=[]\n",
        "X_test1=[]\n",
        "y_test1=[]\n",
        "X_train2=[]\n",
        "y_train2=[]\n",
        "X_test2=[]\n",
        "y_test2=[]\n",
        "for idx,x in enumerate(y_train):\n",
        "    if(x<5):\n",
        "        X_train1.append(X_train[idx])\n",
        "        y_train1.append(y_train[idx])\n",
        "    else:\n",
        "        X_train2.append(X_train[idx])\n",
        "        y_train2.append(y_train[idx])\n",
        "for idx,x in enumerate(y_test):\n",
        "    if(x<5):\n",
        "        X_test1.append(X_test[idx])\n",
        "        y_test1.append(y_test[idx])\n",
        "    else:\n",
        "        X_test2.append(X_test[idx])\n",
        "        y_test2.append(y_test[idx])\n",
        "import numpy as np\n",
        "X_train1=np.asarray(X_train1)\n",
        "y_train1=np.asarray(y_train1)\n",
        "X_test1=np.asarray(X_test1)\n",
        "y_test1=np.asarray(y_test1)\n",
        "X_train2=np.asarray(X_train2)\n",
        "y_train2=np.asarray(y_train2)\n",
        "X_test2=np.asarray(X_test2)\n",
        "y_test2=np.asarray(y_test2)\n",
        "\n",
        "## splitting the dataset based on target value, 0-4 in one group and 5-9 in another group"
      ],
      "execution_count": 0,
      "outputs": []
    },
    {
      "cell_type": "markdown",
      "metadata": {
        "id": "xtCKmQh4yXhT",
        "colab_type": "text"
      },
      "source": [
        "### 2. Use One-hot encoding to divide y_train and y_test into required no of output classes"
      ]
    },
    {
      "cell_type": "code",
      "metadata": {
        "id": "uN5O2kJ3yYa6",
        "colab_type": "code",
        "colab": {}
      },
      "source": [
        "import tensorflow as tf\n",
        "y_train1 = tf.keras.utils.to_categorical(y_train1, num_classes = 5)\n",
        "y_test1 = tf.keras.utils.to_categorical(y_test1, num_classes = 5)\n",
        "X_train1 = X_train1/255.0\n",
        "X_test1 = X_test1/255.0\n",
        "\n",
        "## encoding the Y target and standardization of the X variables "
      ],
      "execution_count": 0,
      "outputs": []
    },
    {
      "cell_type": "code",
      "metadata": {
        "id": "185RFAZ202De",
        "colab_type": "code",
        "colab": {
          "base_uri": "https://localhost:8080/",
          "height": 34
        },
        "outputId": "92783a91-a9a7-4dd3-f89e-d2d048c5c3af"
      },
      "source": [
        "X_train1.shape"
      ],
      "execution_count": 4,
      "outputs": [
        {
          "output_type": "execute_result",
          "data": {
            "text/plain": [
              "(25000, 32, 32, 3)"
            ]
          },
          "metadata": {
            "tags": []
          },
          "execution_count": 4
        }
      ]
    },
    {
      "cell_type": "markdown",
      "metadata": {
        "id": "cuOiKWfeybAl",
        "colab_type": "text"
      },
      "source": [
        "### 3. Build a sequential neural network model which can classify the classes 0 to 4 of CIFAR10 dataset with at least 80% accuracy on test data"
      ]
    },
    {
      "cell_type": "code",
      "metadata": {
        "id": "5HzxNbiiyoBD",
        "colab_type": "code",
        "colab": {
          "base_uri": "https://localhost:8080/",
          "height": 87
        },
        "outputId": "bf21e49d-015d-4c26-ada0-0db57ad23070"
      },
      "source": [
        "model=tf.keras.Sequential()  ##Conv layer\n",
        "model.add(tf.keras.layers.Conv2D(filters=32, kernel_size=(3,3),strides =(1,1),activation='relu',input_shape=(32,32,3),name='fc1'))\n",
        "model.add(tf.keras.layers.BatchNormalization())\n",
        "model.add(tf.keras.layers.Conv2D(filters=32, kernel_size=(3,3),strides =(1,1),activation='relu',name='fc2'))\n",
        "model.add(tf.keras.layers.BatchNormalization())\n",
        "model.add(tf.keras.layers.MaxPooling2D(pool_size=(2,2),strides =(2,2), padding='valid',name='fc3'))\n",
        "model.add(tf.keras.layers.Conv2D(filters=32, kernel_size=(3,3),strides =(1,1),activation='relu',name='fc4'))\n",
        "model.add(tf.keras.layers.BatchNormalization())\n",
        "model.add(tf.keras.layers.Conv2D(filters=32, kernel_size=(3,3),strides =(1,1),activation='relu',name='fc5'))\n",
        "model.add(tf.keras.layers.BatchNormalization())\n",
        "model.add(tf.keras.layers.MaxPooling2D(pool_size=(2,2),strides =(2,2), padding='valid',name='fc6'))\n",
        "model.add(tf.keras.layers.Dropout(0.25))"
      ],
      "execution_count": 5,
      "outputs": [
        {
          "output_type": "stream",
          "text": [
            "WARNING:tensorflow:From /usr/local/lib/python3.6/dist-packages/tensorflow_core/python/ops/resource_variable_ops.py:1630: calling BaseResourceVariable.__init__ (from tensorflow.python.ops.resource_variable_ops) with constraint is deprecated and will be removed in a future version.\n",
            "Instructions for updating:\n",
            "If using Keras pass *_constraint arguments to layers.\n"
          ],
          "name": "stdout"
        }
      ]
    },
    {
      "cell_type": "code",
      "metadata": {
        "id": "JhUJxlcqwQAf",
        "colab_type": "code",
        "colab": {}
      },
      "source": [
        "model.add(tf.keras.layers.Flatten()) ## Deep neural network\n",
        "model.add(tf.keras.layers.Dense(128, activation='relu'))\n",
        "model.add(tf.keras.layers.Dense(64, activation='relu'))\n",
        "model.add(tf.keras.layers.LayerNormalization())\n",
        "model.add(tf.keras.layers.Dropout(0.25))\n",
        "model.add(tf.keras.layers.Dense(5, activation='softmax'))"
      ],
      "execution_count": 0,
      "outputs": []
    },
    {
      "cell_type": "code",
      "metadata": {
        "id": "lrllAzgAwTLP",
        "colab_type": "code",
        "colab": {
          "base_uri": "https://localhost:8080/",
          "height": 722
        },
        "outputId": "0b9af7c7-7151-4329-a4c9-6bdcac28371a"
      },
      "source": [
        "model.compile(loss='categorical_crossentropy',optimizer='adam',metrics=['accuracy'])\n",
        "model.summary()"
      ],
      "execution_count": 7,
      "outputs": [
        {
          "output_type": "stream",
          "text": [
            "Model: \"sequential\"\n",
            "_________________________________________________________________\n",
            "Layer (type)                 Output Shape              Param #   \n",
            "=================================================================\n",
            "fc1 (Conv2D)                 (None, 30, 30, 32)        896       \n",
            "_________________________________________________________________\n",
            "batch_normalization (BatchNo (None, 30, 30, 32)        128       \n",
            "_________________________________________________________________\n",
            "fc2 (Conv2D)                 (None, 28, 28, 32)        9248      \n",
            "_________________________________________________________________\n",
            "batch_normalization_1 (Batch (None, 28, 28, 32)        128       \n",
            "_________________________________________________________________\n",
            "fc3 (MaxPooling2D)           (None, 14, 14, 32)        0         \n",
            "_________________________________________________________________\n",
            "fc4 (Conv2D)                 (None, 12, 12, 32)        9248      \n",
            "_________________________________________________________________\n",
            "batch_normalization_2 (Batch (None, 12, 12, 32)        128       \n",
            "_________________________________________________________________\n",
            "fc5 (Conv2D)                 (None, 10, 10, 32)        9248      \n",
            "_________________________________________________________________\n",
            "batch_normalization_3 (Batch (None, 10, 10, 32)        128       \n",
            "_________________________________________________________________\n",
            "fc6 (MaxPooling2D)           (None, 5, 5, 32)          0         \n",
            "_________________________________________________________________\n",
            "dropout (Dropout)            (None, 5, 5, 32)          0         \n",
            "_________________________________________________________________\n",
            "flatten (Flatten)            (None, 800)               0         \n",
            "_________________________________________________________________\n",
            "dense (Dense)                (None, 128)               102528    \n",
            "_________________________________________________________________\n",
            "dense_1 (Dense)              (None, 64)                8256      \n",
            "_________________________________________________________________\n",
            "layer_normalization (LayerNo (None, 64)                128       \n",
            "_________________________________________________________________\n",
            "dropout_1 (Dropout)          (None, 64)                0         \n",
            "_________________________________________________________________\n",
            "dense_2 (Dense)              (None, 5)                 325       \n",
            "=================================================================\n",
            "Total params: 140,389\n",
            "Trainable params: 140,133\n",
            "Non-trainable params: 256\n",
            "_________________________________________________________________\n"
          ],
          "name": "stdout"
        }
      ]
    },
    {
      "cell_type": "code",
      "metadata": {
        "id": "AgjYXqjKwVk6",
        "colab_type": "code",
        "colab": {
          "base_uri": "https://localhost:8080/",
          "height": 554
        },
        "outputId": "f67cb660-b25a-4134-a4d9-60d3c161640f"
      },
      "source": [
        "model.fit(X_train1,y_train1,batch_size=100,epochs=15,validation_data=(X_test1,y_test1))"
      ],
      "execution_count": 8,
      "outputs": [
        {
          "output_type": "stream",
          "text": [
            "Train on 25000 samples, validate on 5000 samples\n",
            "Epoch 1/15\n",
            "25000/25000 [==============================] - 100s 4ms/sample - loss: 1.0948 - acc: 0.5641 - val_loss: 1.9528 - val_acc: 0.3438\n",
            "Epoch 2/15\n",
            "25000/25000 [==============================] - 101s 4ms/sample - loss: 0.8069 - acc: 0.6876 - val_loss: 1.7306 - val_acc: 0.4180\n",
            "Epoch 3/15\n",
            "25000/25000 [==============================] - 101s 4ms/sample - loss: 0.6839 - acc: 0.7435 - val_loss: 0.8498 - val_acc: 0.6906\n",
            "Epoch 4/15\n",
            "25000/25000 [==============================] - 101s 4ms/sample - loss: 0.5947 - acc: 0.7778 - val_loss: 0.7036 - val_acc: 0.7470\n",
            "Epoch 5/15\n",
            "25000/25000 [==============================] - 100s 4ms/sample - loss: 0.5404 - acc: 0.7994 - val_loss: 0.5730 - val_acc: 0.7834\n",
            "Epoch 6/15\n",
            "25000/25000 [==============================] - 101s 4ms/sample - loss: 0.4936 - acc: 0.8205 - val_loss: 0.6010 - val_acc: 0.7790\n",
            "Epoch 7/15\n",
            "25000/25000 [==============================] - 100s 4ms/sample - loss: 0.4473 - acc: 0.8358 - val_loss: 0.5667 - val_acc: 0.7932\n",
            "Epoch 8/15\n",
            "25000/25000 [==============================] - 100s 4ms/sample - loss: 0.4139 - acc: 0.8476 - val_loss: 0.5175 - val_acc: 0.8130\n",
            "Epoch 9/15\n",
            "25000/25000 [==============================] - 100s 4ms/sample - loss: 0.3842 - acc: 0.8606 - val_loss: 0.5051 - val_acc: 0.8152\n",
            "Epoch 10/15\n",
            "25000/25000 [==============================] - 99s 4ms/sample - loss: 0.3539 - acc: 0.8715 - val_loss: 0.5644 - val_acc: 0.8042\n",
            "Epoch 11/15\n",
            "25000/25000 [==============================] - 100s 4ms/sample - loss: 0.3222 - acc: 0.8818 - val_loss: 0.5373 - val_acc: 0.8124\n",
            "Epoch 12/15\n",
            "25000/25000 [==============================] - 100s 4ms/sample - loss: 0.3061 - acc: 0.8896 - val_loss: 0.5603 - val_acc: 0.8134\n",
            "Epoch 13/15\n",
            "25000/25000 [==============================] - 100s 4ms/sample - loss: 0.2882 - acc: 0.8960 - val_loss: 0.5537 - val_acc: 0.8136\n",
            "Epoch 14/15\n",
            "25000/25000 [==============================] - 100s 4ms/sample - loss: 0.2605 - acc: 0.9054 - val_loss: 0.5423 - val_acc: 0.8196\n",
            "Epoch 15/15\n",
            "25000/25000 [==============================] - 100s 4ms/sample - loss: 0.2446 - acc: 0.9113 - val_loss: 0.5597 - val_acc: 0.8190\n"
          ],
          "name": "stdout"
        },
        {
          "output_type": "execute_result",
          "data": {
            "text/plain": [
              "<tensorflow.python.keras.callbacks.History at 0x7f17070c7a58>"
            ]
          },
          "metadata": {
            "tags": []
          },
          "execution_count": 8
        }
      ]
    },
    {
      "cell_type": "code",
      "metadata": {
        "id": "HuDXirCfjYFT",
        "colab_type": "code",
        "colab": {
          "base_uri": "https://localhost:8080/",
          "height": 50
        },
        "outputId": "833089a2-7096-4b9f-f84e-092ced70d8bd"
      },
      "source": [
        "scores = model.evaluate(X_train1,y_train1, verbose=0)\n",
        "print(\"Train Accuracy: %.2f%%\" % (scores[1]*100))\n",
        "scores = model.evaluate(X_test1,y_test1, verbose=0)\n",
        "print(\"Test Accuracy: %.2f%%\" % (scores[1]*100))"
      ],
      "execution_count": 9,
      "outputs": [
        {
          "output_type": "stream",
          "text": [
            "Train Accuracy: 92.08%\n",
            "Test Accuracy: 81.90%\n"
          ],
          "name": "stdout"
        }
      ]
    },
    {
      "cell_type": "code",
      "metadata": {
        "id": "Qc_BCAPFFS-w",
        "colab_type": "code",
        "colab": {}
      },
      "source": [
        "y_test11=[]\n",
        "for idx,x in enumerate(y_test):\n",
        "    if(x<5):\n",
        "        y_test11.append(y_test[idx])\n",
        "y_test11=np.asarray(y_test11)"
      ],
      "execution_count": 0,
      "outputs": []
    },
    {
      "cell_type": "code",
      "metadata": {
        "id": "J9VBnxvO-RHV",
        "colab_type": "code",
        "colab": {
          "base_uri": "https://localhost:8080/",
          "height": 235
        },
        "outputId": "a97a8acb-43c7-4b6f-a32e-0116d58e40cb"
      },
      "source": [
        "from sklearn.metrics import classification_report\n",
        "print(\"Classification Report\")\n",
        "print(classification_report(y_test11,model.predict_classes(X_test1)))\n",
        "\n",
        "#model is performing good on the whole with 80+ avg accuracy on the test set "
      ],
      "execution_count": 11,
      "outputs": [
        {
          "output_type": "stream",
          "text": [
            "Classification Report\n",
            "              precision    recall  f1-score   support\n",
            "\n",
            "           0       0.80      0.90      0.85      1000\n",
            "           1       0.93      0.96      0.95      1000\n",
            "           2       0.77      0.69      0.73      1000\n",
            "           3       0.78      0.74      0.76      1000\n",
            "           4       0.80      0.81      0.80      1000\n",
            "\n",
            "    accuracy                           0.82      5000\n",
            "   macro avg       0.82      0.82      0.82      5000\n",
            "weighted avg       0.82      0.82      0.82      5000\n",
            "\n"
          ],
          "name": "stdout"
        }
      ]
    },
    {
      "cell_type": "markdown",
      "metadata": {
        "id": "woTfNst_ynRG",
        "colab_type": "text"
      },
      "source": [
        "### 4. In the model which was built above (for classification of classes 0-4 in CIFAR10), make only the dense layers to be trainable and conv layers to be non-trainable"
      ]
    },
    {
      "cell_type": "code",
      "metadata": {
        "id": "o_VCDB3Byb1a",
        "colab_type": "code",
        "colab": {
          "base_uri": "https://localhost:8080/",
          "height": 588
        },
        "outputId": "5482d0b0-8e78-4cec-84a2-31b13a7ed7d7"
      },
      "source": [
        "for layer in model.layers:\n",
        "    if layer.name == 'fc1' or layer.name == 'fc2' or layer.name == 'fc3' or layer.name == 'fc4' or layer.name == 'fc5' or layer.name == 'fc6':\n",
        "        layer.trainable = False\n",
        "\n",
        "## hardcoding the conv layers fc1-6 as non trainable\n",
        "\n",
        "from termcolor import colored    #  python module for ANSII Color formatting for output in terminal\n",
        "#Check which layers have been frozen \n",
        "for layer in model.layers:\n",
        "  print (colored(layer.name, 'blue'))\n",
        "  print (colored(layer.trainable, 'red'))"
      ],
      "execution_count": 12,
      "outputs": [
        {
          "output_type": "stream",
          "text": [
            "\u001b[34mfc1\u001b[0m\n",
            "\u001b[31mFalse\u001b[0m\n",
            "\u001b[34mbatch_normalization\u001b[0m\n",
            "\u001b[31mTrue\u001b[0m\n",
            "\u001b[34mfc2\u001b[0m\n",
            "\u001b[31mFalse\u001b[0m\n",
            "\u001b[34mbatch_normalization_1\u001b[0m\n",
            "\u001b[31mTrue\u001b[0m\n",
            "\u001b[34mfc3\u001b[0m\n",
            "\u001b[31mFalse\u001b[0m\n",
            "\u001b[34mfc4\u001b[0m\n",
            "\u001b[31mFalse\u001b[0m\n",
            "\u001b[34mbatch_normalization_2\u001b[0m\n",
            "\u001b[31mTrue\u001b[0m\n",
            "\u001b[34mfc5\u001b[0m\n",
            "\u001b[31mFalse\u001b[0m\n",
            "\u001b[34mbatch_normalization_3\u001b[0m\n",
            "\u001b[31mTrue\u001b[0m\n",
            "\u001b[34mfc6\u001b[0m\n",
            "\u001b[31mFalse\u001b[0m\n",
            "\u001b[34mdropout\u001b[0m\n",
            "\u001b[31mTrue\u001b[0m\n",
            "\u001b[34mflatten\u001b[0m\n",
            "\u001b[31mTrue\u001b[0m\n",
            "\u001b[34mdense\u001b[0m\n",
            "\u001b[31mTrue\u001b[0m\n",
            "\u001b[34mdense_1\u001b[0m\n",
            "\u001b[31mTrue\u001b[0m\n",
            "\u001b[34mlayer_normalization\u001b[0m\n",
            "\u001b[31mTrue\u001b[0m\n",
            "\u001b[34mdropout_1\u001b[0m\n",
            "\u001b[31mTrue\u001b[0m\n",
            "\u001b[34mdense_2\u001b[0m\n",
            "\u001b[31mTrue\u001b[0m\n"
          ],
          "name": "stdout"
        }
      ]
    },
    {
      "cell_type": "markdown",
      "metadata": {
        "id": "1-uUPqWpyeyX",
        "colab_type": "text"
      },
      "source": [
        "### 5. Utilize the the model trained on CIFAR 10 (classes 0 to 4) to classify the classes 5 to 9 of CIFAR 10  (Use Transfer Learning) <br>\n",
        "Achieve an accuracy of more than 85% on test data"
      ]
    },
    {
      "cell_type": "code",
      "metadata": {
        "id": "szHjJgDvyfCt",
        "colab_type": "code",
        "colab": {}
      },
      "source": [
        "y_train2=y_train2-5\n",
        "y_test2=y_test2-5\n",
        "X_train2 = X_train2/255.0\n",
        "X_test2 = X_test2/255.0\n",
        "y_train2 = tf.keras.utils.to_categorical(y_train2, num_classes = 5)\n",
        "y_test2 = tf.keras.utils.to_categorical(y_test2, num_classes = 5)\n",
        "\n",
        "## encoding the Y target and standardization of the X variables "
      ],
      "execution_count": 0,
      "outputs": []
    },
    {
      "cell_type": "code",
      "metadata": {
        "id": "vIFS6ceSkuaX",
        "colab_type": "code",
        "colab": {
          "base_uri": "https://localhost:8080/",
          "height": 235
        },
        "outputId": "b8162a12-6e9a-45da-f936-75ef2e7fdd37"
      },
      "source": [
        "model.fit(X_train2,y_train2,batch_size=100,epochs=5,validation_data=(X_test2,y_test2))\n",
        "\n",
        "## In this, Conv layers weights are not modified and only deep neural network weights are adjusted. (Transfer learning) "
      ],
      "execution_count": 14,
      "outputs": [
        {
          "output_type": "stream",
          "text": [
            "WARNING:tensorflow:Discrepancy between trainable weights and collected trainable weights, did you set `model.trainable` without calling `model.compile` after ?\n",
            "Train on 25000 samples, validate on 5000 samples\n",
            "Epoch 1/5\n",
            "25000/25000 [==============================] - 99s 4ms/sample - loss: 0.7174 - acc: 0.7619 - val_loss: 0.4848 - val_acc: 0.8232\n",
            "Epoch 2/5\n",
            "25000/25000 [==============================] - 100s 4ms/sample - loss: 0.3992 - acc: 0.8599 - val_loss: 0.4319 - val_acc: 0.8458\n",
            "Epoch 3/5\n",
            "25000/25000 [==============================] - 100s 4ms/sample - loss: 0.3346 - acc: 0.8817 - val_loss: 0.3575 - val_acc: 0.8718\n",
            "Epoch 4/5\n",
            "25000/25000 [==============================] - 100s 4ms/sample - loss: 0.2906 - acc: 0.8968 - val_loss: 0.3659 - val_acc: 0.8744\n",
            "Epoch 5/5\n",
            "25000/25000 [==============================] - 99s 4ms/sample - loss: 0.2521 - acc: 0.9100 - val_loss: 0.3038 - val_acc: 0.8934\n"
          ],
          "name": "stdout"
        },
        {
          "output_type": "execute_result",
          "data": {
            "text/plain": [
              "<tensorflow.python.keras.callbacks.History at 0x7f16f87364e0>"
            ]
          },
          "metadata": {
            "tags": []
          },
          "execution_count": 14
        }
      ]
    },
    {
      "cell_type": "code",
      "metadata": {
        "id": "d1ld0HuPk7A-",
        "colab_type": "code",
        "colab": {
          "base_uri": "https://localhost:8080/",
          "height": 50
        },
        "outputId": "3d61f4b0-bcfb-4ab1-dd16-28bc630d121f"
      },
      "source": [
        "scores = model.evaluate(X_train2,y_train2, verbose=0)\n",
        "print(\"Train Accuracy: %.2f%%\" % (scores[1]*100))\n",
        "scores = model.evaluate(X_test2,y_test2, verbose=0)\n",
        "print(\"Test Accuracy: %.2f%%\" % (scores[1]*100))"
      ],
      "execution_count": 15,
      "outputs": [
        {
          "output_type": "stream",
          "text": [
            "Train Accuracy: 93.68%\n",
            "Test Accuracy: 89.34%\n"
          ],
          "name": "stdout"
        }
      ]
    },
    {
      "cell_type": "code",
      "metadata": {
        "id": "MFc-KskHHeog",
        "colab_type": "code",
        "colab": {}
      },
      "source": [
        "y_test22=[]\n",
        "for idx,x in enumerate(y_test):\n",
        "    if(x>4):\n",
        "        y_test22.append(y_test[idx])\n",
        "y_test22=np.asarray(y_test22)\n",
        "y_test22=y_test22-5"
      ],
      "execution_count": 0,
      "outputs": []
    },
    {
      "cell_type": "code",
      "metadata": {
        "id": "eIG0uSwQ_NA5",
        "colab_type": "code",
        "colab": {
          "base_uri": "https://localhost:8080/",
          "height": 235
        },
        "outputId": "35841252-6422-4f82-d094-e3a87add60a1"
      },
      "source": [
        "print(\"Classification Report\")\n",
        "print(classification_report(y_test22,model.predict_classes(X_test2)))\n",
        "\n",
        "## Model performs good on the whole, with 85%+ avg accuracy on the test set. "
      ],
      "execution_count": 17,
      "outputs": [
        {
          "output_type": "stream",
          "text": [
            "Classification Report\n",
            "              precision    recall  f1-score   support\n",
            "\n",
            "           0       0.83      0.87      0.85      1000\n",
            "           1       0.90      0.93      0.91      1000\n",
            "           2       0.88      0.84      0.86      1000\n",
            "           3       0.93      0.93      0.93      1000\n",
            "           4       0.94      0.91      0.92      1000\n",
            "\n",
            "    accuracy                           0.89      5000\n",
            "   macro avg       0.89      0.89      0.89      5000\n",
            "weighted avg       0.89      0.89      0.89      5000\n",
            "\n"
          ],
          "name": "stdout"
        }
      ]
    },
    {
      "cell_type": "markdown",
      "metadata": {
        "id": "0zDuRecXzEtr",
        "colab_type": "text"
      },
      "source": [
        "# Text classification using TF-IDF"
      ]
    },
    {
      "cell_type": "markdown",
      "metadata": {
        "id": "xMPlEJhHzb6P",
        "colab_type": "text"
      },
      "source": [
        "### 6. Load the dataset from sklearn.datasets"
      ]
    },
    {
      "cell_type": "code",
      "metadata": {
        "id": "Fe-B59u3zHNb",
        "colab_type": "code",
        "colab": {}
      },
      "source": [
        "from sklearn.datasets import fetch_20newsgroups"
      ],
      "execution_count": 0,
      "outputs": []
    },
    {
      "cell_type": "code",
      "metadata": {
        "id": "PRrMemVQzbHU",
        "colab_type": "code",
        "colab": {}
      },
      "source": [
        "categories = ['alt.atheism', 'soc.religion.christian', 'comp.graphics', 'sci.med']"
      ],
      "execution_count": 0,
      "outputs": []
    },
    {
      "cell_type": "markdown",
      "metadata": {
        "id": "-sZX0UbJzmg5",
        "colab_type": "text"
      },
      "source": [
        "### 7. Training data"
      ]
    },
    {
      "cell_type": "code",
      "metadata": {
        "id": "CITr_5aXziJ2",
        "colab_type": "code",
        "colab": {
          "base_uri": "https://localhost:8080/",
          "height": 50
        },
        "outputId": "8d9aba68-7b08-4839-cc2e-e664f058a322"
      },
      "source": [
        "twenty_train = fetch_20newsgroups(subset='train', categories=categories, shuffle=True, random_state=42)"
      ],
      "execution_count": 20,
      "outputs": [
        {
          "output_type": "stream",
          "text": [
            "Downloading 20news dataset. This may take a few minutes.\n",
            "Downloading dataset from https://ndownloader.figshare.com/files/5975967 (14 MB)\n"
          ],
          "name": "stderr"
        }
      ]
    },
    {
      "cell_type": "markdown",
      "metadata": {
        "id": "xcESc5QXzr6p",
        "colab_type": "text"
      },
      "source": [
        "### 8. Test data"
      ]
    },
    {
      "cell_type": "code",
      "metadata": {
        "id": "ysInblUMzpvl",
        "colab_type": "code",
        "colab": {}
      },
      "source": [
        "twenty_test = fetch_20newsgroups(subset='test', categories=categories, shuffle=True, random_state=42)"
      ],
      "execution_count": 0,
      "outputs": []
    },
    {
      "cell_type": "markdown",
      "metadata": {
        "id": "DriL2yZ50DQq",
        "colab_type": "text"
      },
      "source": [
        "###  a.  You can access the values for the target variable using .target attribute \n",
        "###  b. You can access the name of the class in the target variable with .target_names\n"
      ]
    },
    {
      "cell_type": "code",
      "metadata": {
        "id": "vlUuai99z1hX",
        "colab_type": "code",
        "colab": {
          "base_uri": "https://localhost:8080/",
          "height": 34
        },
        "outputId": "c3921218-a61e-4508-d601-f6102a592e7c"
      },
      "source": [
        "twenty_train.target"
      ],
      "execution_count": 22,
      "outputs": [
        {
          "output_type": "execute_result",
          "data": {
            "text/plain": [
              "array([1, 1, 3, ..., 2, 2, 2])"
            ]
          },
          "metadata": {
            "tags": []
          },
          "execution_count": 22
        }
      ]
    },
    {
      "cell_type": "code",
      "metadata": {
        "id": "VEKzaDfSz5E-",
        "colab_type": "code",
        "colab": {
          "base_uri": "https://localhost:8080/",
          "height": 34
        },
        "outputId": "baebf66b-a8d1-4d27-e866-7662b82063c7"
      },
      "source": [
        "twenty_train.target_names"
      ],
      "execution_count": 23,
      "outputs": [
        {
          "output_type": "execute_result",
          "data": {
            "text/plain": [
              "['alt.atheism', 'comp.graphics', 'sci.med', 'soc.religion.christian']"
            ]
          },
          "metadata": {
            "tags": []
          },
          "execution_count": 23
        }
      ]
    },
    {
      "cell_type": "code",
      "metadata": {
        "id": "clBMKHzC0_N1",
        "colab_type": "code",
        "colab": {
          "base_uri": "https://localhost:8080/",
          "height": 104
        },
        "outputId": "48eac16b-33c5-4741-efbb-f902ff41b538"
      },
      "source": [
        "twenty_train.data[1:5]"
      ],
      "execution_count": 24,
      "outputs": [
        {
          "output_type": "execute_result",
          "data": {
            "text/plain": [
              "[\"From: ani@ms.uky.edu (Aniruddha B. Deglurkar)\\nSubject: help: Splitting a trimming region along a mesh \\nOrganization: University Of Kentucky, Dept. of Math Sciences\\nLines: 28\\n\\n\\n\\n\\tHi,\\n\\n\\tI have a problem, I hope some of the 'gurus' can help me solve.\\n\\n\\tBackground of the problem:\\n\\tI have a rectangular mesh in the uv domain, i.e  the mesh is a \\n\\tmapping of a 3d Bezier patch into 2d. The area in this domain\\n\\twhich is inside a trimming loop had to be rendered. The trimming\\n\\tloop is a set of 2d Bezier curve segments.\\n\\tFor the sake of notation: the mesh is made up of cells.\\n\\n\\tMy problem is this :\\n\\tThe trimming area has to be split up into individual smaller\\n\\tcells bounded by the trimming curve segments. If a cell\\n\\tis wholly inside the area...then it is output as a whole ,\\n\\telse it is trivially rejected. \\n\\n\\tDoes any body know how thiss can be done, or is there any algo. \\n\\tsomewhere for doing this.\\n\\n\\tAny help would be appreciated.\\n\\n\\tThanks, \\n\\tAni.\\n-- \\nTo get irritated is human, to stay cool, divine.\\n\",\n",
              " \"From: djohnson@cs.ucsd.edu (Darin Johnson)\\nSubject: Re: harrassed at work, could use some prayers\\nOrganization: =CSE Dept., U.C. San Diego\\nLines: 63\\n\\n(Well, I'll email also, but this may apply to other people, so\\nI'll post also.)\\n\\n>I've been working at this company for eight years in various\\n>engineering jobs.  I'm female.  Yesterday I counted and realized that\\n>on seven different occasions I've been sexually harrassed at this\\n>company.\\n\\n>I dreaded coming back to work today.  What if my boss comes in to ask\\n>me some kind of question...\\n\\nYour boss should be the person bring these problems to.  If he/she\\ndoes not seem to take any action, keep going up higher and higher.\\nSexual harrassment does not need to be tolerated, and it can be an\\nenormous emotional support to discuss this with someone and know that\\nthey are trying to do something about it.  If you feel you can not\\ndiscuss this with your boss, perhaps your company has a personnel\\ndepartment that can work for you while preserving your privacy.  Most\\ncompanies will want to deal with this problem because constant anxiety\\ndoes seriously affect how effectively employees do their jobs.\\n\\nIt is unclear from your letter if you have done this or not.  It is\\nnot inconceivable that management remains ignorant of employee\\nproblems/strife even after eight years (it's a miracle if they do\\nnotice).  Perhaps your manager did not bring to the attention of\\nhigher ups?  If the company indeed does seem to want to ignore the\\nentire problem, there may be a state agency willing to fight with\\nyou.  (check with a lawyer, a women's resource center, etc to find out)\\n\\nYou may also want to discuss this with your paster, priest, husband,\\netc.  That is, someone you know will not be judgemental and that is\\nsupportive, comforting, etc.  This will bring a lot of healing.\\n\\n>So I returned at 11:25, only to find that ever single\\n>person had already left for lunch.  They left at 11:15 or so.  No one\\n>could be bothered to call me at the other building, even though my\\n>number was posted.\\n\\nThis happens to a lot of people.  Honest.  I believe it may seem\\nto be due to gross insensitivity because of the feelings you are\\ngoing through.  People in offices tend to be more insensitive while\\nworking than they normally are (maybe it's the hustle or stress or...)\\nI've had this happen to me a lot, often because they didn't realize\\nmy car was broken, etc.  Then they will come back and wonder why I\\ndidn't want to go (this would tend to make me stop being angry at\\nbeing ignored and make me laugh).  Once, we went off without our\\nboss, who was paying for the lunch :-)\\n\\n>For this\\n>reason I hope good Mr. Moderator allows me this latest indulgence.\\n\\nWell, if you can't turn to the computer for support, what would\\nwe do?  (signs of the computer age :-)\\n\\nIn closing, please don't let the hateful actions of a single person\\nharm you.  They are doing it because they are still the playground\\nbully and enjoy seeing the hurt they cause.  And you should not\\naccept the opinions of an imbecile that you are worthless - much\\nwiser people hold you in great esteem.\\n-- \\nDarin Johnson\\ndjohnson@ucsd.edu\\n  - Luxury!  In MY day, we had to make do with 5 bytes of swap...\\n\",\n",
              " 'From: s0612596@let.rug.nl (M.M. Zwart)\\nSubject: catholic church poland\\nOrganization: Faculteit der Letteren, Rijksuniversiteit Groningen, NL\\nLines: 10\\n\\nHello,\\n\\nI\\'m writing a paper on the role of the catholic church in Poland after 1989. \\nCan anyone tell me more about this, or fill me in on recent books/articles(\\nin english, german or french). Most important for me is the role of the \\nchurch concerning the abortion-law, religious education at schools,\\nbirth-control and the relation church-state(government). Thanx,\\n\\n                                                 Masja,\\n\"M.M.Zwart\"<s0612596@let.rug.nl>\\n',\n",
              " 'From: stanly@grok11.columbiasc.ncr.com (stanly)\\nSubject: Re: Elder Brother\\nOrganization: NCR Corp., Columbia SC\\nLines: 15\\n\\nIn article <Apr.8.00.57.41.1993.28246@athos.rutgers.edu> REXLEX@fnal.gov writes:\\n>In article <Apr.7.01.56.56.1993.22824@athos.rutgers.edu> shrum@hpfcso.fc.hp.com\\n>Matt. 22:9-14 \\'Go therefore to the main highways, and as many as you find\\n>there, invite to the wedding feast.\\'...\\n\\n>hmmmmmm.  Sounds like your theology and Christ\\'s are at odds. Which one am I \\n>to believe?\\n\\nIn this parable, Jesus tells the parable of the wedding feast. \"The kingdom\\nof heaven is like unto a certain king which made a marriage for his son\".\\nSo the wedding clothes were customary,  and \"given\" to those who \"chose\" to\\nattend.  This man \"refused\" to wear the clothes.  The wedding clothes are\\nequalivant to the \"clothes of righteousness\".  When Jesus died for our sins,\\nthose \"clothes\" were then provided.  Like that man, it is our decision to\\nput the clothes on.\\n']"
            ]
          },
          "metadata": {
            "tags": []
          },
          "execution_count": 24
        }
      ]
    },
    {
      "cell_type": "markdown",
      "metadata": {
        "id": "hTz4EaN_1WGc",
        "colab_type": "text"
      },
      "source": [
        "### 9.  Now with dependent and independent data available for both train and test datasets, using TfidfVectorizer fit and transform the training data and test data and get the tfidf features for both"
      ]
    },
    {
      "cell_type": "code",
      "metadata": {
        "id": "H5G477f81C0Z",
        "colab_type": "code",
        "colab": {}
      },
      "source": [
        "from sklearn.feature_extraction.text import CountVectorizer, TfidfVectorizer\n",
        "vect = CountVectorizer(stop_words='english',ngram_range=(1,2),min_df=2)\n",
        "X_train_dtm = vect.fit_transform(twenty_train.data)\n",
        "X_test_dtm = vect.transform(twenty_test.data)\n",
        "\n",
        "##Creating Tf-idf for both Test and Train with standard ENGLISH stop words and ngram range of (1,2) and min_df as 2"
      ],
      "execution_count": 0,
      "outputs": []
    },
    {
      "cell_type": "markdown",
      "metadata": {
        "id": "tp_fDINJ1t4L",
        "colab_type": "text"
      },
      "source": [
        "### 10. Use logisticRegression with tfidf features as input and targets as output and train the model and report the train and test accuracy score"
      ]
    },
    {
      "cell_type": "code",
      "metadata": {
        "id": "THlN2b5d1yQp",
        "colab_type": "code",
        "colab": {}
      },
      "source": [
        "from sklearn.linear_model import LogisticRegression\n",
        "lg = LogisticRegression()"
      ],
      "execution_count": 0,
      "outputs": []
    },
    {
      "cell_type": "code",
      "metadata": {
        "id": "olJ1Od_aM6Iy",
        "colab_type": "code",
        "colab": {
          "base_uri": "https://localhost:8080/",
          "height": 101
        },
        "outputId": "676a7a30-9669-4fc6-c279-7e3cc791f37f"
      },
      "source": [
        "from sklearn import metrics\n",
        "lg.fit(X_train_dtm, twenty_train.target)\n",
        "\n",
        "##fitting the data to logistic regression model\n"
      ],
      "execution_count": 27,
      "outputs": [
        {
          "output_type": "execute_result",
          "data": {
            "text/plain": [
              "LogisticRegression(C=1.0, class_weight=None, dual=False, fit_intercept=True,\n",
              "                   intercept_scaling=1, l1_ratio=None, max_iter=100,\n",
              "                   multi_class='auto', n_jobs=None, penalty='l2',\n",
              "                   random_state=None, solver='lbfgs', tol=0.0001, verbose=0,\n",
              "                   warm_start=False)"
            ]
          },
          "metadata": {
            "tags": []
          },
          "execution_count": 27
        }
      ]
    },
    {
      "cell_type": "code",
      "metadata": {
        "id": "nVIe7fZ0NRGw",
        "colab_type": "code",
        "colab": {
          "base_uri": "https://localhost:8080/",
          "height": 34
        },
        "outputId": "15e390ba-79e3-4896-83f0-e0b6220d763e"
      },
      "source": [
        "y_pred_class = lg.predict(X_train_dtm)\n",
        "print('Train Accuracy: ', metrics.accuracy_score(twenty_train.target, y_pred_class))"
      ],
      "execution_count": 28,
      "outputs": [
        {
          "output_type": "stream",
          "text": [
            "Train Accuracy:  1.0\n"
          ],
          "name": "stdout"
        }
      ]
    },
    {
      "cell_type": "code",
      "metadata": {
        "id": "gxGNGZBEM6TE",
        "colab_type": "code",
        "colab": {
          "base_uri": "https://localhost:8080/",
          "height": 34
        },
        "outputId": "8b41a7f7-3d76-4b55-cda7-85b485fdea11"
      },
      "source": [
        "y_pred_class = lg.predict(X_test_dtm)\n",
        "print('Test Accuracy: ', metrics.accuracy_score(twenty_test.target, y_pred_class))\n",
        "\n",
        "## we have a model with 90%+ accuracy on the test set."
      ],
      "execution_count": 29,
      "outputs": [
        {
          "output_type": "stream",
          "text": [
            "Test Accuracy:  0.9041278295605859\n"
          ],
          "name": "stdout"
        }
      ]
    }
  ]
}