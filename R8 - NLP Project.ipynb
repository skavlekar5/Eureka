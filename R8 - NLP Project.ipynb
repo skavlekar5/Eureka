{
  "nbformat": 4,
  "nbformat_minor": 0,
  "metadata": {
    "colab": {
      "name": "Untitled0.ipynb",
      "provenance": []
    },
    "kernelspec": {
      "name": "python3",
      "display_name": "Python 3"
    }
  },
  "cells": [
    {
      "cell_type": "markdown",
      "metadata": {
        "id": "lwGzVyVjlhdT",
        "colab_type": "text"
      },
      "source": [
        "# 1.Load the dataset (5 points) a. Tip: As the dataset is large, use fewer rows. Check what is working well on your machine and decide accordingly."
      ]
    },
    {
      "cell_type": "code",
      "metadata": {
        "id": "kkMl3YTRlXl7",
        "colab_type": "code",
        "colab": {}
      },
      "source": [
        "import pandas as pd\n",
        "import numpy as np"
      ],
      "execution_count": 0,
      "outputs": []
    },
    {
      "cell_type": "code",
      "metadata": {
        "id": "MSO48ia0kZ3c",
        "colab_type": "code",
        "colab": {}
      },
      "source": [
        "#from google.colab import drive\n",
        "#drive.mount('/content/gdrive')"
      ],
      "execution_count": 0,
      "outputs": []
    },
    {
      "cell_type": "code",
      "metadata": {
        "id": "j3oyMqNbj9mu",
        "colab_type": "code",
        "colab": {}
      },
      "source": [
        "df = pd.read_csv('drive/My Drive/AIML/blogtext.csv')"
      ],
      "execution_count": 0,
      "outputs": []
    },
    {
      "cell_type": "code",
      "metadata": {
        "id": "6nRfGW_DkjwZ",
        "colab_type": "code",
        "outputId": "bc0ce4dc-c58e-4a39-fb02-eb86eec26db3",
        "colab": {
          "base_uri": "https://localhost:8080/",
          "height": 206
        }
      },
      "source": [
        "df.head()"
      ],
      "execution_count": 4,
      "outputs": [
        {
          "output_type": "execute_result",
          "data": {
            "text/html": [
              "<div>\n",
              "<style scoped>\n",
              "    .dataframe tbody tr th:only-of-type {\n",
              "        vertical-align: middle;\n",
              "    }\n",
              "\n",
              "    .dataframe tbody tr th {\n",
              "        vertical-align: top;\n",
              "    }\n",
              "\n",
              "    .dataframe thead th {\n",
              "        text-align: right;\n",
              "    }\n",
              "</style>\n",
              "<table border=\"1\" class=\"dataframe\">\n",
              "  <thead>\n",
              "    <tr style=\"text-align: right;\">\n",
              "      <th></th>\n",
              "      <th>id</th>\n",
              "      <th>gender</th>\n",
              "      <th>age</th>\n",
              "      <th>topic</th>\n",
              "      <th>sign</th>\n",
              "      <th>date</th>\n",
              "      <th>text</th>\n",
              "    </tr>\n",
              "  </thead>\n",
              "  <tbody>\n",
              "    <tr>\n",
              "      <th>0</th>\n",
              "      <td>2059027</td>\n",
              "      <td>male</td>\n",
              "      <td>15</td>\n",
              "      <td>Student</td>\n",
              "      <td>Leo</td>\n",
              "      <td>14,May,2004</td>\n",
              "      <td>Info has been found (+/- 100 pages,...</td>\n",
              "    </tr>\n",
              "    <tr>\n",
              "      <th>1</th>\n",
              "      <td>2059027</td>\n",
              "      <td>male</td>\n",
              "      <td>15</td>\n",
              "      <td>Student</td>\n",
              "      <td>Leo</td>\n",
              "      <td>13,May,2004</td>\n",
              "      <td>These are the team members:   Drewe...</td>\n",
              "    </tr>\n",
              "    <tr>\n",
              "      <th>2</th>\n",
              "      <td>2059027</td>\n",
              "      <td>male</td>\n",
              "      <td>15</td>\n",
              "      <td>Student</td>\n",
              "      <td>Leo</td>\n",
              "      <td>12,May,2004</td>\n",
              "      <td>In het kader van kernfusie op aarde...</td>\n",
              "    </tr>\n",
              "    <tr>\n",
              "      <th>3</th>\n",
              "      <td>2059027</td>\n",
              "      <td>male</td>\n",
              "      <td>15</td>\n",
              "      <td>Student</td>\n",
              "      <td>Leo</td>\n",
              "      <td>12,May,2004</td>\n",
              "      <td>testing!!!  testing!!!</td>\n",
              "    </tr>\n",
              "    <tr>\n",
              "      <th>4</th>\n",
              "      <td>3581210</td>\n",
              "      <td>male</td>\n",
              "      <td>33</td>\n",
              "      <td>InvestmentBanking</td>\n",
              "      <td>Aquarius</td>\n",
              "      <td>11,June,2004</td>\n",
              "      <td>Thanks to Yahoo!'s Toolbar I can ...</td>\n",
              "    </tr>\n",
              "  </tbody>\n",
              "</table>\n",
              "</div>"
            ],
            "text/plain": [
              "        id  ...                                               text\n",
              "0  2059027  ...             Info has been found (+/- 100 pages,...\n",
              "1  2059027  ...             These are the team members:   Drewe...\n",
              "2  2059027  ...             In het kader van kernfusie op aarde...\n",
              "3  2059027  ...                   testing!!!  testing!!!          \n",
              "4  3581210  ...               Thanks to Yahoo!'s Toolbar I can ...\n",
              "\n",
              "[5 rows x 7 columns]"
            ]
          },
          "metadata": {
            "tags": []
          },
          "execution_count": 4
        }
      ]
    },
    {
      "cell_type": "code",
      "metadata": {
        "id": "fyZzgNwLkoe2",
        "colab_type": "code",
        "colab": {}
      },
      "source": [
        "#dropping the date column\n",
        "df=df.drop(\"date\",axis=1)"
      ],
      "execution_count": 0,
      "outputs": []
    },
    {
      "cell_type": "code",
      "metadata": {
        "id": "kniSkB82koh0",
        "colab_type": "code",
        "outputId": "4cbba8d6-38bd-4c54-ca6d-a485a6f816d7",
        "colab": {
          "base_uri": "https://localhost:8080/",
          "height": 206
        }
      },
      "source": [
        "df.head()"
      ],
      "execution_count": 6,
      "outputs": [
        {
          "output_type": "execute_result",
          "data": {
            "text/html": [
              "<div>\n",
              "<style scoped>\n",
              "    .dataframe tbody tr th:only-of-type {\n",
              "        vertical-align: middle;\n",
              "    }\n",
              "\n",
              "    .dataframe tbody tr th {\n",
              "        vertical-align: top;\n",
              "    }\n",
              "\n",
              "    .dataframe thead th {\n",
              "        text-align: right;\n",
              "    }\n",
              "</style>\n",
              "<table border=\"1\" class=\"dataframe\">\n",
              "  <thead>\n",
              "    <tr style=\"text-align: right;\">\n",
              "      <th></th>\n",
              "      <th>id</th>\n",
              "      <th>gender</th>\n",
              "      <th>age</th>\n",
              "      <th>topic</th>\n",
              "      <th>sign</th>\n",
              "      <th>text</th>\n",
              "    </tr>\n",
              "  </thead>\n",
              "  <tbody>\n",
              "    <tr>\n",
              "      <th>0</th>\n",
              "      <td>2059027</td>\n",
              "      <td>male</td>\n",
              "      <td>15</td>\n",
              "      <td>Student</td>\n",
              "      <td>Leo</td>\n",
              "      <td>Info has been found (+/- 100 pages,...</td>\n",
              "    </tr>\n",
              "    <tr>\n",
              "      <th>1</th>\n",
              "      <td>2059027</td>\n",
              "      <td>male</td>\n",
              "      <td>15</td>\n",
              "      <td>Student</td>\n",
              "      <td>Leo</td>\n",
              "      <td>These are the team members:   Drewe...</td>\n",
              "    </tr>\n",
              "    <tr>\n",
              "      <th>2</th>\n",
              "      <td>2059027</td>\n",
              "      <td>male</td>\n",
              "      <td>15</td>\n",
              "      <td>Student</td>\n",
              "      <td>Leo</td>\n",
              "      <td>In het kader van kernfusie op aarde...</td>\n",
              "    </tr>\n",
              "    <tr>\n",
              "      <th>3</th>\n",
              "      <td>2059027</td>\n",
              "      <td>male</td>\n",
              "      <td>15</td>\n",
              "      <td>Student</td>\n",
              "      <td>Leo</td>\n",
              "      <td>testing!!!  testing!!!</td>\n",
              "    </tr>\n",
              "    <tr>\n",
              "      <th>4</th>\n",
              "      <td>3581210</td>\n",
              "      <td>male</td>\n",
              "      <td>33</td>\n",
              "      <td>InvestmentBanking</td>\n",
              "      <td>Aquarius</td>\n",
              "      <td>Thanks to Yahoo!'s Toolbar I can ...</td>\n",
              "    </tr>\n",
              "  </tbody>\n",
              "</table>\n",
              "</div>"
            ],
            "text/plain": [
              "        id gender  ...      sign                                               text\n",
              "0  2059027   male  ...       Leo             Info has been found (+/- 100 pages,...\n",
              "1  2059027   male  ...       Leo             These are the team members:   Drewe...\n",
              "2  2059027   male  ...       Leo             In het kader van kernfusie op aarde...\n",
              "3  2059027   male  ...       Leo                   testing!!!  testing!!!          \n",
              "4  3581210   male  ...  Aquarius               Thanks to Yahoo!'s Toolbar I can ...\n",
              "\n",
              "[5 rows x 6 columns]"
            ]
          },
          "metadata": {
            "tags": []
          },
          "execution_count": 6
        }
      ]
    },
    {
      "cell_type": "code",
      "metadata": {
        "id": "KOUveaoIkokP",
        "colab_type": "code",
        "outputId": "7bf2c821-bd2b-4fea-9f34-49ab0fba7a19",
        "colab": {
          "base_uri": "https://localhost:8080/",
          "height": 235
        }
      },
      "source": [
        "#number of unique id value counts\n",
        "df.id.value_counts()"
      ],
      "execution_count": 7,
      "outputs": [
        {
          "output_type": "execute_result",
          "data": {
            "text/plain": [
              "449628     4221\n",
              "734562     2301\n",
              "589736     2294\n",
              "1975546    2261\n",
              "958176     2244\n",
              "           ... \n",
              "3993280       1\n",
              "3483063       1\n",
              "4165047       1\n",
              "3575447       1\n",
              "3599127       1\n",
              "Name: id, Length: 19320, dtype: int64"
            ]
          },
          "metadata": {
            "tags": []
          },
          "execution_count": 7
        }
      ]
    },
    {
      "cell_type": "code",
      "metadata": {
        "id": "rwrwOBNskomz",
        "colab_type": "code",
        "outputId": "a19a3176-61b7-4b35-b1ca-304aede07bc8",
        "colab": {
          "base_uri": "https://localhost:8080/",
          "height": 53
        }
      },
      "source": [
        "#choosing the data - unique id who have witten more than 1500 blogs are choosen\n",
        "blogtext_count = df[\"id\"].value_counts()\n",
        "index = blogtext_count[blogtext_count >1500].index.tolist()\n",
        "df_new = df[(df['id'].isin(index))]\n",
        "print('The original data frame shape:\\t{}'.format(df.shape))\n",
        "print('The new data frame shape:\\t{}'.format(df_new.shape))"
      ],
      "execution_count": 8,
      "outputs": [
        {
          "output_type": "stream",
          "text": [
            "The original data frame shape:\t(681284, 6)\n",
            "The new data frame shape:\t(38028, 6)\n"
          ],
          "name": "stdout"
        }
      ]
    },
    {
      "cell_type": "code",
      "metadata": {
        "id": "oKsBE8akkops",
        "colab_type": "code",
        "colab": {}
      },
      "source": [
        "df_new=df_new.reset_index()"
      ],
      "execution_count": 0,
      "outputs": []
    },
    {
      "cell_type": "code",
      "metadata": {
        "id": "eaVEHj0fkos2",
        "colab_type": "code",
        "outputId": "4c5fd843-bd2f-412f-bf88-cbdd46ffb909",
        "colab": {
          "base_uri": "https://localhost:8080/",
          "height": 363
        }
      },
      "source": [
        "df_new=df_new.drop(\"index\",axis=1)\n",
        "df_new.head(10)"
      ],
      "execution_count": 10,
      "outputs": [
        {
          "output_type": "execute_result",
          "data": {
            "text/html": [
              "<div>\n",
              "<style scoped>\n",
              "    .dataframe tbody tr th:only-of-type {\n",
              "        vertical-align: middle;\n",
              "    }\n",
              "\n",
              "    .dataframe tbody tr th {\n",
              "        vertical-align: top;\n",
              "    }\n",
              "\n",
              "    .dataframe thead th {\n",
              "        text-align: right;\n",
              "    }\n",
              "</style>\n",
              "<table border=\"1\" class=\"dataframe\">\n",
              "  <thead>\n",
              "    <tr style=\"text-align: right;\">\n",
              "      <th></th>\n",
              "      <th>id</th>\n",
              "      <th>gender</th>\n",
              "      <th>age</th>\n",
              "      <th>topic</th>\n",
              "      <th>sign</th>\n",
              "      <th>text</th>\n",
              "    </tr>\n",
              "  </thead>\n",
              "  <tbody>\n",
              "    <tr>\n",
              "      <th>0</th>\n",
              "      <td>589736</td>\n",
              "      <td>male</td>\n",
              "      <td>35</td>\n",
              "      <td>Technology</td>\n",
              "      <td>Aries</td>\n",
              "      <td>Much funny.  2 points.  As mentioned in the...</td>\n",
              "    </tr>\n",
              "    <tr>\n",
              "      <th>1</th>\n",
              "      <td>589736</td>\n",
              "      <td>male</td>\n",
              "      <td>35</td>\n",
              "      <td>Technology</td>\n",
              "      <td>Aries</td>\n",
              "      <td>Harpers, Harpers, everywhere.  Harpers, Har...</td>\n",
              "    </tr>\n",
              "    <tr>\n",
              "      <th>2</th>\n",
              "      <td>589736</td>\n",
              "      <td>male</td>\n",
              "      <td>35</td>\n",
              "      <td>Technology</td>\n",
              "      <td>Aries</td>\n",
              "      <td>In an earlier post, Johnathan said:   'And ...</td>\n",
              "    </tr>\n",
              "    <tr>\n",
              "      <th>3</th>\n",
              "      <td>589736</td>\n",
              "      <td>male</td>\n",
              "      <td>35</td>\n",
              "      <td>Technology</td>\n",
              "      <td>Aries</td>\n",
              "      <td>I'd post this on the RTG Blog, but I can't...</td>\n",
              "    </tr>\n",
              "    <tr>\n",
              "      <th>4</th>\n",
              "      <td>589736</td>\n",
              "      <td>male</td>\n",
              "      <td>35</td>\n",
              "      <td>Technology</td>\n",
              "      <td>Aries</td>\n",
              "      <td>The answer to the first question lies with ...</td>\n",
              "    </tr>\n",
              "    <tr>\n",
              "      <th>5</th>\n",
              "      <td>589736</td>\n",
              "      <td>male</td>\n",
              "      <td>35</td>\n",
              "      <td>Technology</td>\n",
              "      <td>Aries</td>\n",
              "      <td>it seems odd to think of brother ian as hav...</td>\n",
              "    </tr>\n",
              "    <tr>\n",
              "      <th>6</th>\n",
              "      <td>589736</td>\n",
              "      <td>male</td>\n",
              "      <td>35</td>\n",
              "      <td>Technology</td>\n",
              "      <td>Aries</td>\n",
              "      <td>since our next game is the weekend of hallo...</td>\n",
              "    </tr>\n",
              "    <tr>\n",
              "      <th>7</th>\n",
              "      <td>589736</td>\n",
              "      <td>male</td>\n",
              "      <td>35</td>\n",
              "      <td>Technology</td>\n",
              "      <td>Aries</td>\n",
              "      <td>- Hillsfar, ruled by Lord Malthiir, believe...</td>\n",
              "    </tr>\n",
              "    <tr>\n",
              "      <th>8</th>\n",
              "      <td>589736</td>\n",
              "      <td>male</td>\n",
              "      <td>35</td>\n",
              "      <td>Technology</td>\n",
              "      <td>Aries</td>\n",
              "      <td>It's okay, rock lobster.  All is well.  If ...</td>\n",
              "    </tr>\n",
              "    <tr>\n",
              "      <th>9</th>\n",
              "      <td>589736</td>\n",
              "      <td>male</td>\n",
              "      <td>35</td>\n",
              "      <td>Technology</td>\n",
              "      <td>Aries</td>\n",
              "      <td>perhaps we can have it that if an email is ...</td>\n",
              "    </tr>\n",
              "  </tbody>\n",
              "</table>\n",
              "</div>"
            ],
            "text/plain": [
              "       id gender  ...   sign                                               text\n",
              "0  589736   male  ...  Aries     Much funny.  2 points.  As mentioned in the...\n",
              "1  589736   male  ...  Aries     Harpers, Harpers, everywhere.  Harpers, Har...\n",
              "2  589736   male  ...  Aries     In an earlier post, Johnathan said:   'And ...\n",
              "3  589736   male  ...  Aries      I'd post this on the RTG Blog, but I can't...\n",
              "4  589736   male  ...  Aries     The answer to the first question lies with ...\n",
              "5  589736   male  ...  Aries     it seems odd to think of brother ian as hav...\n",
              "6  589736   male  ...  Aries     since our next game is the weekend of hallo...\n",
              "7  589736   male  ...  Aries     - Hillsfar, ruled by Lord Malthiir, believe...\n",
              "8  589736   male  ...  Aries     It's okay, rock lobster.  All is well.  If ...\n",
              "9  589736   male  ...  Aries     perhaps we can have it that if an email is ...\n",
              "\n",
              "[10 rows x 6 columns]"
            ]
          },
          "metadata": {
            "tags": []
          },
          "execution_count": 10
        }
      ]
    },
    {
      "cell_type": "code",
      "metadata": {
        "id": "-YbIA7FEH_iy",
        "colab_type": "code",
        "colab": {}
      },
      "source": [
        "#taking a sample of 30000 records and saving in df1, so that we can avoid memory issues.\n",
        "df1=df_new.sample(30000)"
      ],
      "execution_count": 0,
      "outputs": []
    },
    {
      "cell_type": "code",
      "metadata": {
        "id": "R2F0FgdDIpFO",
        "colab_type": "code",
        "colab": {
          "base_uri": "https://localhost:8080/",
          "height": 363
        },
        "outputId": "82b333f9-a2f7-4ba0-adcb-f1cfe740ff38"
      },
      "source": [
        "df1.head(10)"
      ],
      "execution_count": 12,
      "outputs": [
        {
          "output_type": "execute_result",
          "data": {
            "text/html": [
              "<div>\n",
              "<style scoped>\n",
              "    .dataframe tbody tr th:only-of-type {\n",
              "        vertical-align: middle;\n",
              "    }\n",
              "\n",
              "    .dataframe tbody tr th {\n",
              "        vertical-align: top;\n",
              "    }\n",
              "\n",
              "    .dataframe thead th {\n",
              "        text-align: right;\n",
              "    }\n",
              "</style>\n",
              "<table border=\"1\" class=\"dataframe\">\n",
              "  <thead>\n",
              "    <tr style=\"text-align: right;\">\n",
              "      <th></th>\n",
              "      <th>id</th>\n",
              "      <th>gender</th>\n",
              "      <th>age</th>\n",
              "      <th>topic</th>\n",
              "      <th>sign</th>\n",
              "      <th>text</th>\n",
              "    </tr>\n",
              "  </thead>\n",
              "  <tbody>\n",
              "    <tr>\n",
              "      <th>6786</th>\n",
              "      <td>1093691</td>\n",
              "      <td>male</td>\n",
              "      <td>17</td>\n",
              "      <td>Technology</td>\n",
              "      <td>Taurus</td>\n",
              "      <td>Hopefully. Some of us poor soul's m...</td>\n",
              "    </tr>\n",
              "    <tr>\n",
              "      <th>33334</th>\n",
              "      <td>1107146</td>\n",
              "      <td>female</td>\n",
              "      <td>16</td>\n",
              "      <td>Student</td>\n",
              "      <td>Libra</td>\n",
              "      <td>The only thing anyone can do ...</td>\n",
              "    </tr>\n",
              "    <tr>\n",
              "      <th>32158</th>\n",
              "      <td>1107146</td>\n",
              "      <td>female</td>\n",
              "      <td>16</td>\n",
              "      <td>Student</td>\n",
              "      <td>Libra</td>\n",
              "      <td>And you reminded me of that little phra...</td>\n",
              "    </tr>\n",
              "    <tr>\n",
              "      <th>36000</th>\n",
              "      <td>1975546</td>\n",
              "      <td>female</td>\n",
              "      <td>23</td>\n",
              "      <td>indUnk</td>\n",
              "      <td>Aries</td>\n",
              "      <td>is like a very, very good afterscho...</td>\n",
              "    </tr>\n",
              "    <tr>\n",
              "      <th>28364</th>\n",
              "      <td>1078410</td>\n",
              "      <td>male</td>\n",
              "      <td>16</td>\n",
              "      <td>indUnk</td>\n",
              "      <td>Cancer</td>\n",
              "      <td>Update: well I recently finished Ch...</td>\n",
              "    </tr>\n",
              "    <tr>\n",
              "      <th>32716</th>\n",
              "      <td>1107146</td>\n",
              "      <td>female</td>\n",
              "      <td>16</td>\n",
              "      <td>Student</td>\n",
              "      <td>Libra</td>\n",
              "      <td>I'm home, but I'm going back ...</td>\n",
              "    </tr>\n",
              "    <tr>\n",
              "      <th>31365</th>\n",
              "      <td>942828</td>\n",
              "      <td>female</td>\n",
              "      <td>34</td>\n",
              "      <td>indUnk</td>\n",
              "      <td>Cancer</td>\n",
              "      <td>The Solemnity of the Most Sa...</td>\n",
              "    </tr>\n",
              "    <tr>\n",
              "      <th>29343</th>\n",
              "      <td>1078410</td>\n",
              "      <td>male</td>\n",
              "      <td>16</td>\n",
              "      <td>indUnk</td>\n",
              "      <td>Cancer</td>\n",
              "      <td>Thomas Hamil interview   http://ww...</td>\n",
              "    </tr>\n",
              "    <tr>\n",
              "      <th>6666</th>\n",
              "      <td>1093691</td>\n",
              "      <td>male</td>\n",
              "      <td>17</td>\n",
              "      <td>Technology</td>\n",
              "      <td>Taurus</td>\n",
              "      <td>This is starting to turn into a one...</td>\n",
              "    </tr>\n",
              "    <tr>\n",
              "      <th>585</th>\n",
              "      <td>589736</td>\n",
              "      <td>male</td>\n",
              "      <td>35</td>\n",
              "      <td>Technology</td>\n",
              "      <td>Aries</td>\n",
              "      <td>done and done.</td>\n",
              "    </tr>\n",
              "  </tbody>\n",
              "</table>\n",
              "</div>"
            ],
            "text/plain": [
              "            id  ...                                               text\n",
              "6786   1093691  ...             Hopefully. Some of us poor soul's m...\n",
              "33334  1107146  ...                   The only thing anyone can do ...\n",
              "32158  1107146  ...         And you reminded me of that little phra...\n",
              "36000  1975546  ...             is like a very, very good afterscho...\n",
              "28364  1078410  ...             Update: well I recently finished Ch...\n",
              "32716  1107146  ...                   I'm home, but I'm going back ...\n",
              "31365   942828  ...                    The Solemnity of the Most Sa...\n",
              "29343  1078410  ...              Thomas Hamil interview   http://ww...\n",
              "6666   1093691  ...             This is starting to turn into a one...\n",
              "585     589736  ...                            done and done.         \n",
              "\n",
              "[10 rows x 6 columns]"
            ]
          },
          "metadata": {
            "tags": []
          },
          "execution_count": 12
        }
      ]
    },
    {
      "cell_type": "code",
      "metadata": {
        "id": "2vGMbLEaIyt3",
        "colab_type": "code",
        "colab": {}
      },
      "source": [
        "df1=df1.reset_index()"
      ],
      "execution_count": 0,
      "outputs": []
    },
    {
      "cell_type": "code",
      "metadata": {
        "id": "Jr8Mk-8QI1yh",
        "colab_type": "code",
        "colab": {
          "base_uri": "https://localhost:8080/",
          "height": 363
        },
        "outputId": "537b9081-d1d6-4f3b-d409-0fc5d082d921"
      },
      "source": [
        "df1=df1.drop(\"index\",axis=1)\n",
        "df1.head(10)"
      ],
      "execution_count": 14,
      "outputs": [
        {
          "output_type": "execute_result",
          "data": {
            "text/html": [
              "<div>\n",
              "<style scoped>\n",
              "    .dataframe tbody tr th:only-of-type {\n",
              "        vertical-align: middle;\n",
              "    }\n",
              "\n",
              "    .dataframe tbody tr th {\n",
              "        vertical-align: top;\n",
              "    }\n",
              "\n",
              "    .dataframe thead th {\n",
              "        text-align: right;\n",
              "    }\n",
              "</style>\n",
              "<table border=\"1\" class=\"dataframe\">\n",
              "  <thead>\n",
              "    <tr style=\"text-align: right;\">\n",
              "      <th></th>\n",
              "      <th>id</th>\n",
              "      <th>gender</th>\n",
              "      <th>age</th>\n",
              "      <th>topic</th>\n",
              "      <th>sign</th>\n",
              "      <th>text</th>\n",
              "    </tr>\n",
              "  </thead>\n",
              "  <tbody>\n",
              "    <tr>\n",
              "      <th>0</th>\n",
              "      <td>1093691</td>\n",
              "      <td>male</td>\n",
              "      <td>17</td>\n",
              "      <td>Technology</td>\n",
              "      <td>Taurus</td>\n",
              "      <td>Hopefully. Some of us poor soul's m...</td>\n",
              "    </tr>\n",
              "    <tr>\n",
              "      <th>1</th>\n",
              "      <td>1107146</td>\n",
              "      <td>female</td>\n",
              "      <td>16</td>\n",
              "      <td>Student</td>\n",
              "      <td>Libra</td>\n",
              "      <td>The only thing anyone can do ...</td>\n",
              "    </tr>\n",
              "    <tr>\n",
              "      <th>2</th>\n",
              "      <td>1107146</td>\n",
              "      <td>female</td>\n",
              "      <td>16</td>\n",
              "      <td>Student</td>\n",
              "      <td>Libra</td>\n",
              "      <td>And you reminded me of that little phra...</td>\n",
              "    </tr>\n",
              "    <tr>\n",
              "      <th>3</th>\n",
              "      <td>1975546</td>\n",
              "      <td>female</td>\n",
              "      <td>23</td>\n",
              "      <td>indUnk</td>\n",
              "      <td>Aries</td>\n",
              "      <td>is like a very, very good afterscho...</td>\n",
              "    </tr>\n",
              "    <tr>\n",
              "      <th>4</th>\n",
              "      <td>1078410</td>\n",
              "      <td>male</td>\n",
              "      <td>16</td>\n",
              "      <td>indUnk</td>\n",
              "      <td>Cancer</td>\n",
              "      <td>Update: well I recently finished Ch...</td>\n",
              "    </tr>\n",
              "    <tr>\n",
              "      <th>5</th>\n",
              "      <td>1107146</td>\n",
              "      <td>female</td>\n",
              "      <td>16</td>\n",
              "      <td>Student</td>\n",
              "      <td>Libra</td>\n",
              "      <td>I'm home, but I'm going back ...</td>\n",
              "    </tr>\n",
              "    <tr>\n",
              "      <th>6</th>\n",
              "      <td>942828</td>\n",
              "      <td>female</td>\n",
              "      <td>34</td>\n",
              "      <td>indUnk</td>\n",
              "      <td>Cancer</td>\n",
              "      <td>The Solemnity of the Most Sa...</td>\n",
              "    </tr>\n",
              "    <tr>\n",
              "      <th>7</th>\n",
              "      <td>1078410</td>\n",
              "      <td>male</td>\n",
              "      <td>16</td>\n",
              "      <td>indUnk</td>\n",
              "      <td>Cancer</td>\n",
              "      <td>Thomas Hamil interview   http://ww...</td>\n",
              "    </tr>\n",
              "    <tr>\n",
              "      <th>8</th>\n",
              "      <td>1093691</td>\n",
              "      <td>male</td>\n",
              "      <td>17</td>\n",
              "      <td>Technology</td>\n",
              "      <td>Taurus</td>\n",
              "      <td>This is starting to turn into a one...</td>\n",
              "    </tr>\n",
              "    <tr>\n",
              "      <th>9</th>\n",
              "      <td>589736</td>\n",
              "      <td>male</td>\n",
              "      <td>35</td>\n",
              "      <td>Technology</td>\n",
              "      <td>Aries</td>\n",
              "      <td>done and done.</td>\n",
              "    </tr>\n",
              "  </tbody>\n",
              "</table>\n",
              "</div>"
            ],
            "text/plain": [
              "        id  gender  ...    sign                                               text\n",
              "0  1093691    male  ...  Taurus             Hopefully. Some of us poor soul's m...\n",
              "1  1107146  female  ...   Libra                   The only thing anyone can do ...\n",
              "2  1107146  female  ...   Libra         And you reminded me of that little phra...\n",
              "3  1975546  female  ...   Aries             is like a very, very good afterscho...\n",
              "4  1078410    male  ...  Cancer             Update: well I recently finished Ch...\n",
              "5  1107146  female  ...   Libra                   I'm home, but I'm going back ...\n",
              "6   942828  female  ...  Cancer                    The Solemnity of the Most Sa...\n",
              "7  1078410    male  ...  Cancer              Thomas Hamil interview   http://ww...\n",
              "8  1093691    male  ...  Taurus             This is starting to turn into a one...\n",
              "9   589736    male  ...   Aries                            done and done.         \n",
              "\n",
              "[10 rows x 6 columns]"
            ]
          },
          "metadata": {
            "tags": []
          },
          "execution_count": 14
        }
      ]
    },
    {
      "cell_type": "code",
      "metadata": {
        "id": "KcgzPJwrws90",
        "colab_type": "code",
        "colab": {}
      },
      "source": [
        "result=[]"
      ],
      "execution_count": 0,
      "outputs": []
    },
    {
      "cell_type": "code",
      "metadata": {
        "id": "7F7ox2XKu_JB",
        "colab_type": "code",
        "colab": {}
      },
      "source": [
        "#removing rows which have less than 150 chars in the column \"text' in the dataframe\n",
        "for i in range(0,30000):\n",
        "  if len(df1.text[i])>150:\n",
        "    result.append(\"True\")\n",
        "  else:\n",
        "    result.append(\"False\")"
      ],
      "execution_count": 0,
      "outputs": []
    },
    {
      "cell_type": "code",
      "metadata": {
        "id": "ZT9bLeyhySeS",
        "colab_type": "code",
        "colab": {}
      },
      "source": [
        "df1['result']=result"
      ],
      "execution_count": 0,
      "outputs": []
    },
    {
      "cell_type": "code",
      "metadata": {
        "id": "mNAFhpLpwN8T",
        "colab_type": "code",
        "colab": {
          "base_uri": "https://localhost:8080/",
          "height": 206
        },
        "outputId": "9d368781-50cd-4c1c-adf1-4d5024a5cb6e"
      },
      "source": [
        "df1.head()"
      ],
      "execution_count": 18,
      "outputs": [
        {
          "output_type": "execute_result",
          "data": {
            "text/html": [
              "<div>\n",
              "<style scoped>\n",
              "    .dataframe tbody tr th:only-of-type {\n",
              "        vertical-align: middle;\n",
              "    }\n",
              "\n",
              "    .dataframe tbody tr th {\n",
              "        vertical-align: top;\n",
              "    }\n",
              "\n",
              "    .dataframe thead th {\n",
              "        text-align: right;\n",
              "    }\n",
              "</style>\n",
              "<table border=\"1\" class=\"dataframe\">\n",
              "  <thead>\n",
              "    <tr style=\"text-align: right;\">\n",
              "      <th></th>\n",
              "      <th>id</th>\n",
              "      <th>gender</th>\n",
              "      <th>age</th>\n",
              "      <th>topic</th>\n",
              "      <th>sign</th>\n",
              "      <th>text</th>\n",
              "      <th>result</th>\n",
              "    </tr>\n",
              "  </thead>\n",
              "  <tbody>\n",
              "    <tr>\n",
              "      <th>0</th>\n",
              "      <td>1093691</td>\n",
              "      <td>male</td>\n",
              "      <td>17</td>\n",
              "      <td>Technology</td>\n",
              "      <td>Taurus</td>\n",
              "      <td>Hopefully. Some of us poor soul's m...</td>\n",
              "      <td>True</td>\n",
              "    </tr>\n",
              "    <tr>\n",
              "      <th>1</th>\n",
              "      <td>1107146</td>\n",
              "      <td>female</td>\n",
              "      <td>16</td>\n",
              "      <td>Student</td>\n",
              "      <td>Libra</td>\n",
              "      <td>The only thing anyone can do ...</td>\n",
              "      <td>True</td>\n",
              "    </tr>\n",
              "    <tr>\n",
              "      <th>2</th>\n",
              "      <td>1107146</td>\n",
              "      <td>female</td>\n",
              "      <td>16</td>\n",
              "      <td>Student</td>\n",
              "      <td>Libra</td>\n",
              "      <td>And you reminded me of that little phra...</td>\n",
              "      <td>True</td>\n",
              "    </tr>\n",
              "    <tr>\n",
              "      <th>3</th>\n",
              "      <td>1975546</td>\n",
              "      <td>female</td>\n",
              "      <td>23</td>\n",
              "      <td>indUnk</td>\n",
              "      <td>Aries</td>\n",
              "      <td>is like a very, very good afterscho...</td>\n",
              "      <td>False</td>\n",
              "    </tr>\n",
              "    <tr>\n",
              "      <th>4</th>\n",
              "      <td>1078410</td>\n",
              "      <td>male</td>\n",
              "      <td>16</td>\n",
              "      <td>indUnk</td>\n",
              "      <td>Cancer</td>\n",
              "      <td>Update: well I recently finished Ch...</td>\n",
              "      <td>True</td>\n",
              "    </tr>\n",
              "  </tbody>\n",
              "</table>\n",
              "</div>"
            ],
            "text/plain": [
              "        id  gender  ...                                               text result\n",
              "0  1093691    male  ...             Hopefully. Some of us poor soul's m...   True\n",
              "1  1107146  female  ...                   The only thing anyone can do ...   True\n",
              "2  1107146  female  ...         And you reminded me of that little phra...   True\n",
              "3  1975546  female  ...             is like a very, very good afterscho...  False\n",
              "4  1078410    male  ...             Update: well I recently finished Ch...   True\n",
              "\n",
              "[5 rows x 7 columns]"
            ]
          },
          "metadata": {
            "tags": []
          },
          "execution_count": 18
        }
      ]
    },
    {
      "cell_type": "code",
      "metadata": {
        "id": "p4OlnovazOhX",
        "colab_type": "code",
        "colab": {}
      },
      "source": [
        "df2=df1[df1.result != 'False']"
      ],
      "execution_count": 0,
      "outputs": []
    },
    {
      "cell_type": "code",
      "metadata": {
        "id": "5FvnEIuvzVai",
        "colab_type": "code",
        "colab": {}
      },
      "source": [
        "df2=df2.reset_index()"
      ],
      "execution_count": 0,
      "outputs": []
    },
    {
      "cell_type": "code",
      "metadata": {
        "id": "2WqsbIOxzYDg",
        "colab_type": "code",
        "colab": {
          "base_uri": "https://localhost:8080/",
          "height": 363
        },
        "outputId": "506cac8d-cb1e-44b5-f666-81e9fdd71b3f"
      },
      "source": [
        "df2=df2.drop([\"index\",\"result\"],axis=1)\n",
        "df2.head(10)"
      ],
      "execution_count": 21,
      "outputs": [
        {
          "output_type": "execute_result",
          "data": {
            "text/html": [
              "<div>\n",
              "<style scoped>\n",
              "    .dataframe tbody tr th:only-of-type {\n",
              "        vertical-align: middle;\n",
              "    }\n",
              "\n",
              "    .dataframe tbody tr th {\n",
              "        vertical-align: top;\n",
              "    }\n",
              "\n",
              "    .dataframe thead th {\n",
              "        text-align: right;\n",
              "    }\n",
              "</style>\n",
              "<table border=\"1\" class=\"dataframe\">\n",
              "  <thead>\n",
              "    <tr style=\"text-align: right;\">\n",
              "      <th></th>\n",
              "      <th>id</th>\n",
              "      <th>gender</th>\n",
              "      <th>age</th>\n",
              "      <th>topic</th>\n",
              "      <th>sign</th>\n",
              "      <th>text</th>\n",
              "    </tr>\n",
              "  </thead>\n",
              "  <tbody>\n",
              "    <tr>\n",
              "      <th>0</th>\n",
              "      <td>1093691</td>\n",
              "      <td>male</td>\n",
              "      <td>17</td>\n",
              "      <td>Technology</td>\n",
              "      <td>Taurus</td>\n",
              "      <td>Hopefully. Some of us poor soul's m...</td>\n",
              "    </tr>\n",
              "    <tr>\n",
              "      <th>1</th>\n",
              "      <td>1107146</td>\n",
              "      <td>female</td>\n",
              "      <td>16</td>\n",
              "      <td>Student</td>\n",
              "      <td>Libra</td>\n",
              "      <td>The only thing anyone can do ...</td>\n",
              "    </tr>\n",
              "    <tr>\n",
              "      <th>2</th>\n",
              "      <td>1107146</td>\n",
              "      <td>female</td>\n",
              "      <td>16</td>\n",
              "      <td>Student</td>\n",
              "      <td>Libra</td>\n",
              "      <td>And you reminded me of that little phra...</td>\n",
              "    </tr>\n",
              "    <tr>\n",
              "      <th>3</th>\n",
              "      <td>1078410</td>\n",
              "      <td>male</td>\n",
              "      <td>16</td>\n",
              "      <td>indUnk</td>\n",
              "      <td>Cancer</td>\n",
              "      <td>Update: well I recently finished Ch...</td>\n",
              "    </tr>\n",
              "    <tr>\n",
              "      <th>4</th>\n",
              "      <td>1107146</td>\n",
              "      <td>female</td>\n",
              "      <td>16</td>\n",
              "      <td>Student</td>\n",
              "      <td>Libra</td>\n",
              "      <td>I'm home, but I'm going back ...</td>\n",
              "    </tr>\n",
              "    <tr>\n",
              "      <th>5</th>\n",
              "      <td>942828</td>\n",
              "      <td>female</td>\n",
              "      <td>34</td>\n",
              "      <td>indUnk</td>\n",
              "      <td>Cancer</td>\n",
              "      <td>The Solemnity of the Most Sa...</td>\n",
              "    </tr>\n",
              "    <tr>\n",
              "      <th>6</th>\n",
              "      <td>1078410</td>\n",
              "      <td>male</td>\n",
              "      <td>16</td>\n",
              "      <td>indUnk</td>\n",
              "      <td>Cancer</td>\n",
              "      <td>Thomas Hamil interview   http://ww...</td>\n",
              "    </tr>\n",
              "    <tr>\n",
              "      <th>7</th>\n",
              "      <td>1093691</td>\n",
              "      <td>male</td>\n",
              "      <td>17</td>\n",
              "      <td>Technology</td>\n",
              "      <td>Taurus</td>\n",
              "      <td>This is starting to turn into a one...</td>\n",
              "    </tr>\n",
              "    <tr>\n",
              "      <th>8</th>\n",
              "      <td>605396</td>\n",
              "      <td>male</td>\n",
              "      <td>35</td>\n",
              "      <td>indUnk</td>\n",
              "      <td>Scorpio</td>\n",
              "      <td>Northwest is offering a great deal ...</td>\n",
              "    </tr>\n",
              "    <tr>\n",
              "      <th>9</th>\n",
              "      <td>1093457</td>\n",
              "      <td>male</td>\n",
              "      <td>16</td>\n",
              "      <td>Technology</td>\n",
              "      <td>Virgo</td>\n",
              "      <td>Dream Job: Self-employed computer e...</td>\n",
              "    </tr>\n",
              "  </tbody>\n",
              "</table>\n",
              "</div>"
            ],
            "text/plain": [
              "        id  gender  ...     sign                                               text\n",
              "0  1093691    male  ...   Taurus             Hopefully. Some of us poor soul's m...\n",
              "1  1107146  female  ...    Libra                   The only thing anyone can do ...\n",
              "2  1107146  female  ...    Libra         And you reminded me of that little phra...\n",
              "3  1078410    male  ...   Cancer             Update: well I recently finished Ch...\n",
              "4  1107146  female  ...    Libra                   I'm home, but I'm going back ...\n",
              "5   942828  female  ...   Cancer                    The Solemnity of the Most Sa...\n",
              "6  1078410    male  ...   Cancer              Thomas Hamil interview   http://ww...\n",
              "7  1093691    male  ...   Taurus             This is starting to turn into a one...\n",
              "8   605396    male  ...  Scorpio             Northwest is offering a great deal ...\n",
              "9  1093457    male  ...    Virgo             Dream Job: Self-employed computer e...\n",
              "\n",
              "[10 rows x 6 columns]"
            ]
          },
          "metadata": {
            "tags": []
          },
          "execution_count": 21
        }
      ]
    },
    {
      "cell_type": "code",
      "metadata": {
        "id": "621cT5MEzmYS",
        "colab_type": "code",
        "colab": {
          "base_uri": "https://localhost:8080/",
          "height": 35
        },
        "outputId": "ab450f6f-17c8-4a4d-f11e-27e39cbb2625"
      },
      "source": [
        "df2.shape #Final Data shape that is used in the model"
      ],
      "execution_count": 22,
      "outputs": [
        {
          "output_type": "execute_result",
          "data": {
            "text/plain": [
              "(20059, 6)"
            ]
          },
          "metadata": {
            "tags": []
          },
          "execution_count": 22
        }
      ]
    },
    {
      "cell_type": "markdown",
      "metadata": {
        "id": "h316JgSHluEQ",
        "colab_type": "text"
      },
      "source": [
        "# 2.Preprocess rows of the “text” column (7.5 points)\n",
        "### Remove unwanted characters\n",
        "### Convert text to lowercase\n",
        "### Remove unwanted spaces\n",
        "### Remove stopwords\n"
      ]
    },
    {
      "cell_type": "code",
      "metadata": {
        "id": "R3hpT8ZilohQ",
        "colab_type": "code",
        "colab": {}
      },
      "source": [
        "#converting to lower case \n",
        "df2['text'] = df2['text'].str.lower()"
      ],
      "execution_count": 0,
      "outputs": []
    },
    {
      "cell_type": "code",
      "metadata": {
        "id": "p2B8dFxhlzl8",
        "colab_type": "code",
        "outputId": "e50416cf-b3c5-4eb7-e420-a99fdf1acf7a",
        "colab": {
          "base_uri": "https://localhost:8080/",
          "height": 53
        }
      },
      "source": [
        "import string\n",
        "import nltk\n",
        "nltk.download('stopwords')\n",
        "from nltk.corpus import stopwords"
      ],
      "execution_count": 24,
      "outputs": [
        {
          "output_type": "stream",
          "text": [
            "[nltk_data] Downloading package stopwords to /root/nltk_data...\n",
            "[nltk_data]   Package stopwords is already up-to-date!\n"
          ],
          "name": "stdout"
        }
      ]
    },
    {
      "cell_type": "code",
      "metadata": {
        "id": "tQEdnnJAlzoh",
        "colab_type": "code",
        "colab": {}
      },
      "source": [
        "def rem_punc(text):\n",
        "    no_punc=\"\".join([c for c in text if c not in string.punctuation])\n",
        "    return no_punc"
      ],
      "execution_count": 0,
      "outputs": []
    },
    {
      "cell_type": "code",
      "metadata": {
        "id": "H0s3g_0nlzrW",
        "colab_type": "code",
        "colab": {}
      },
      "source": [
        "df2['text']=df2['text'].apply(lambda x: rem_punc(x)) #removing punctuation"
      ],
      "execution_count": 0,
      "outputs": []
    },
    {
      "cell_type": "code",
      "metadata": {
        "id": "1wnxCO_pJgQl",
        "colab_type": "code",
        "colab": {}
      },
      "source": [
        "import re\n",
        "def keepAlpha(sentence):\n",
        "    alpha_sent = \"\"\n",
        "    for word in sentence.split():\n",
        "        alpha_word = re.sub('[^a-z A-Z]+', ' ', word)\n",
        "        alpha_sent += alpha_word\n",
        "        alpha_sent += \" \"\n",
        "    alpha_sent = alpha_sent.strip()\n",
        "    return alpha_sent"
      ],
      "execution_count": 0,
      "outputs": []
    },
    {
      "cell_type": "code",
      "metadata": {
        "id": "S3LDd7esJhi_",
        "colab_type": "code",
        "colab": {}
      },
      "source": [
        "df2['text'] = df2['text'].apply(keepAlpha) #removing extra space and chars"
      ],
      "execution_count": 0,
      "outputs": []
    },
    {
      "cell_type": "code",
      "metadata": {
        "id": "m1LUhnwZlzt9",
        "colab_type": "code",
        "outputId": "a5f514f1-d4de-4415-d1aa-62836c4c88fc",
        "colab": {
          "base_uri": "https://localhost:8080/",
          "height": 55
        }
      },
      "source": [
        "df2.text[10]"
      ],
      "execution_count": 29,
      "outputs": [
        {
          "output_type": "execute_result",
          "data": {
            "text/plain": [
              "'numb by linkin park im tired of being what you want me to be feeling so faithless lost under the surface i dont know what youre expecting of me put under the pressure of walking in your shoes caught in the undertow just caught in the undertow every breath that i take is another mistake to you caught in the undertow just caught in the undertow ive become so numb i cant feel you there become so tired so much more aware im becoming this all i want to do is be more like me and be less like you cant you see that youre smothering me holding too tightly afraid to lose control cuz everything that you thought i would be has fallen apart right in front of you caught in the undertow just caught in the undertow every step that i take is another mistake to you caught in the undertow just caught in the undertow and every second i waste is more than i can take ive become so numb i cant feel you there become so tired so much more aware im becoming this all i want to do is be more like me and be less like you and i know i may end up failing too but i know you were just like me with someone disappointed in you ive become so numb i cant feel you there ive become so tired so much more aware im becoming this all i want to do is be more like me and be less like you ive become so numb im tired of being what you want me to be ive become so numb im tired of being what you want me to be someone needs this'"
            ]
          },
          "metadata": {
            "tags": []
          },
          "execution_count": 29
        }
      ]
    },
    {
      "cell_type": "code",
      "metadata": {
        "id": "IyAu8kE3l8Um",
        "colab_type": "code",
        "colab": {}
      },
      "source": [
        "stop_words = set(stopwords.words('english'))\n",
        "re_stop_words = re.compile(r\"\\b(\" + \"|\".join(stop_words) + \")\\\\W\", re.I)\n",
        "def removeStopWords(sentence):\n",
        "    global re_stop_words\n",
        "    return re_stop_words.sub(\"\", sentence)\n",
        "df2['text'] = df2['text'].apply(removeStopWords) #removing stop words"
      ],
      "execution_count": 0,
      "outputs": []
    },
    {
      "cell_type": "code",
      "metadata": {
        "id": "RBvHe-Ztl835",
        "colab_type": "code",
        "colab": {
          "base_uri": "https://localhost:8080/",
          "height": 55
        },
        "outputId": "1d689269-bb07-4d5c-89ff-0855e112b6d9"
      },
      "source": [
        "df2.text[10]"
      ],
      "execution_count": 31,
      "outputs": [
        {
          "output_type": "execute_result",
          "data": {
            "text/plain": [
              "'numb linkin park im tired want feeling faithless lost surface dont know youre expecting put pressure walking shoes caught undertow caught undertow every breath take another mistake caught undertow caught undertow ive become numb cant feel become tired much aware im becoming want like less like cant see youre smothering holding tightly afraid lose control cuz everything thought would fallen apart right front caught undertow caught undertow every step take another mistake caught undertow caught undertow every second waste take ive become numb cant feel become tired much aware im becoming want like less like know may end failing know like someone disappointed ive become numb cant feel ive become tired much aware im becoming want like less like ive become numb im tired want ive become numb im tired want someone needs this'"
            ]
          },
          "metadata": {
            "tags": []
          },
          "execution_count": 31
        }
      ]
    },
    {
      "cell_type": "markdown",
      "metadata": {
        "id": "5EgGXPXCKVUo",
        "colab_type": "text"
      },
      "source": [
        "# 3.As we want to make this into a multi-label classification problem, you are required to merge all the label columns together, so that we have all the labels together for a particular sentence (7.5 points)"
      ]
    },
    {
      "cell_type": "code",
      "metadata": {
        "id": "mG7W0Bcxl87a",
        "colab_type": "code",
        "colab": {
          "base_uri": "https://localhost:8080/",
          "height": 35
        },
        "outputId": "35562b38-ce04-428a-bd63-1da22ab3cc48"
      },
      "source": [
        "df2.shape"
      ],
      "execution_count": 32,
      "outputs": [
        {
          "output_type": "execute_result",
          "data": {
            "text/plain": [
              "(20059, 6)"
            ]
          },
          "metadata": {
            "tags": []
          },
          "execution_count": 32
        }
      ]
    },
    {
      "cell_type": "code",
      "metadata": {
        "id": "p8sCmbMVKjee",
        "colab_type": "code",
        "colab": {
          "base_uri": "https://localhost:8080/",
          "height": 144
        },
        "outputId": "db1a378b-e2c6-4cda-9c16-ee3c58d72838"
      },
      "source": [
        "df2.isnull().sum()"
      ],
      "execution_count": 33,
      "outputs": [
        {
          "output_type": "execute_result",
          "data": {
            "text/plain": [
              "id        0\n",
              "gender    0\n",
              "age       0\n",
              "topic     0\n",
              "sign      0\n",
              "text      0\n",
              "dtype: int64"
            ]
          },
          "metadata": {
            "tags": []
          },
          "execution_count": 33
        }
      ]
    },
    {
      "cell_type": "code",
      "metadata": {
        "id": "sTCp4F6ml8SB",
        "colab_type": "code",
        "colab": {}
      },
      "source": [
        "df3 = df2.assign(labels = df2.gender.astype(str) + ', ' + \\\n",
        "  df2.age.astype(str) + ', ' + df2.topic.astype(str) + ', '+ \\\n",
        "  df2.sign.astype(str))"
      ],
      "execution_count": 0,
      "outputs": []
    },
    {
      "cell_type": "code",
      "metadata": {
        "id": "SFuHr2C3K_Yf",
        "colab_type": "code",
        "colab": {
          "base_uri": "https://localhost:8080/",
          "height": 206
        },
        "outputId": "db4ba4ed-05ea-4c94-e656-dd0d8ad81567"
      },
      "source": [
        "df3.head()"
      ],
      "execution_count": 35,
      "outputs": [
        {
          "output_type": "execute_result",
          "data": {
            "text/html": [
              "<div>\n",
              "<style scoped>\n",
              "    .dataframe tbody tr th:only-of-type {\n",
              "        vertical-align: middle;\n",
              "    }\n",
              "\n",
              "    .dataframe tbody tr th {\n",
              "        vertical-align: top;\n",
              "    }\n",
              "\n",
              "    .dataframe thead th {\n",
              "        text-align: right;\n",
              "    }\n",
              "</style>\n",
              "<table border=\"1\" class=\"dataframe\">\n",
              "  <thead>\n",
              "    <tr style=\"text-align: right;\">\n",
              "      <th></th>\n",
              "      <th>id</th>\n",
              "      <th>gender</th>\n",
              "      <th>age</th>\n",
              "      <th>topic</th>\n",
              "      <th>sign</th>\n",
              "      <th>text</th>\n",
              "      <th>labels</th>\n",
              "    </tr>\n",
              "  </thead>\n",
              "  <tbody>\n",
              "    <tr>\n",
              "      <th>0</th>\n",
              "      <td>1093691</td>\n",
              "      <td>male</td>\n",
              "      <td>17</td>\n",
              "      <td>Technology</td>\n",
              "      <td>Taurus</td>\n",
              "      <td>hopefully us poor souls might stay extra year ...</td>\n",
              "      <td>male, 17, Technology, Taurus</td>\n",
              "    </tr>\n",
              "    <tr>\n",
              "      <th>1</th>\n",
              "      <td>1107146</td>\n",
              "      <td>female</td>\n",
              "      <td>16</td>\n",
              "      <td>Student</td>\n",
              "      <td>Libra</td>\n",
              "      <td>thing anyone pray yes know weird sounds coming...</td>\n",
              "      <td>female, 16, Student, Libra</td>\n",
              "    </tr>\n",
              "    <tr>\n",
              "      <th>2</th>\n",
              "      <td>1107146</td>\n",
              "      <td>female</td>\n",
              "      <td>16</td>\n",
              "      <td>Student</td>\n",
              "      <td>Libra</td>\n",
              "      <td>reminded little phrase well got back together ...</td>\n",
              "      <td>female, 16, Student, Libra</td>\n",
              "    </tr>\n",
              "    <tr>\n",
              "      <th>3</th>\n",
              "      <td>1078410</td>\n",
              "      <td>male</td>\n",
              "      <td>16</td>\n",
              "      <td>indUnk</td>\n",
              "      <td>Cancer</td>\n",
              "      <td>update well recently finished chobits manga mu...</td>\n",
              "      <td>male, 16, indUnk, Cancer</td>\n",
              "    </tr>\n",
              "    <tr>\n",
              "      <th>4</th>\n",
              "      <td>1107146</td>\n",
              "      <td>female</td>\n",
              "      <td>16</td>\n",
              "      <td>Student</td>\n",
              "      <td>Libra</td>\n",
              "      <td>im home im going back hospital minutes clothes...</td>\n",
              "      <td>female, 16, Student, Libra</td>\n",
              "    </tr>\n",
              "  </tbody>\n",
              "</table>\n",
              "</div>"
            ],
            "text/plain": [
              "        id  ...                        labels\n",
              "0  1093691  ...  male, 17, Technology, Taurus\n",
              "1  1107146  ...    female, 16, Student, Libra\n",
              "2  1107146  ...    female, 16, Student, Libra\n",
              "3  1078410  ...      male, 16, indUnk, Cancer\n",
              "4  1107146  ...    female, 16, Student, Libra\n",
              "\n",
              "[5 rows x 7 columns]"
            ]
          },
          "metadata": {
            "tags": []
          },
          "execution_count": 35
        }
      ]
    },
    {
      "cell_type": "code",
      "metadata": {
        "id": "i5YDY4zZLCAd",
        "colab_type": "code",
        "colab": {}
      },
      "source": [
        "df3=df3.drop(labels=['gender','age','topic','sign'],axis=1)"
      ],
      "execution_count": 0,
      "outputs": []
    },
    {
      "cell_type": "code",
      "metadata": {
        "id": "o228oyHpLORy",
        "colab_type": "code",
        "colab": {
          "base_uri": "https://localhost:8080/",
          "height": 206
        },
        "outputId": "a66d853d-f9e7-4349-c8b6-ecf791e69287"
      },
      "source": [
        "df3.head()"
      ],
      "execution_count": 37,
      "outputs": [
        {
          "output_type": "execute_result",
          "data": {
            "text/html": [
              "<div>\n",
              "<style scoped>\n",
              "    .dataframe tbody tr th:only-of-type {\n",
              "        vertical-align: middle;\n",
              "    }\n",
              "\n",
              "    .dataframe tbody tr th {\n",
              "        vertical-align: top;\n",
              "    }\n",
              "\n",
              "    .dataframe thead th {\n",
              "        text-align: right;\n",
              "    }\n",
              "</style>\n",
              "<table border=\"1\" class=\"dataframe\">\n",
              "  <thead>\n",
              "    <tr style=\"text-align: right;\">\n",
              "      <th></th>\n",
              "      <th>id</th>\n",
              "      <th>text</th>\n",
              "      <th>labels</th>\n",
              "    </tr>\n",
              "  </thead>\n",
              "  <tbody>\n",
              "    <tr>\n",
              "      <th>0</th>\n",
              "      <td>1093691</td>\n",
              "      <td>hopefully us poor souls might stay extra year ...</td>\n",
              "      <td>male, 17, Technology, Taurus</td>\n",
              "    </tr>\n",
              "    <tr>\n",
              "      <th>1</th>\n",
              "      <td>1107146</td>\n",
              "      <td>thing anyone pray yes know weird sounds coming...</td>\n",
              "      <td>female, 16, Student, Libra</td>\n",
              "    </tr>\n",
              "    <tr>\n",
              "      <th>2</th>\n",
              "      <td>1107146</td>\n",
              "      <td>reminded little phrase well got back together ...</td>\n",
              "      <td>female, 16, Student, Libra</td>\n",
              "    </tr>\n",
              "    <tr>\n",
              "      <th>3</th>\n",
              "      <td>1078410</td>\n",
              "      <td>update well recently finished chobits manga mu...</td>\n",
              "      <td>male, 16, indUnk, Cancer</td>\n",
              "    </tr>\n",
              "    <tr>\n",
              "      <th>4</th>\n",
              "      <td>1107146</td>\n",
              "      <td>im home im going back hospital minutes clothes...</td>\n",
              "      <td>female, 16, Student, Libra</td>\n",
              "    </tr>\n",
              "  </tbody>\n",
              "</table>\n",
              "</div>"
            ],
            "text/plain": [
              "        id  ...                        labels\n",
              "0  1093691  ...  male, 17, Technology, Taurus\n",
              "1  1107146  ...    female, 16, Student, Libra\n",
              "2  1107146  ...    female, 16, Student, Libra\n",
              "3  1078410  ...      male, 16, indUnk, Cancer\n",
              "4  1107146  ...    female, 16, Student, Libra\n",
              "\n",
              "[5 rows x 3 columns]"
            ]
          },
          "metadata": {
            "tags": []
          },
          "execution_count": 37
        }
      ]
    },
    {
      "cell_type": "markdown",
      "metadata": {
        "id": "66xGb0asLmHq",
        "colab_type": "text"
      },
      "source": [
        "# 4.Separate features and labels, and split the data into training and testing (5 points)"
      ]
    },
    {
      "cell_type": "code",
      "metadata": {
        "id": "aCAuDNQILoFo",
        "colab_type": "code",
        "colab": {}
      },
      "source": [
        "X = df3.drop(labels = ['id','labels'], axis=1)\n",
        "y = df3.drop(labels = ['id','text'], axis=1)"
      ],
      "execution_count": 0,
      "outputs": []
    },
    {
      "cell_type": "code",
      "metadata": {
        "id": "3sBdP1KLLurN",
        "colab_type": "code",
        "colab": {}
      },
      "source": [
        "from sklearn.model_selection import train_test_split\n",
        "X_train, X_test, y_train, y_test = train_test_split(X.text,y.labels,test_size=0.3, random_state=10, shuffle=True)"
      ],
      "execution_count": 0,
      "outputs": []
    },
    {
      "cell_type": "code",
      "metadata": {
        "id": "WlQQSolNLuxY",
        "colab_type": "code",
        "colab": {
          "base_uri": "https://localhost:8080/",
          "height": 126
        },
        "outputId": "2d851932-06ae-4d58-c991-7590192903ba"
      },
      "source": [
        "#printing the train and test sets\n",
        "X_train.head()"
      ],
      "execution_count": 40,
      "outputs": [
        {
          "output_type": "execute_result",
          "data": {
            "text/plain": [
              "11081    success holy smokes bought brother got back me...\n",
              "19915    ebay scare like mix especially im bored work t...\n",
              "17324    nu trainers arrived r soooo cool need bt weari...\n",
              "10003    ok brother coming home christmas gone back del...\n",
              "19449    ok new hero igor florres came last tour de fra...\n",
              "Name: text, dtype: object"
            ]
          },
          "metadata": {
            "tags": []
          },
          "execution_count": 40
        }
      ]
    },
    {
      "cell_type": "code",
      "metadata": {
        "id": "Tg0mVAEMLu1S",
        "colab_type": "code",
        "colab": {
          "base_uri": "https://localhost:8080/",
          "height": 126
        },
        "outputId": "0326d6cc-c3af-4e3c-bd29-dc716f0b9814"
      },
      "source": [
        "y_train.head()"
      ],
      "execution_count": 41,
      "outputs": [
        {
          "output_type": "execute_result",
          "data": {
            "text/plain": [
              "11081       female, 26, indUnk, Cancer\n",
              "19915         male, 36, Fashion, Aries\n",
              "17324    female, 16, Student, Aquarius\n",
              "10003       female, 48, indUnk, Pisces\n",
              "19449       female, 48, indUnk, Pisces\n",
              "Name: labels, dtype: object"
            ]
          },
          "metadata": {
            "tags": []
          },
          "execution_count": 41
        }
      ]
    },
    {
      "cell_type": "code",
      "metadata": {
        "id": "-R4Ir5ztMLgv",
        "colab_type": "code",
        "colab": {
          "base_uri": "https://localhost:8080/",
          "height": 126
        },
        "outputId": "c2f61bfc-79e8-4ad7-f165-03d36bfa5606"
      },
      "source": [
        "X_test.head()"
      ],
      "execution_count": 42,
      "outputs": [
        {
          "output_type": "execute_result",
          "data": {
            "text/plain": [
              "18216    listening story urllink nprs things considered...\n",
              "11978    agree jackie print amusing stories wider range...\n",
              "5218     good luck interview hope strategies relevant r...\n",
              "19598    songwhich addridden brain trying learn right s...\n",
              "9511     ok gail mms screenplay projected blend followi...\n",
              "Name: text, dtype: object"
            ]
          },
          "metadata": {
            "tags": []
          },
          "execution_count": 42
        }
      ]
    },
    {
      "cell_type": "code",
      "metadata": {
        "id": "zpHuNADJMLnB",
        "colab_type": "code",
        "colab": {
          "base_uri": "https://localhost:8080/",
          "height": 126
        },
        "outputId": "e0d73a21-7430-44ad-9e43-8222ca166c25"
      },
      "source": [
        "y_test.head()"
      ],
      "execution_count": 43,
      "outputs": [
        {
          "output_type": "execute_result",
          "data": {
            "text/plain": [
              "18216         male, 35, indUnk, Scorpio\n",
              "11978    female, 17, Student, Capricorn\n",
              "5218          female, 23, indUnk, Aries\n",
              "19598      male, 17, Non-Profit, Gemini\n",
              "9511         female, 48, indUnk, Pisces\n",
              "Name: labels, dtype: object"
            ]
          },
          "metadata": {
            "tags": []
          },
          "execution_count": 43
        }
      ]
    },
    {
      "cell_type": "markdown",
      "metadata": {
        "id": "LvA1oS-SMJg6",
        "colab_type": "text"
      },
      "source": [
        "# 5.Vectorize the features (5 points)"
      ]
    },
    {
      "cell_type": "code",
      "metadata": {
        "id": "-yWjY37wM35n",
        "colab_type": "code",
        "colab": {}
      },
      "source": [
        "import scipy as sp\n",
        "from sklearn.feature_extraction.text import CountVectorizer, TfidfVectorizer\n",
        "from sklearn.naive_bayes import MultinomialNB\n",
        "from sklearn.linear_model import LogisticRegression\n",
        "from sklearn.multiclass import OneVsRestClassifier\n",
        "from sklearn import metrics\n",
        "from sklearn.preprocessing import MultiLabelBinarizer\n",
        "from textblob import TextBlob, Word\n",
        "from nltk.stem.snowball import SnowballStemmer"
      ],
      "execution_count": 0,
      "outputs": []
    },
    {
      "cell_type": "code",
      "metadata": {
        "id": "WiZymBr0Lu4h",
        "colab_type": "code",
        "colab": {}
      },
      "source": [
        "vectorizer = CountVectorizer(ngram_range=(1, 2))\n",
        "X_train_dtm = vectorizer.fit_transform(X_train)"
      ],
      "execution_count": 0,
      "outputs": []
    },
    {
      "cell_type": "code",
      "metadata": {
        "id": "XOHFyvQGMcPL",
        "colab_type": "code",
        "colab": {}
      },
      "source": [
        "X_test_dtm = vectorizer.transform(X_test)"
      ],
      "execution_count": 0,
      "outputs": []
    },
    {
      "cell_type": "code",
      "metadata": {
        "id": "v3d8uoEgNHGC",
        "colab_type": "code",
        "colab": {
          "base_uri": "https://localhost:8080/",
          "height": 35
        },
        "outputId": "a2814489-674f-4d51-f6c7-b18cdefd5dc1"
      },
      "source": [
        "X_train_dtm.shape"
      ],
      "execution_count": 47,
      "outputs": [
        {
          "output_type": "execute_result",
          "data": {
            "text/plain": [
              "(14041, 652197)"
            ]
          },
          "metadata": {
            "tags": []
          },
          "execution_count": 47
        }
      ]
    },
    {
      "cell_type": "code",
      "metadata": {
        "id": "omIz9ztENHJo",
        "colab_type": "code",
        "colab": {
          "base_uri": "https://localhost:8080/",
          "height": 35
        },
        "outputId": "866fa64d-9605-4150-b6e8-af46b96f19e6"
      },
      "source": [
        "X_test_dtm.shape"
      ],
      "execution_count": 48,
      "outputs": [
        {
          "output_type": "execute_result",
          "data": {
            "text/plain": [
              "(6018, 652197)"
            ]
          },
          "metadata": {
            "tags": []
          },
          "execution_count": 48
        }
      ]
    },
    {
      "cell_type": "markdown",
      "metadata": {
        "id": "kFdeQkm3NWOj",
        "colab_type": "text"
      },
      "source": [
        "# 6.Create a dictionary to get the count of every label i.e. the key will be label name and value will be the total count of the label. Check below image for reference (5 points)"
      ]
    },
    {
      "cell_type": "code",
      "metadata": {
        "id": "kAT4XNZeNSY5",
        "colab_type": "code",
        "colab": {}
      },
      "source": [
        "count_gender = df1['gender'].value_counts().to_dict()\n",
        "count_age = df1['age'].value_counts().to_dict()\n",
        "count_topic = df1['topic'].value_counts().to_dict()\n",
        "count_sign = df1['sign'].value_counts().to_dict()"
      ],
      "execution_count": 0,
      "outputs": []
    },
    {
      "cell_type": "code",
      "metadata": {
        "id": "F9E12tZzN2h-",
        "colab_type": "code",
        "colab": {
          "base_uri": "https://localhost:8080/",
          "height": 55
        },
        "outputId": "24f7eeca-af8a-4c94-ddef-218dda022f7b"
      },
      "source": [
        "dictlabels = {**count_gender , **count_age, **count_topic, **count_sign}\n",
        "print(dictlabels)"
      ],
      "execution_count": 50,
      "outputs": [
        {
          "output_type": "stream",
          "text": [
            "{'female': 16889, 'male': 13111, 16: 7212, 34: 4924, 17: 4230, 23: 3328, 35: 2989, 24: 1810, 38: 1686, 26: 1334, 36: 1264, 48: 1223, 'indUnk': 15040, 'Student': 5865, 'Technology': 4239, 'Arts': 1810, 'Non-Profit': 1782, 'Fashion': 1264, 'Aries': 9528, 'Cancer': 4348, 'Libra': 3568, 'Virgo': 2903, 'Scorpio': 2747, 'Gemini': 1782, 'Aquarius': 1453, 'Capricorn': 1241, 'Pisces': 1223, 'Taurus': 1207}\n"
          ],
          "name": "stdout"
        }
      ]
    },
    {
      "cell_type": "markdown",
      "metadata": {
        "id": "ZF4g8VBcOOuN",
        "colab_type": "text"
      },
      "source": [
        "# 7.Transform the labels - (7.5 points)"
      ]
    },
    {
      "cell_type": "code",
      "metadata": {
        "id": "q65HwxYSOH4J",
        "colab_type": "code",
        "colab": {}
      },
      "source": [
        "# transform to dictionary\n",
        "y_train = [set(i.split(',')) for i in y_train]\n",
        "y_test = [set(i.split(',')) for i in y_test]"
      ],
      "execution_count": 0,
      "outputs": []
    },
    {
      "cell_type": "code",
      "metadata": {
        "id": "0jUuknrGOcOH",
        "colab_type": "code",
        "colab": {}
      },
      "source": [
        "mlb = MultiLabelBinarizer()\n",
        "y_train = mlb.fit_transform(y_train)\n",
        "y_test = mlb.transform(y_test)"
      ],
      "execution_count": 0,
      "outputs": []
    },
    {
      "cell_type": "code",
      "metadata": {
        "id": "oXuGw2J6OcRT",
        "colab_type": "code",
        "colab": {
          "base_uri": "https://localhost:8080/",
          "height": 53
        },
        "outputId": "f73f1459-5573-4ca8-e414-96bb7dfdb665"
      },
      "source": [
        "y_train[10]"
      ],
      "execution_count": 53,
      "outputs": [
        {
          "output_type": "execute_result",
          "data": {
            "text/plain": [
              "array([0, 0, 0, 0, 0, 0, 0, 0, 1, 0, 0, 0, 0, 0, 0, 0, 0, 0, 0, 0, 0, 0,\n",
              "       0, 0, 1, 1, 1, 0])"
            ]
          },
          "metadata": {
            "tags": []
          },
          "execution_count": 53
        }
      ]
    },
    {
      "cell_type": "code",
      "metadata": {
        "id": "OaippPqsOcLX",
        "colab_type": "code",
        "colab": {
          "base_uri": "https://localhost:8080/",
          "height": 90
        },
        "outputId": "86788dc3-35fb-46d5-a5b8-d03a97532928"
      },
      "source": [
        "print(\"classes = \",mlb.classes_)"
      ],
      "execution_count": 54,
      "outputs": [
        {
          "output_type": "stream",
          "text": [
            "classes =  [' 16' ' 17' ' 23' ' 24' ' 26' ' 34' ' 35' ' 36' ' 38' ' 48' ' Aquarius'\n",
            " ' Aries' ' Arts' ' Cancer' ' Capricorn' ' Fashion' ' Gemini' ' Libra'\n",
            " ' Non-Profit' ' Pisces' ' Scorpio' ' Student' ' Taurus' ' Technology'\n",
            " ' Virgo' ' indUnk' 'female' 'male']\n"
          ],
          "name": "stdout"
        }
      ]
    },
    {
      "cell_type": "markdown",
      "metadata": {
        "id": "IiSsgi3DOt83",
        "colab_type": "text"
      },
      "source": [
        "# 8.Choose a classifier - (5 points)"
      ]
    },
    {
      "cell_type": "code",
      "metadata": {
        "id": "Br5zL-K3Os4v",
        "colab_type": "code",
        "colab": {}
      },
      "source": [
        "clf = LogisticRegression(solver ='liblinear',max_iter=1000) #choosing solver as liblinear as we are doing multi class classifier.\n",
        "clf = OneVsRestClassifier(clf)"
      ],
      "execution_count": 0,
      "outputs": []
    },
    {
      "cell_type": "markdown",
      "metadata": {
        "id": "98A3wviUO0b5",
        "colab_type": "text"
      },
      "source": [
        "# 9. Fit the classifier, make predictions and get the accuracy (5 points)"
      ]
    },
    {
      "cell_type": "code",
      "metadata": {
        "id": "qu8AlkwIO3dk",
        "colab_type": "code",
        "colab": {
          "base_uri": "https://localhost:8080/",
          "height": 199
        },
        "outputId": "350b9ece-841d-4670-8604-c0e15029e963"
      },
      "source": [
        "clf.fit(X_train_dtm,y_train)"
      ],
      "execution_count": 56,
      "outputs": [
        {
          "output_type": "execute_result",
          "data": {
            "text/plain": [
              "OneVsRestClassifier(estimator=LogisticRegression(C=1.0, class_weight=None,\n",
              "                                                 dual=False, fit_intercept=True,\n",
              "                                                 intercept_scaling=1,\n",
              "                                                 l1_ratio=None, max_iter=1000,\n",
              "                                                 multi_class='auto',\n",
              "                                                 n_jobs=None, penalty='l2',\n",
              "                                                 random_state=None,\n",
              "                                                 solver='liblinear', tol=0.0001,\n",
              "                                                 verbose=0, warm_start=False),\n",
              "                    n_jobs=None)"
            ]
          },
          "metadata": {
            "tags": []
          },
          "execution_count": 56
        }
      ]
    },
    {
      "cell_type": "code",
      "metadata": {
        "id": "ND1HcaZ4O3g-",
        "colab_type": "code",
        "colab": {
          "base_uri": "https://localhost:8080/",
          "height": 689
        },
        "outputId": "e94b01d1-c858-404a-c3c3-0860d379ee80"
      },
      "source": [
        "from sklearn.metrics import confusion_matrix\n",
        "from sklearn.metrics import classification_report\n",
        "y_predict = clf.predict(X_test_dtm)\n",
        "print(\"Classification Report\")\n",
        "print(classification_report(y_test, y_predict))"
      ],
      "execution_count": 57,
      "outputs": [
        {
          "output_type": "stream",
          "text": [
            "Classification Report\n",
            "              precision    recall  f1-score   support\n",
            "\n",
            "           0       0.57      0.43      0.49      1452\n",
            "           1       0.36      0.29      0.32       887\n",
            "           2       0.52      0.26      0.35       556\n",
            "           3       0.01      0.00      0.01       250\n",
            "           4       0.95      0.26      0.41       279\n",
            "           5       0.94      0.69      0.80      1042\n",
            "           6       0.49      0.27      0.35       560\n",
            "           7       0.95      0.42      0.59       299\n",
            "           8       0.84      0.39      0.53       353\n",
            "           9       0.96      0.84      0.89       340\n",
            "          10       0.97      0.66      0.78       337\n",
            "          11       0.73      0.54      0.62      1639\n",
            "          12       0.01      0.00      0.01       250\n",
            "          13       0.93      0.63      0.75       986\n",
            "          14       0.04      0.03      0.03       242\n",
            "          15       0.95      0.42      0.59       299\n",
            "          16       0.13      0.09      0.11       373\n",
            "          17       0.07      0.04      0.05       583\n",
            "          18       0.13      0.09      0.11       373\n",
            "          19       0.96      0.84      0.89       340\n",
            "          20       0.96      0.45      0.61       621\n",
            "          21       0.45      0.34      0.39      1118\n",
            "          22       0.05      0.03      0.03       272\n",
            "          23       0.36      0.25      0.30       797\n",
            "          24       0.45      0.24      0.31       625\n",
            "          25       0.86      0.86      0.86      3181\n",
            "          26       0.68      0.73      0.70      3299\n",
            "          27       0.64      0.58      0.61      2719\n",
            "\n",
            "   micro avg       0.65      0.52      0.58     24072\n",
            "   macro avg       0.57      0.38      0.45     24072\n",
            "weighted avg       0.64      0.52      0.56     24072\n",
            " samples avg       0.66      0.52      0.56     24072\n",
            "\n"
          ],
          "name": "stdout"
        }
      ]
    },
    {
      "cell_type": "code",
      "metadata": {
        "id": "k4Pa386QldFM",
        "colab_type": "code",
        "colab": {
          "base_uri": "https://localhost:8080/",
          "height": 290
        },
        "outputId": "da258a2a-0baf-46a1-9b67-90b2fbfe452d"
      },
      "source": [
        "import seaborn as sns  ##just tried how the heat map looks, - inconclusive\n",
        "val_cm = confusion_matrix(y_test.argmax(axis=1), y_predict.argmax(axis=1))\n",
        "from sklearn.preprocessing import MinMaxScaler\n",
        "scaler = MinMaxScaler()\n",
        "sns.heatmap(scaler.fit_transform(val_cm))"
      ],
      "execution_count": 58,
      "outputs": [
        {
          "output_type": "execute_result",
          "data": {
            "text/plain": [
              "<matplotlib.axes._subplots.AxesSubplot at 0x7f723f31f208>"
            ]
          },
          "metadata": {
            "tags": []
          },
          "execution_count": 58
        },
        {
          "output_type": "display_data",
          "data": {
            "image/png": "[encoded data removed]",
            "text/plain": [
              "<Figure size 432x288 with 2 Axes>"
            ]
          },
          "metadata": {
            "tags": []
          }
        }
      ]
    },
    {
      "cell_type": "code",
      "metadata": {
        "id": "Db8FG5Z2S7r8",
        "colab_type": "code",
        "colab": {
          "base_uri": "https://localhost:8080/",
          "height": 35
        },
        "outputId": "abf79a65-5f77-4551-ea07-e771015c9e5f"
      },
      "source": [
        " print(\"Accuracy score\",metrics.accuracy_score(y_test, y_predict))"
      ],
      "execution_count": 59,
      "outputs": [
        {
          "output_type": "stream",
          "text": [
            "Accuracy score 0.292123629112662\n"
          ],
          "name": "stdout"
        }
      ]
    },
    {
      "cell_type": "markdown",
      "metadata": {
        "id": "JIaSmbcCSdDm",
        "colab_type": "text"
      },
      "source": [
        "# **10.Print true label and predicted label for any five examples (7.5 points)**"
      ]
    },
    {
      "cell_type": "code",
      "metadata": {
        "id": "dQiVgULdO3j3",
        "colab_type": "code",
        "colab": {
          "base_uri": "https://localhost:8080/",
          "height": 380
        },
        "outputId": "25389770-f960-43aa-d441-3de038ab0932"
      },
      "source": [
        "y_test_pred_inversed = mlb.inverse_transform(y_predict)\n",
        "y_test_inversed = mlb.inverse_transform(y_test)\n",
        "for i in range(10,15):\n",
        "    print('True labels:\\t{}\\nPredicted labels:\\t{}\\n\\n'.format(\n",
        "        (y_test_inversed[i]),\n",
        "        ','.join(y_test_pred_inversed[i])\n",
        "    ))"
      ],
      "execution_count": 66,
      "outputs": [
        {
          "output_type": "stream",
          "text": [
            "True labels:\t(' 23', ' Aries', ' indUnk', 'female')\n",
            "Predicted labels:\t 35, Aries, Technology,male\n",
            "\n",
            "\n",
            "True labels:\t(' 34', ' Cancer', ' indUnk', 'female')\n",
            "Predicted labels:\t 34, Cancer, indUnk,female\n",
            "\n",
            "\n",
            "True labels:\t(' 17', ' Gemini', ' Non-Profit', 'male')\n",
            "Predicted labels:\t 16,female\n",
            "\n",
            "\n",
            "True labels:\t(' 16', ' Aquarius', ' Student', 'female')\n",
            "Predicted labels:\t 16, Aquarius, Student,female\n",
            "\n",
            "\n",
            "True labels:\t(' 35', ' Aries', ' Technology', 'male')\n",
            "Predicted labels:\t 23, Aries, indUnk,female\n",
            "\n",
            "\n"
          ],
          "name": "stdout"
        }
      ]
    },
    {
      "cell_type": "code",
      "metadata": {
        "id": "0kTT7_161taz",
        "colab_type": "code",
        "colab": {}
      },
      "source": [
        "## model is performing fairly, the accuracy can further be tuned by pre processing."
      ],
      "execution_count": 0,
      "outputs": []
    }
  ]
}