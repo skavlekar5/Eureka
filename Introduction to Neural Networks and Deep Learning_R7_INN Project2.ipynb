{
 "cells": [
  {
   "cell_type": "code",
   "execution_count": 0,
   "metadata": {
    "colab": {
     "base_uri": "https://localhost:8080/",
     "height": 34
    },
    "colab_type": "code",
    "id": "6dGZWygKBVBv",
    "outputId": "e0e3514b-856d-4896-9d54-78f0c08355d1"
   },
   "outputs": [
    {
     "name": "stdout",
     "output_type": "stream",
     "text": [
      "TensorFlow 2.x selected.\n"
     ]
    }
   ],
   "source": [
    "%tensorflow_version 2.x"
   ]
  },
  {
   "cell_type": "code",
   "execution_count": 0,
   "metadata": {
    "colab": {
     "base_uri": "https://localhost:8080/",
     "height": 34
    },
    "colab_type": "code",
    "id": "XOUNz7bbMwwz",
    "outputId": "4789d1b7-6fb9-4a05-d294-29112fde021a"
   },
   "outputs": [
    {
     "name": "stdout",
     "output_type": "stream",
     "text": [
      "2.1.0-rc1\n"
     ]
    }
   ],
   "source": [
    "import tensorflow as tf\n",
    "print(tf.__version__)"
   ]
  },
  {
   "cell_type": "markdown",
   "metadata": {},
   "source": [
    "# Project Description\n",
    "\n",
    "In this hands-on project the goal is to build a python code for image classification from scratch to understand the nitty gritties of building and training a model and further to understand the advantages of neural networks. \n",
    "\n",
    "First we will implement a simple KNN classifier and later implement a Neural Network to classify the images in the SVHN dataset. \n",
    "\n",
    "We will compare the computational efficiency and accuracy between the traditional methods and neural networks"
   ]
  },
  {
   "cell_type": "code",
   "execution_count": 0,
   "metadata": {
    "colab": {
     "base_uri": "https://localhost:8080/",
     "height": 122
    },
    "colab_type": "code",
    "id": "7wj4zL6LMzMm",
    "outputId": "611ab79e-74ad-4033-c1fd-58dca9769fd7"
   },
   "outputs": [
    {
     "name": "stdout",
     "output_type": "stream",
     "text": [
      "Go to this URL in a browser: https://accounts.google.com/o/oauth2/auth?client_id=947318989803-6bn6qk8qdgf4n4g3pfee6491hc0brc4i.apps.googleusercontent.com&redirect_uri=urn%3aietf%3awg%3aoauth%3a2.0%3aoob&response_type=code&scope=email%20https%3a%2f%2fwww.googleapis.com%2fauth%2fdocs.test%20https%3a%2f%2fwww.googleapis.com%2fauth%2fdrive%20https%3a%2f%2fwww.googleapis.com%2fauth%2fdrive.photos.readonly%20https%3a%2f%2fwww.googleapis.com%2fauth%2fpeopleapi.readonly\n",
      "\n",
      "Enter your authorization code:\n",
      "··········\n",
      "Mounted at /content/gdrive\n"
     ]
    }
   ],
   "source": [
    "from google.colab import drive\n",
    "drive.mount('/content/gdrive')"
   ]
  },
  {
   "cell_type": "code",
   "execution_count": 0,
   "metadata": {
    "colab": {},
    "colab_type": "code",
    "id": "duW_QdS0nLVB"
   },
   "outputs": [],
   "source": [
    "import warnings \n",
    "warnings.filterwarnings('ignore')\n",
    "\n",
    "import numpy as np"
   ]
  },
  {
   "cell_type": "markdown",
   "metadata": {},
   "source": [
    "# 1. Data fetching and understand the train/val/test splits"
   ]
  },
  {
   "cell_type": "code",
   "execution_count": 0,
   "metadata": {
    "colab": {
     "base_uri": "https://localhost:8080/",
     "height": 34
    },
    "colab_type": "code",
    "id": "dRLrDZqqM4YN",
    "outputId": "500299df-c961-4fa2-9b20-988f76359856"
   },
   "outputs": [
    {
     "name": "stdout",
     "output_type": "stream",
     "text": [
      "['X_test', 'X_train', 'X_val', 'y_test', 'y_train', 'y_val']\n"
     ]
    }
   ],
   "source": [
    "import h5py\n",
    "f1 = h5py.File('gdrive/My Drive/Colab Notebooks/SVHN_single_grey1.h5', 'r')\n",
    "print(list(f1.keys()))"
   ]
  },
  {
   "cell_type": "markdown",
   "metadata": {
    "colab_type": "text",
    "id": "mRHniDLM_N_Z"
   },
   "source": [
    "We are converting them into different datasets as below for processing"
   ]
  },
  {
   "cell_type": "code",
   "execution_count": 0,
   "metadata": {
    "colab": {},
    "colab_type": "code",
    "id": "shplQV6XNOrH"
   },
   "outputs": [],
   "source": [
    "X_test  = f1['X_test'][:]\n",
    "X_train = f1['X_train'][:]\n",
    "X_val   = f1['X_val'][:]\n",
    "\n",
    "y_test  = f1['y_test'][:]\n",
    "y_train = f1['y_train'][:]\n",
    "y_val   = f1['y_val'][:]"
   ]
  },
  {
   "cell_type": "code",
   "execution_count": 0,
   "metadata": {
    "colab": {},
    "colab_type": "code",
    "id": "LXurSYcRP_Q6"
   },
   "outputs": [],
   "source": [
    "# Close this file\n",
    "f1.close()"
   ]
  },
  {
   "cell_type": "code",
   "execution_count": 0,
   "metadata": {
    "colab": {
     "base_uri": "https://localhost:8080/",
     "height": 283
    },
    "colab_type": "code",
    "id": "aAf52aE7PQ5P",
    "outputId": "bef2935d-684c-4ea6-e390-a728749101e9"
   },
   "outputs": [
    {
     "data": {
      "text/plain": [
       "<matplotlib.image.AxesImage at 0x7fc57c8944e0>"
      ]
     },
     "execution_count": 8,
     "metadata": {
      "tags": []
     },
     "output_type": "execute_result"
    },
    {
     "data": {
      "image/png": "[encoded data removed]",
      "text/plain": [
       "<Figure size 432x288 with 1 Axes>"
      ]
     },
     "metadata": {
      "tags": []
     },
     "output_type": "display_data"
    }
   ],
   "source": [
    "from matplotlib import pyplot as plt  #ploting the first image in X train\n",
    "plt.imshow(X_train[0])"
   ]
  },
  {
   "cell_type": "code",
   "execution_count": 0,
   "metadata": {
    "colab": {
     "base_uri": "https://localhost:8080/",
     "height": 34
    },
    "colab_type": "code",
    "id": "lRh5FXuFXjSb",
    "outputId": "e3c5bcb9-1c8c-42e2-c4fd-6e7fe041a426"
   },
   "outputs": [
    {
     "data": {
      "text/plain": [
       "2"
      ]
     },
     "execution_count": 9,
     "metadata": {
      "tags": []
     },
     "output_type": "execute_result"
    }
   ],
   "source": [
    "y_train[0] #corresponding class in y for x train image printed above"
   ]
  },
  {
   "cell_type": "code",
   "execution_count": 0,
   "metadata": {
    "colab": {
     "base_uri": "https://localhost:8080/",
     "height": 68
    },
    "colab_type": "code",
    "id": "LL5MqTkFwP-4",
    "outputId": "af32db6f-2798-4db2-ed05-9b16cc4a8ded"
   },
   "outputs": [
    {
     "name": "stdout",
     "output_type": "stream",
     "text": [
      "Training set (42000, 32, 32) (42000,)\n",
      "Validation set (60000, 32, 32) (60000,)\n",
      "Test set (18000, 32, 32) (18000,)\n"
     ]
    }
   ],
   "source": [
    "# checking the shape of each datasets\n",
    "\n",
    "print('Training set', X_train.shape, y_train.shape)\n",
    "print('Validation set', X_val.shape, y_val.shape)\n",
    "print('Test set', X_test.shape, y_test.shape)"
   ]
  },
  {
   "cell_type": "markdown",
   "metadata": {
    "colab_type": "text",
    "id": "ODJoMksp_mf4"
   },
   "source": [
    "Plotting how the images and correspponding label looks like"
   ]
  },
  {
   "cell_type": "code",
   "execution_count": 0,
   "metadata": {
    "colab": {
     "base_uri": "https://localhost:8080/",
     "height": 480
    },
    "colab_type": "code",
    "id": "GIkmPw-Z0PDN",
    "outputId": "448dff83-1b46-4f68-eed5-fc725a375dc1"
   },
   "outputs": [
    {
     "data": {
      "image/png": "[encoded data removed]",
      "text/plain": [
       "<Figure size 576x576 with 25 Axes>"
      ]
     },
     "metadata": {
      "tags": []
     },
     "output_type": "display_data"
    }
   ],
   "source": [
    "plt.figure(figsize=(8,8))\n",
    "for i in range(25):\n",
    "    plt.subplot(5,5,i+1)\n",
    "    plt.xticks([])\n",
    "    plt.yticks([])\n",
    "    plt.grid(False)\n",
    "    plt.imshow(X_train[i], cmap=plt.cm.binary)\n",
    "    plt.xlabel(y_train[i])\n",
    "plt.show()"
   ]
  },
  {
   "cell_type": "markdown",
   "metadata": {
    "colab_type": "text",
    "id": "EjAVaOYE_v-R"
   },
   "source": [
    "From the above, we can see that each image is classified into a category between 0-9. So we have totally 10 output classes"
   ]
  },
  {
   "cell_type": "markdown",
   "metadata": {
    "colab_type": "text",
    "id": "-utvQnmTABfx"
   },
   "source": [
    "#### Converting the 10 output classes into a matrix of 0 to num_classes"
   ]
  },
  {
   "cell_type": "code",
   "execution_count": 0,
   "metadata": {
    "colab": {},
    "colab_type": "code",
    "id": "_T9MRf991KB9"
   },
   "outputs": [],
   "source": [
    "y_train = tf.keras.utils.to_categorical(y_train, num_classes = 10)\n",
    "y_test = tf.keras.utils.to_categorical(y_test, num_classes = 10)"
   ]
  },
  {
   "cell_type": "code",
   "execution_count": 0,
   "metadata": {
    "colab": {
     "base_uri": "https://localhost:8080/",
     "height": 34
    },
    "colab_type": "code",
    "id": "QSP5GDOjAU6c",
    "outputId": "a73a154b-efe7-47e1-e478-a5fe119fc2c8"
   },
   "outputs": [
    {
     "data": {
      "text/plain": [
       "array([0., 0., 1., 0., 0., 0., 0., 0., 0., 0.], dtype=float32)"
      ]
     },
     "execution_count": 13,
     "metadata": {
      "tags": []
     },
     "output_type": "execute_result"
    }
   ],
   "source": [
    "y_train[0]"
   ]
  },
  {
   "cell_type": "code",
   "execution_count": 0,
   "metadata": {
    "colab": {},
    "colab_type": "code",
    "id": "pmEpmvXOa-AY"
   },
   "outputs": [],
   "source": [
    "# normalizing the dataset\n",
    "\n",
    "X_train_norm = X_train/255.0\n",
    "\n",
    "X_test_norm = X_test/255.0"
   ]
  },
  {
   "cell_type": "markdown",
   "metadata": {},
   "source": [
    "# 2. Implement and apply an optimal k-Nearest Neighbor (kNN) classifier (7.5 points) "
   ]
  },
  {
   "cell_type": "markdown",
   "metadata": {
    "colab_type": "text",
    "id": "xpkOwMhEVmzk"
   },
   "source": [
    "Since the input images are in 32*32 dimension, converting them into one dimensional so that KNN can be applied on them"
   ]
  },
  {
   "cell_type": "code",
   "execution_count": 0,
   "metadata": {
    "colab": {},
    "colab_type": "code",
    "id": "gj7OxTO5WdQ7"
   },
   "outputs": [],
   "source": [
    "X_train_flatten = X_train_norm.reshape(X_train.shape[0], 32 * 32)"
   ]
  },
  {
   "cell_type": "code",
   "execution_count": 0,
   "metadata": {
    "colab": {},
    "colab_type": "code",
    "id": "l_-RTf4oWqDF"
   },
   "outputs": [],
   "source": [
    "X_test_flatten = X_test_norm.reshape(X_test.shape[0], 32 * 32)"
   ]
  },
  {
   "cell_type": "markdown",
   "metadata": {
    "colab_type": "text",
    "id": "54HKpKEobaKV"
   },
   "source": [
    "**Implementing KNN algorithm**"
   ]
  },
  {
   "cell_type": "code",
   "execution_count": 0,
   "metadata": {
    "colab": {},
    "colab_type": "code",
    "id": "4yFxY3OfXX5S"
   },
   "outputs": [],
   "source": [
    "from sklearn.neighbors import KNeighborsClassifier"
   ]
  },
  {
   "cell_type": "code",
   "execution_count": 0,
   "metadata": {
    "colab": {},
    "colab_type": "code",
    "id": "1kozRY9ybZj1"
   },
   "outputs": [],
   "source": [
    "KNN_model = KNeighborsClassifier(n_neighbors=9)"
   ]
  },
  {
   "cell_type": "code",
   "execution_count": 0,
   "metadata": {
    "colab": {
     "base_uri": "https://localhost:8080/",
     "height": 68
    },
    "colab_type": "code",
    "id": "UP13tcZYbtwO",
    "outputId": "09c78b0c-8a8d-4226-a80b-818a859111ea"
   },
   "outputs": [
    {
     "data": {
      "text/plain": [
       "KNeighborsClassifier(algorithm='auto', leaf_size=30, metric='minkowski',\n",
       "                     metric_params=None, n_jobs=None, n_neighbors=9, p=2,\n",
       "                     weights='uniform')"
      ]
     },
     "execution_count": 60,
     "metadata": {
      "tags": []
     },
     "output_type": "execute_result"
    }
   ],
   "source": [
    "KNN_model.fit(X_train_flatten,y_train)"
   ]
  },
  {
   "cell_type": "code",
   "execution_count": 0,
   "metadata": {
    "colab": {},
    "colab_type": "code",
    "id": "XiYr9Rnxbyma"
   },
   "outputs": [],
   "source": [
    "y_predict = KNN_model.predict(X_test_flatten)"
   ]
  },
  {
   "cell_type": "code",
   "execution_count": 0,
   "metadata": {
    "colab": {},
    "colab_type": "code",
    "id": "15GAqlgSvj2O"
   },
   "outputs": [],
   "source": [
    "from sklearn import metrics"
   ]
  },
  {
   "cell_type": "code",
   "execution_count": 0,
   "metadata": {
    "colab": {},
    "colab_type": "code",
    "id": "ZUM89cUfjqOa"
   },
   "outputs": [],
   "source": [
    "KNN_accuracy = metrics.accuracy_score(y_test, y_predict) "
   ]
  },
  {
   "cell_type": "code",
   "execution_count": 0,
   "metadata": {
    "colab": {
     "base_uri": "https://localhost:8080/",
     "height": 34
    },
    "colab_type": "code",
    "id": "hRBnwZrSvgnR",
    "outputId": "af67b047-5dec-4e98-8281-62424d13f7f3"
   },
   "outputs": [
    {
     "name": "stdout",
     "output_type": "stream",
     "text": [
      "Accuracy score of KNN :  0.25983333333333336\n"
     ]
    }
   ],
   "source": [
    "print(\"Accuracy score of KNN : \",  KNN_accuracy)"
   ]
  },
  {
   "cell_type": "markdown",
   "metadata": {
    "colab_type": "text",
    "id": "TOcU_A3KdVf8"
   },
   "source": [
    "The KNN yielded very less accuracy score of 25% with number of nieghbours = 9.\n",
    "\n",
    "Lets find out the optimal K. The above KNN took lot of time to run since the data set is huge. So to find the optimal K, im taking only first 5K records and running. "
   ]
  },
  {
   "cell_type": "markdown",
   "metadata": {
    "colab_type": "text",
    "id": "r4VPyEutv0TJ"
   },
   "source": [
    "**Finding Optimal K**"
   ]
  },
  {
   "cell_type": "code",
   "execution_count": 0,
   "metadata": {
    "colab": {},
    "colab_type": "code",
    "id": "2CjfRrjId1XA"
   },
   "outputs": [],
   "source": [
    "X_train_trimmed = X_train_flatten[:5000, :] # take first 5000 for validation\n",
    "y_train_trimmed = y_train[:5000]"
   ]
  },
  {
   "cell_type": "code",
   "execution_count": 0,
   "metadata": {
    "colab": {},
    "colab_type": "code",
    "id": "Q1-QEq9Kv96d"
   },
   "outputs": [],
   "source": [
    "optimalK = 1\n",
    "optimalTrainAccuracy = 0"
   ]
  },
  {
   "cell_type": "code",
   "execution_count": 0,
   "metadata": {
    "colab": {},
    "colab_type": "code",
    "id": "DxAWVLFGv_Uw"
   },
   "outputs": [],
   "source": [
    "maxK = 9"
   ]
  },
  {
   "cell_type": "code",
   "execution_count": 23,
   "metadata": {
    "colab": {
     "base_uri": "https://localhost:8080/",
     "height": 34
    },
    "colab_type": "code",
    "id": "X046Jb74vnlD",
    "outputId": "4623de44-75f7-43b5-d345-6a06542a68b1"
   },
   "outputs": [
    {
     "name": "stdout",
     "output_type": "stream",
     "text": [
      "optimal (3, 0.473)\n"
     ]
    }
   ],
   "source": [
    "validation_accuracies = []\n",
    "for k in (1,3,5,7,9):\n",
    "  \n",
    "  # use a particular value of k and evaluation on validation data\n",
    "  NNH = KNeighborsClassifier(n_neighbors=k)\n",
    "  NNH.fit(X_train_trimmed, y_train_trimmed)\n",
    "  modelScore = NNH.score(X_train_trimmed, y_train_trimmed)\n",
    "  if((modelScore > optimalTrainAccuracy) and (k > 1)):\n",
    "    \n",
    "    optimalK = k\n",
    "    optimalTrainAccuracy = modelScore\n",
    "    \n",
    "print(\"optimal\",(optimalK, optimalTrainAccuracy))"
   ]
  },
  {
   "cell_type": "markdown",
   "metadata": {
    "colab_type": "text",
    "id": "-tQecVXZes-s"
   },
   "source": [
    "As seen above optimal value of K is 3\n",
    "\n",
    "Now Lets implement KNN using the optimal K\n",
    "\n"
   ]
  },
  {
   "cell_type": "markdown",
   "metadata": {
    "colab_type": "text",
    "id": "k667Rg0be_Gm"
   },
   "source": [
    "**Implement and apply an optimal k-Nearest Neighbor (kNN) classifier (7.5 points) ** "
   ]
  },
  {
   "cell_type": "code",
   "execution_count": 24,
   "metadata": {
    "colab": {
     "base_uri": "https://localhost:8080/",
     "height": 68
    },
    "colab_type": "code",
    "id": "8qzewph6wSnh",
    "outputId": "6414e153-4194-4375-be2e-bf0e63355fc6"
   },
   "outputs": [
    {
     "data": {
      "text/plain": [
       "KNeighborsClassifier(algorithm='auto', leaf_size=30, metric='minkowski',\n",
       "                     metric_params=None, n_jobs=None, n_neighbors=3, p=2,\n",
       "                     weights='uniform')"
      ]
     },
     "execution_count": 24,
     "metadata": {
      "tags": []
     },
     "output_type": "execute_result"
    }
   ],
   "source": [
    "# Call Nearest Neighbour algorithm\n",
    "knn_model_optimal = KNeighborsClassifier(n_neighbors=3)\n",
    "knn_model_optimal.fit(X_train_flatten, y_train)"
   ]
  },
  {
   "cell_type": "code",
   "execution_count": 0,
   "metadata": {
    "colab": {},
    "colab_type": "code",
    "id": "vfGipDuqfXL8"
   },
   "outputs": [],
   "source": [
    "y_predict_optimal = knn_model_optimal.predict(X_test_flatten) # For every test data point, predict it's outcome"
   ]
  },
  {
   "cell_type": "code",
   "execution_count": 28,
   "metadata": {
    "colab": {
     "base_uri": "https://localhost:8080/",
     "height": 34
    },
    "colab_type": "code",
    "id": "71_daK_MfYUC",
    "outputId": "62b80687-288b-40ed-930b-a99b11869bbd"
   },
   "outputs": [
    {
     "name": "stdout",
     "output_type": "stream",
     "text": [
      "knn model accuracy for optimised K 0.3783888888888889\n"
     ]
    }
   ],
   "source": [
    "knn_model_optimal_acc = metrics.accuracy_score(y_test, y_predict_optimal) # get the accuracy score \n",
    "print(\"knn model accuracy for optimised K\",knn_model_optimal_acc)"
   ]
  },
  {
   "cell_type": "markdown",
   "metadata": {
    "colab_type": "text",
    "id": "Q5te0DhagPxf"
   },
   "source": [
    "# 3. Print the classification metric report (2.5 points) "
   ]
  },
  {
   "cell_type": "code",
   "execution_count": 0,
   "metadata": {
    "colab": {},
    "colab_type": "code",
    "id": "zVTBFOG6m8hQ"
   },
   "outputs": [],
   "source": [
    "from sklearn.metrics import classification_report"
   ]
  },
  {
   "cell_type": "code",
   "execution_count": 34,
   "metadata": {
    "colab": {
     "base_uri": "https://localhost:8080/",
     "height": 340
    },
    "colab_type": "code",
    "id": "09eyYEk3gShK",
    "outputId": "f0d667ef-d9fd-44eb-a2fc-ee57cc4a40f4"
   },
   "outputs": [
    {
     "name": "stdout",
     "output_type": "stream",
     "text": [
      "Classification Report\n",
      "              precision    recall  f1-score   support\n",
      "\n",
      "           0       0.61      0.44      0.51      1814\n",
      "           1       0.62      0.51      0.56      1828\n",
      "           2       0.74      0.40      0.52      1803\n",
      "           3       0.56      0.27      0.37      1719\n",
      "           4       0.78      0.51      0.61      1812\n",
      "           5       0.58      0.25      0.35      1768\n",
      "           6       0.54      0.29      0.37      1832\n",
      "           7       0.80      0.54      0.65      1808\n",
      "           8       0.45      0.25      0.32      1812\n",
      "           9       0.60      0.32      0.41      1804\n",
      "\n",
      "   micro avg       0.64      0.38      0.47     18000\n",
      "   macro avg       0.63      0.38      0.47     18000\n",
      "weighted avg       0.63      0.38      0.47     18000\n",
      " samples avg       0.38      0.38      0.38     18000\n",
      "\n"
     ]
    }
   ],
   "source": [
    "print(\"Classification Report\")\n",
    "print(classification_report(y_test, y_predict_optimal))"
   ]
  },
  {
   "cell_type": "code",
   "execution_count": 0,
   "metadata": {
    "colab": {},
    "colab_type": "code",
    "id": "8A6JHDH8ncRU"
   },
   "outputs": [],
   "source": [
    "from sklearn.metrics import confusion_matrix"
   ]
  },
  {
   "cell_type": "code",
   "execution_count": 41,
   "metadata": {
    "colab": {
     "base_uri": "https://localhost:8080/",
     "height": 204
    },
    "colab_type": "code",
    "id": "Ix5aq5jwnUEF",
    "outputId": "e7a047d3-aab4-4dd5-d5c7-63b4612072a3"
   },
   "outputs": [
    {
     "name": "stdout",
     "output_type": "stream",
     "text": [
      "Confusion matrix: \n",
      " [[1494   15    7   17   22   16   76   18   68   81]\n",
      " [ 658  940   39   37   50   21   19   42   12   10]\n",
      " [ 737   84  713   46   26   16   14   88   33   46]\n",
      " [ 811   88   58  471   27  101   28   28   61   46]\n",
      " [ 625  104   14   21  918   15   45   12   36   22]\n",
      " [ 900   52   20  106   21  443   80   12   80   54]\n",
      " [ 926   38   10   28   52   58  524    4  169   23]\n",
      " [ 555  103   59   33    7   10   12  984   13   32]\n",
      " [ 991   39   13   42   32   48  128    7  449   63]\n",
      " [ 914   45   30   39   21   31   45   32   78  569]]\n"
     ]
    }
   ],
   "source": [
    "knn_val_cm = confusion_matrix(y_test.argmax(axis=1), y_predict_optimal.argmax(axis=1))\n",
    "print('Confusion matrix: \\n', knn_val_cm)"
   ]
  },
  {
   "cell_type": "markdown",
   "metadata": {
    "colab_type": "text",
    "id": "TekfJMUCuyjz"
   },
   "source": [
    "KNN Summary\n",
    "1. KNN had an accuracy score of 25% with n=9\n",
    "2. The optimal K is 3\n",
    "3. With the optimal K, KNN yielded an accuracy of 38%"
   ]
  },
  {
   "cell_type": "markdown",
   "metadata": {
    "colab_type": "text",
    "id": "nJuZuqflvMy9"
   },
   "source": [
    "# 4. Implement and apply a deep neural network classifier including (feedforward  neural network, RELU activations) (5 points)"
   ]
  },
  {
   "cell_type": "code",
   "execution_count": 43,
   "metadata": {
    "colab": {
     "base_uri": "https://localhost:8080/",
     "height": 34
    },
    "colab_type": "code",
    "id": "ZBvaNX_UvPZF",
    "outputId": "0f582a2d-83b6-40bd-9767-6b9f4f163ef5"
   },
   "outputs": [
    {
     "data": {
      "text/plain": [
       "(42000, 32, 32)"
      ]
     },
     "execution_count": 43,
     "metadata": {
      "tags": []
     },
     "output_type": "execute_result"
    }
   ],
   "source": [
    "X_train.shape"
   ]
  },
  {
   "cell_type": "code",
   "execution_count": 45,
   "metadata": {
    "colab": {
     "base_uri": "https://localhost:8080/",
     "height": 34
    },
    "colab_type": "code",
    "id": "AkntuN8VvzRK",
    "outputId": "2a4cdaeb-84b5-4236-f83f-604250e8ea1b"
   },
   "outputs": [
    {
     "data": {
      "text/plain": [
       "(18000, 32, 32)"
      ]
     },
     "execution_count": 45,
     "metadata": {
      "tags": []
     },
     "output_type": "execute_result"
    }
   ],
   "source": [
    "X_test.shape"
   ]
  },
  {
   "cell_type": "markdown",
   "metadata": {
    "colab_type": "text",
    "id": "nrx1Y87pv4Gy"
   },
   "source": [
    "We have 48000 images in train and 18000 images in test. Now resizing the images to 2D"
   ]
  },
  {
   "cell_type": "code",
   "execution_count": 47,
   "metadata": {
    "colab": {
     "base_uri": "https://localhost:8080/",
     "height": 51
    },
    "colab_type": "code",
    "id": "_4X5bVrjvhrb",
    "outputId": "5aad42b8-087d-48b1-894b-980544de0e1b"
   },
   "outputs": [
    {
     "name": "stdout",
     "output_type": "stream",
     "text": [
      "(42000, 32, 32, 1)\n",
      "(18000, 32, 32, 1)\n"
     ]
    }
   ],
   "source": [
    "# input image dimensions\n",
    "img_rows, img_cols = X_train.shape[1], X_train.shape[2]\n",
    "\n",
    "#Keras expects data to be in the format (N_E.N_H,N_W,N_C)\n",
    "#N_E = Number of Examples, N_H = height, N_W = Width, N_C = Number of Channels.\n",
    "X_train_reshape = X_train.reshape(X_train.shape[0], img_rows, img_cols, 1)\n",
    "X_test_reshape = X_test.reshape(X_test.shape[0], img_rows, img_cols, 1)\n",
    "\n",
    "input_shape = (img_rows, img_cols, 1)\n",
    "print(X_train_reshape.shape)\n",
    "print(X_test_reshape.shape)\n"
   ]
  },
  {
   "cell_type": "markdown",
   "metadata": {
    "colab_type": "text",
    "id": "cvTe5xO5wbEW"
   },
   "source": [
    "**Building the model with 4 hidden layers**"
   ]
  },
  {
   "cell_type": "code",
   "execution_count": 0,
   "metadata": {
    "colab": {},
    "colab_type": "code",
    "id": "69q41VWQwBQS"
   },
   "outputs": [],
   "source": [
    "# Initialize Sequential model\n",
    "model = tf.keras.models.Sequential()\n",
    "\n",
    "# Reshape data from 2D to 1D -> 28x28 to 784\n",
    "model.add(tf.keras.layers.Reshape((img_rows*img_cols,),input_shape=input_shape))\n",
    "\n",
    "# Adding 4 Hidden layers\n",
    "model.add(tf.keras.layers.Dense(200, activation='relu', name='Layer_1'))\n",
    "model.add(tf.keras.layers.Dense(100, activation='relu', name='Layer_2'))\n",
    "model.add(tf.keras.layers.Dense(200, activation='relu', name='Layer_3'))\n",
    "model.add(tf.keras.layers.Dense(100, activation='relu', name='Layer_4'))\n",
    "\n",
    "#Output layer with activation function softmax. Since we have 10 output classes, adding last output layer with 10\n",
    "model.add(tf.keras.layers.Dense(10, activation='softmax', name='Output'))"
   ]
  },
  {
   "cell_type": "markdown",
   "metadata": {
    "colab_type": "text",
    "id": "sbgjh-70wgT6"
   },
   "source": [
    "**Compiling the model and printing summary**"
   ]
  },
  {
   "cell_type": "code",
   "execution_count": 0,
   "metadata": {
    "colab": {},
    "colab_type": "code",
    "id": "xWtzEQZ3wZsL"
   },
   "outputs": [],
   "source": [
    "model.compile(optimizer='adam', loss='categorical_crossentropy', metrics=['accuracy'])"
   ]
  },
  {
   "cell_type": "code",
   "execution_count": 50,
   "metadata": {
    "colab": {
     "base_uri": "https://localhost:8080/",
     "height": 357
    },
    "colab_type": "code",
    "id": "bKY_yQH5wlGX",
    "outputId": "a00fe160-9682-41ec-e038-f47d6662c880"
   },
   "outputs": [
    {
     "name": "stdout",
     "output_type": "stream",
     "text": [
      "Model: \"sequential\"\n",
      "_________________________________________________________________\n",
      "Layer (type)                 Output Shape              Param #   \n",
      "=================================================================\n",
      "reshape (Reshape)            (None, 1024)              0         \n",
      "_________________________________________________________________\n",
      "Layer_1 (Dense)              (None, 200)               205000    \n",
      "_________________________________________________________________\n",
      "Layer_2 (Dense)              (None, 100)               20100     \n",
      "_________________________________________________________________\n",
      "Layer_3 (Dense)              (None, 200)               20200     \n",
      "_________________________________________________________________\n",
      "Layer_4 (Dense)              (None, 100)               20100     \n",
      "_________________________________________________________________\n",
      "Output (Dense)               (None, 10)                1010      \n",
      "=================================================================\n",
      "Total params: 266,410\n",
      "Trainable params: 266,410\n",
      "Non-trainable params: 0\n",
      "_________________________________________________________________\n"
     ]
    }
   ],
   "source": [
    "model.summary()"
   ]
  },
  {
   "cell_type": "markdown",
   "metadata": {
    "colab_type": "text",
    "id": "sj8F5Hydwz-b"
   },
   "source": [
    "**Running the model with 50 epochs and batch size 16**"
   ]
  },
  {
   "cell_type": "code",
   "execution_count": 51,
   "metadata": {
    "colab": {
     "base_uri": "https://localhost:8080/",
     "height": 1000
    },
    "colab_type": "code",
    "id": "XIxnWVwbwoqQ",
    "outputId": "598bbe72-d295-4891-c3c6-016c0ed24506"
   },
   "outputs": [
    {
     "name": "stdout",
     "output_type": "stream",
     "text": [
      "Train on 42000 samples, validate on 18000 samples\n",
      "Epoch 1/50\n",
      "42000/42000 [==============================] - 12s 278us/sample - loss: 2.6900 - accuracy: 0.2159 - val_loss: 1.6757 - val_accuracy: 0.4011\n",
      "Epoch 2/50\n",
      "42000/42000 [==============================] - 11s 252us/sample - loss: 1.6624 - accuracy: 0.4241 - val_loss: 1.4967 - val_accuracy: 0.4807\n",
      "Epoch 3/50\n",
      "42000/42000 [==============================] - 11s 250us/sample - loss: 1.4787 - accuracy: 0.5012 - val_loss: 1.3568 - val_accuracy: 0.5471\n",
      "Epoch 4/50\n",
      "42000/42000 [==============================] - 10s 250us/sample - loss: 1.3603 - accuracy: 0.5503 - val_loss: 1.2054 - val_accuracy: 0.6156\n",
      "Epoch 5/50\n",
      "42000/42000 [==============================] - 11s 262us/sample - loss: 1.2925 - accuracy: 0.5769 - val_loss: 1.2572 - val_accuracy: 0.5975\n",
      "Epoch 6/50\n",
      "42000/42000 [==============================] - 11s 257us/sample - loss: 1.2519 - accuracy: 0.5936 - val_loss: 1.1806 - val_accuracy: 0.6229\n",
      "Epoch 7/50\n",
      "42000/42000 [==============================] - 11s 253us/sample - loss: 1.2169 - accuracy: 0.6092 - val_loss: 1.2717 - val_accuracy: 0.5894\n",
      "Epoch 8/50\n",
      "42000/42000 [==============================] - 11s 254us/sample - loss: 1.1842 - accuracy: 0.6220 - val_loss: 1.1674 - val_accuracy: 0.6276\n",
      "Epoch 9/50\n",
      "42000/42000 [==============================] - 11s 256us/sample - loss: 1.1588 - accuracy: 0.6307 - val_loss: 1.3178 - val_accuracy: 0.5804\n",
      "Epoch 10/50\n",
      "42000/42000 [==============================] - 11s 250us/sample - loss: 1.1351 - accuracy: 0.6415 - val_loss: 1.0729 - val_accuracy: 0.6683\n",
      "Epoch 11/50\n",
      "42000/42000 [==============================] - 11s 254us/sample - loss: 1.1195 - accuracy: 0.6471 - val_loss: 1.0495 - val_accuracy: 0.6769\n",
      "Epoch 12/50\n",
      "42000/42000 [==============================] - 11s 256us/sample - loss: 1.1032 - accuracy: 0.6512 - val_loss: 1.1514 - val_accuracy: 0.6416\n",
      "Epoch 13/50\n",
      "42000/42000 [==============================] - 11s 257us/sample - loss: 1.0789 - accuracy: 0.6627 - val_loss: 1.1952 - val_accuracy: 0.6232\n",
      "Epoch 14/50\n",
      "42000/42000 [==============================] - 11s 256us/sample - loss: 1.0659 - accuracy: 0.6661 - val_loss: 1.1511 - val_accuracy: 0.6457\n",
      "Epoch 15/50\n",
      "42000/42000 [==============================] - 11s 260us/sample - loss: 1.0620 - accuracy: 0.6677 - val_loss: 1.0649 - val_accuracy: 0.6719\n",
      "Epoch 16/50\n",
      "42000/42000 [==============================] - 11s 253us/sample - loss: 1.0461 - accuracy: 0.6737 - val_loss: 1.0472 - val_accuracy: 0.6812\n",
      "Epoch 17/50\n",
      "42000/42000 [==============================] - 11s 254us/sample - loss: 1.0316 - accuracy: 0.6786 - val_loss: 1.0241 - val_accuracy: 0.6900\n",
      "Epoch 18/50\n",
      "42000/42000 [==============================] - 11s 259us/sample - loss: 1.0285 - accuracy: 0.6801 - val_loss: 1.0984 - val_accuracy: 0.6649\n",
      "Epoch 19/50\n",
      "42000/42000 [==============================] - 11s 255us/sample - loss: 1.0211 - accuracy: 0.6845 - val_loss: 1.0163 - val_accuracy: 0.6921\n",
      "Epoch 20/50\n",
      "42000/42000 [==============================] - 11s 255us/sample - loss: 1.0075 - accuracy: 0.6885 - val_loss: 1.0340 - val_accuracy: 0.6888\n",
      "Epoch 21/50\n",
      "42000/42000 [==============================] - 11s 257us/sample - loss: 1.0076 - accuracy: 0.6887 - val_loss: 1.0527 - val_accuracy: 0.6776\n",
      "Epoch 22/50\n",
      "42000/42000 [==============================] - 11s 254us/sample - loss: 0.9981 - accuracy: 0.6933 - val_loss: 1.0132 - val_accuracy: 0.6901\n",
      "Epoch 23/50\n",
      "42000/42000 [==============================] - 11s 258us/sample - loss: 0.9991 - accuracy: 0.6919 - val_loss: 1.0644 - val_accuracy: 0.6741\n",
      "Epoch 24/50\n",
      "42000/42000 [==============================] - 11s 256us/sample - loss: 0.9945 - accuracy: 0.6959 - val_loss: 1.0273 - val_accuracy: 0.6871\n",
      "Epoch 25/50\n",
      "42000/42000 [==============================] - 11s 268us/sample - loss: 0.9830 - accuracy: 0.6988 - val_loss: 1.0442 - val_accuracy: 0.6886\n",
      "Epoch 26/50\n",
      "42000/42000 [==============================] - 11s 260us/sample - loss: 0.9798 - accuracy: 0.6970 - val_loss: 1.0162 - val_accuracy: 0.6934\n",
      "Epoch 27/50\n",
      "42000/42000 [==============================] - 11s 255us/sample - loss: 0.9854 - accuracy: 0.6974 - val_loss: 1.0314 - val_accuracy: 0.6906\n",
      "Epoch 28/50\n",
      "42000/42000 [==============================] - 11s 255us/sample - loss: 0.9791 - accuracy: 0.6979 - val_loss: 0.9956 - val_accuracy: 0.7041\n",
      "Epoch 29/50\n",
      "42000/42000 [==============================] - 11s 260us/sample - loss: 0.9739 - accuracy: 0.7011 - val_loss: 1.0455 - val_accuracy: 0.6857\n",
      "Epoch 30/50\n",
      "42000/42000 [==============================] - 11s 255us/sample - loss: 0.9719 - accuracy: 0.7030 - val_loss: 1.1143 - val_accuracy: 0.6710\n",
      "Epoch 31/50\n",
      "42000/42000 [==============================] - 11s 260us/sample - loss: 0.9628 - accuracy: 0.7040 - val_loss: 1.0059 - val_accuracy: 0.7059\n",
      "Epoch 32/50\n",
      "42000/42000 [==============================] - 11s 259us/sample - loss: 0.9674 - accuracy: 0.7038 - val_loss: 0.9992 - val_accuracy: 0.7029\n",
      "Epoch 33/50\n",
      "42000/42000 [==============================] - 11s 258us/sample - loss: 0.9533 - accuracy: 0.7091 - val_loss: 1.0729 - val_accuracy: 0.6734\n",
      "Epoch 34/50\n",
      "42000/42000 [==============================] - 12s 277us/sample - loss: 0.9635 - accuracy: 0.7074 - val_loss: 0.9890 - val_accuracy: 0.7097\n",
      "Epoch 35/50\n",
      "42000/42000 [==============================] - 11s 262us/sample - loss: 0.9635 - accuracy: 0.7069 - val_loss: 0.9968 - val_accuracy: 0.7014\n",
      "Epoch 36/50\n",
      "42000/42000 [==============================] - 11s 262us/sample - loss: 0.9546 - accuracy: 0.7070 - val_loss: 1.0218 - val_accuracy: 0.6961\n",
      "Epoch 37/50\n",
      "42000/42000 [==============================] - 11s 264us/sample - loss: 0.9545 - accuracy: 0.7100 - val_loss: 1.0004 - val_accuracy: 0.7029\n",
      "Epoch 38/50\n",
      "42000/42000 [==============================] - 11s 260us/sample - loss: 0.9549 - accuracy: 0.7100 - val_loss: 1.0672 - val_accuracy: 0.6786\n",
      "Epoch 39/50\n",
      "42000/42000 [==============================] - 11s 257us/sample - loss: 0.9552 - accuracy: 0.7090 - val_loss: 1.0089 - val_accuracy: 0.7021\n",
      "Epoch 40/50\n",
      "42000/42000 [==============================] - 11s 266us/sample - loss: 0.9499 - accuracy: 0.7126 - val_loss: 0.9878 - val_accuracy: 0.7062\n",
      "Epoch 41/50\n",
      "42000/42000 [==============================] - 11s 260us/sample - loss: 0.9611 - accuracy: 0.7062 - val_loss: 0.9888 - val_accuracy: 0.7110\n",
      "Epoch 42/50\n",
      "42000/42000 [==============================] - 11s 263us/sample - loss: 1.0334 - accuracy: 0.6796 - val_loss: 1.0412 - val_accuracy: 0.6887\n",
      "Epoch 43/50\n",
      "42000/42000 [==============================] - 11s 261us/sample - loss: 0.9421 - accuracy: 0.7144 - val_loss: 1.0073 - val_accuracy: 0.7029\n",
      "Epoch 44/50\n",
      "42000/42000 [==============================] - 11s 256us/sample - loss: 0.9426 - accuracy: 0.7119 - val_loss: 1.0039 - val_accuracy: 0.7037\n",
      "Epoch 45/50\n",
      "42000/42000 [==============================] - 11s 261us/sample - loss: 0.9362 - accuracy: 0.7156 - val_loss: 0.9894 - val_accuracy: 0.7063\n",
      "Epoch 46/50\n",
      "42000/42000 [==============================] - 11s 262us/sample - loss: 0.9575 - accuracy: 0.7080 - val_loss: 0.9739 - val_accuracy: 0.7127\n",
      "Epoch 47/50\n",
      "42000/42000 [==============================] - 11s 261us/sample - loss: 0.9410 - accuracy: 0.7148 - val_loss: 0.9696 - val_accuracy: 0.7129\n",
      "Epoch 48/50\n",
      "42000/42000 [==============================] - 11s 261us/sample - loss: 0.9367 - accuracy: 0.7153 - val_loss: 1.0021 - val_accuracy: 0.7118\n",
      "Epoch 49/50\n",
      "42000/42000 [==============================] - 11s 260us/sample - loss: 0.9520 - accuracy: 0.7097 - val_loss: 1.0248 - val_accuracy: 0.6999\n",
      "Epoch 50/50\n",
      "42000/42000 [==============================] - 11s 260us/sample - loss: 0.9322 - accuracy: 0.7173 - val_loss: 1.2031 - val_accuracy: 0.6273\n"
     ]
    },
    {
     "data": {
      "text/plain": [
       "<tensorflow.python.keras.callbacks.History at 0x7fcb32679710>"
      ]
     },
     "execution_count": 51,
     "metadata": {
      "tags": []
     },
     "output_type": "execute_result"
    }
   ],
   "source": [
    "model.fit(X_train_reshape, y_train, validation_data=(X_test_reshape, y_test), epochs=50,\n",
    "          batch_size = 16)"
   ]
  },
  {
   "cell_type": "markdown",
   "metadata": {
    "colab_type": "text",
    "id": "4a6rUSQnzYt0"
   },
   "source": [
    "**The accuracy is 71% on train data and 62% on test data for 50 epochs**"
   ]
  },
  {
   "cell_type": "markdown",
   "metadata": {
    "colab_type": "text",
    "id": "LwTYUm4ezi7Z"
   },
   "source": [
    "# 5. Understand and be able to implement (vectorized) backpropagation (cost stochastic gradient descent, cross entropy loss, cost functions) (2.5 points)"
   ]
  },
  {
   "cell_type": "code",
   "execution_count": 0,
   "metadata": {
    "colab": {},
    "colab_type": "code",
    "id": "LopqhqQkxB2Z"
   },
   "outputs": [],
   "source": [
    "# Initialize Sequential model\n",
    "model_sgd = tf.keras.models.Sequential()\n",
    "\n",
    "# Reshape data from 2D to 1D -> 32*32 size image\n",
    "model_sgd.add(tf.keras.layers.Reshape((img_rows*img_cols,),input_shape=input_shape))\n",
    "\n",
    "# Adding 4 Hidden layers\n",
    "model_sgd.add(tf.keras.layers.Dense(200, activation='relu', name='Layer_1'))\n",
    "model_sgd.add(tf.keras.layers.Dense(100, activation='relu', name='Layer_2'))\n",
    "model_sgd.add(tf.keras.layers.Dense(200, activation='relu', name='Layer_3'))\n",
    "model_sgd.add(tf.keras.layers.Dense(100, activation='relu', name='Layer_4'))\n",
    "\n",
    "#Output layer\n",
    "model_sgd.add(tf.keras.layers.Dense(10, activation='softmax', name='Output'))"
   ]
  },
  {
   "cell_type": "code",
   "execution_count": 0,
   "metadata": {
    "colab": {},
    "colab_type": "code",
    "id": "OraWglzd0NTE"
   },
   "outputs": [],
   "source": [
    "# Adding stochastic gradient descent with learning rate 0.001\n",
    "optimizedsgd=tf.keras.optimizers.SGD(lr=0.001)"
   ]
  },
  {
   "cell_type": "code",
   "execution_count": 0,
   "metadata": {
    "colab": {},
    "colab_type": "code",
    "id": "llZy_GrK0Gfd"
   },
   "outputs": [],
   "source": [
    "#Compiling the Model\n",
    "model_sgd.compile(optimizer=optimizedsgd, loss='categorical_crossentropy', metrics=['accuracy'])"
   ]
  },
  {
   "cell_type": "code",
   "execution_count": 55,
   "metadata": {
    "colab": {
     "base_uri": "https://localhost:8080/",
     "height": 357
    },
    "colab_type": "code",
    "id": "Be4yFxRW0nW_",
    "outputId": "e5d63ea6-6890-40e6-c535-4c7b16f60794"
   },
   "outputs": [
    {
     "name": "stdout",
     "output_type": "stream",
     "text": [
      "Model: \"sequential_1\"\n",
      "_________________________________________________________________\n",
      "Layer (type)                 Output Shape              Param #   \n",
      "=================================================================\n",
      "reshape_1 (Reshape)          (None, 1024)              0         \n",
      "_________________________________________________________________\n",
      "Layer_1 (Dense)              (None, 200)               205000    \n",
      "_________________________________________________________________\n",
      "Layer_2 (Dense)              (None, 100)               20100     \n",
      "_________________________________________________________________\n",
      "Layer_3 (Dense)              (None, 200)               20200     \n",
      "_________________________________________________________________\n",
      "Layer_4 (Dense)              (None, 100)               20100     \n",
      "_________________________________________________________________\n",
      "Output (Dense)               (None, 10)                1010      \n",
      "=================================================================\n",
      "Total params: 266,410\n",
      "Trainable params: 266,410\n",
      "Non-trainable params: 0\n",
      "_________________________________________________________________\n"
     ]
    }
   ],
   "source": [
    "model_sgd.summary()"
   ]
  },
  {
   "cell_type": "code",
   "execution_count": 56,
   "metadata": {
    "colab": {
     "base_uri": "https://localhost:8080/",
     "height": 1000
    },
    "colab_type": "code",
    "id": "gtA9ny8P0rJB",
    "outputId": "d45264ee-e98e-4c71-f0b1-2b48d048438e"
   },
   "outputs": [
    {
     "name": "stdout",
     "output_type": "stream",
     "text": [
      "Train on 42000 samples, validate on 18000 samples\n",
      "Epoch 1/50\n",
      "42000/42000 [==============================] - 9s 225us/sample - loss: 2.7357 - accuracy: 0.1119 - val_loss: 2.2588 - val_accuracy: 0.1370\n",
      "Epoch 2/50\n",
      "42000/42000 [==============================] - 9s 215us/sample - loss: 2.1690 - accuracy: 0.1704 - val_loss: 2.1564 - val_accuracy: 0.1804\n",
      "Epoch 3/50\n",
      "42000/42000 [==============================] - 9s 214us/sample - loss: 1.9992 - accuracy: 0.2527 - val_loss: 1.8715 - val_accuracy: 0.2901\n",
      "Epoch 4/50\n",
      "42000/42000 [==============================] - 9s 216us/sample - loss: 1.8020 - accuracy: 0.3461 - val_loss: 1.6541 - val_accuracy: 0.3949\n",
      "Epoch 5/50\n",
      "42000/42000 [==============================] - 9s 215us/sample - loss: 1.6744 - accuracy: 0.4088 - val_loss: 1.5643 - val_accuracy: 0.4678\n",
      "Epoch 6/50\n",
      "42000/42000 [==============================] - 9s 216us/sample - loss: 1.5167 - accuracy: 0.4939 - val_loss: 1.3780 - val_accuracy: 0.5472\n",
      "Epoch 7/50\n",
      "42000/42000 [==============================] - 9s 216us/sample - loss: 1.3603 - accuracy: 0.5562 - val_loss: 1.3096 - val_accuracy: 0.5729\n",
      "Epoch 8/50\n",
      "42000/42000 [==============================] - 9s 213us/sample - loss: 1.2658 - accuracy: 0.5930 - val_loss: 1.1764 - val_accuracy: 0.6309\n",
      "Epoch 9/50\n",
      "42000/42000 [==============================] - 9s 213us/sample - loss: 1.2132 - accuracy: 0.6143 - val_loss: 1.1965 - val_accuracy: 0.6156\n",
      "Epoch 10/50\n",
      "42000/42000 [==============================] - 9s 211us/sample - loss: 1.1668 - accuracy: 0.6299 - val_loss: 1.2496 - val_accuracy: 0.6117\n",
      "Epoch 11/50\n",
      "42000/42000 [==============================] - 9s 212us/sample - loss: 1.1306 - accuracy: 0.6423 - val_loss: 1.2186 - val_accuracy: 0.6146\n",
      "Epoch 12/50\n",
      "42000/42000 [==============================] - 9s 212us/sample - loss: 1.0998 - accuracy: 0.6533 - val_loss: 1.0416 - val_accuracy: 0.6770\n",
      "Epoch 13/50\n",
      "42000/42000 [==============================] - 9s 215us/sample - loss: 1.0748 - accuracy: 0.6620 - val_loss: 1.0843 - val_accuracy: 0.6612\n",
      "Epoch 14/50\n",
      "42000/42000 [==============================] - 9s 212us/sample - loss: 1.0570 - accuracy: 0.6698 - val_loss: 1.0279 - val_accuracy: 0.6822\n",
      "Epoch 15/50\n",
      "42000/42000 [==============================] - 9s 211us/sample - loss: 1.0331 - accuracy: 0.6751 - val_loss: 1.0820 - val_accuracy: 0.6679\n",
      "Epoch 16/50\n",
      "42000/42000 [==============================] - 9s 213us/sample - loss: 1.0193 - accuracy: 0.6817 - val_loss: 1.0616 - val_accuracy: 0.6693\n",
      "Epoch 17/50\n",
      "42000/42000 [==============================] - 9s 218us/sample - loss: 1.0015 - accuracy: 0.6864 - val_loss: 1.0036 - val_accuracy: 0.6870\n",
      "Epoch 18/50\n",
      "42000/42000 [==============================] - 9s 215us/sample - loss: 0.9883 - accuracy: 0.6894 - val_loss: 0.9885 - val_accuracy: 0.6939\n",
      "Epoch 19/50\n",
      "42000/42000 [==============================] - 9s 211us/sample - loss: 0.9781 - accuracy: 0.6909 - val_loss: 1.0429 - val_accuracy: 0.6778\n",
      "Epoch 20/50\n",
      "42000/42000 [==============================] - 9s 217us/sample - loss: 0.9680 - accuracy: 0.6979 - val_loss: 0.9982 - val_accuracy: 0.6931\n",
      "Epoch 21/50\n",
      "42000/42000 [==============================] - 9s 211us/sample - loss: 0.9581 - accuracy: 0.6990 - val_loss: 0.9935 - val_accuracy: 0.6910\n",
      "Epoch 22/50\n",
      "42000/42000 [==============================] - 9s 209us/sample - loss: 0.9470 - accuracy: 0.7015 - val_loss: 1.0339 - val_accuracy: 0.6826\n",
      "Epoch 23/50\n",
      "42000/42000 [==============================] - 9s 211us/sample - loss: 0.9345 - accuracy: 0.7057 - val_loss: 1.0156 - val_accuracy: 0.6852\n",
      "Epoch 24/50\n",
      "42000/42000 [==============================] - 10s 231us/sample - loss: 0.9258 - accuracy: 0.7080 - val_loss: 1.0095 - val_accuracy: 0.6909\n",
      "Epoch 25/50\n",
      "42000/42000 [==============================] - 9s 220us/sample - loss: 0.9166 - accuracy: 0.7116 - val_loss: 0.9765 - val_accuracy: 0.7017\n",
      "Epoch 26/50\n",
      "42000/42000 [==============================] - 9s 211us/sample - loss: 0.9051 - accuracy: 0.7138 - val_loss: 1.0097 - val_accuracy: 0.6873\n",
      "Epoch 27/50\n",
      "42000/42000 [==============================] - 9s 213us/sample - loss: 0.8945 - accuracy: 0.7193 - val_loss: 0.9576 - val_accuracy: 0.7063\n",
      "Epoch 28/50\n",
      "42000/42000 [==============================] - 9s 213us/sample - loss: 0.8815 - accuracy: 0.7240 - val_loss: 1.0643 - val_accuracy: 0.6708\n",
      "Epoch 29/50\n",
      "42000/42000 [==============================] - 9s 210us/sample - loss: 0.8721 - accuracy: 0.7280 - val_loss: 0.9292 - val_accuracy: 0.7191\n",
      "Epoch 30/50\n",
      "42000/42000 [==============================] - 9s 213us/sample - loss: 0.8613 - accuracy: 0.7289 - val_loss: 1.0040 - val_accuracy: 0.6901\n",
      "Epoch 31/50\n",
      "42000/42000 [==============================] - 9s 212us/sample - loss: 0.8562 - accuracy: 0.7305 - val_loss: 0.9823 - val_accuracy: 0.7033\n",
      "Epoch 32/50\n",
      "42000/42000 [==============================] - 9s 225us/sample - loss: 0.8516 - accuracy: 0.7326 - val_loss: 0.9323 - val_accuracy: 0.7175\n",
      "Epoch 33/50\n",
      "42000/42000 [==============================] - 9s 222us/sample - loss: 0.8394 - accuracy: 0.7373 - val_loss: 0.9486 - val_accuracy: 0.7123\n",
      "Epoch 34/50\n",
      "42000/42000 [==============================] - 9s 212us/sample - loss: 0.8319 - accuracy: 0.7362 - val_loss: 0.9217 - val_accuracy: 0.7226\n",
      "Epoch 35/50\n",
      "42000/42000 [==============================] - 9s 211us/sample - loss: 0.8227 - accuracy: 0.7427 - val_loss: 0.9031 - val_accuracy: 0.7272\n",
      "Epoch 36/50\n",
      "42000/42000 [==============================] - 9s 212us/sample - loss: 0.8157 - accuracy: 0.7457 - val_loss: 1.0671 - val_accuracy: 0.6815\n",
      "Epoch 37/50\n",
      "42000/42000 [==============================] - 9s 212us/sample - loss: 0.8065 - accuracy: 0.7465 - val_loss: 0.8998 - val_accuracy: 0.7296\n",
      "Epoch 38/50\n",
      "42000/42000 [==============================] - 9s 212us/sample - loss: 0.7983 - accuracy: 0.7500 - val_loss: 0.9180 - val_accuracy: 0.7236\n",
      "Epoch 39/50\n",
      "42000/42000 [==============================] - 9s 211us/sample - loss: 0.7941 - accuracy: 0.7510 - val_loss: 0.9078 - val_accuracy: 0.7273\n",
      "Epoch 40/50\n",
      "42000/42000 [==============================] - 9s 215us/sample - loss: 0.7850 - accuracy: 0.7535 - val_loss: 0.8623 - val_accuracy: 0.7406\n",
      "Epoch 41/50\n",
      "42000/42000 [==============================] - 9s 212us/sample - loss: 0.7799 - accuracy: 0.7552 - val_loss: 0.9048 - val_accuracy: 0.7327\n",
      "Epoch 42/50\n",
      "42000/42000 [==============================] - 9s 212us/sample - loss: 0.7745 - accuracy: 0.7557 - val_loss: 0.9386 - val_accuracy: 0.7237\n",
      "Epoch 43/50\n",
      "42000/42000 [==============================] - 9s 212us/sample - loss: 0.7660 - accuracy: 0.7589 - val_loss: 0.9054 - val_accuracy: 0.7313\n",
      "Epoch 44/50\n",
      "42000/42000 [==============================] - 9s 212us/sample - loss: 0.7565 - accuracy: 0.7630 - val_loss: 0.8434 - val_accuracy: 0.7471\n",
      "Epoch 45/50\n",
      "42000/42000 [==============================] - 9s 212us/sample - loss: 0.7530 - accuracy: 0.7645 - val_loss: 0.8487 - val_accuracy: 0.7513\n",
      "Epoch 46/50\n",
      "42000/42000 [==============================] - 9s 212us/sample - loss: 0.7476 - accuracy: 0.7649 - val_loss: 0.8682 - val_accuracy: 0.7456\n",
      "Epoch 47/50\n",
      "42000/42000 [==============================] - 9s 215us/sample - loss: 0.7413 - accuracy: 0.7661 - val_loss: 0.8500 - val_accuracy: 0.7480\n",
      "Epoch 48/50\n",
      "42000/42000 [==============================] - 9s 211us/sample - loss: 0.7361 - accuracy: 0.7690 - val_loss: 0.8741 - val_accuracy: 0.7423\n",
      "Epoch 49/50\n",
      "42000/42000 [==============================] - 9s 208us/sample - loss: 0.7311 - accuracy: 0.7725 - val_loss: 0.9656 - val_accuracy: 0.7144\n",
      "Epoch 50/50\n",
      "42000/42000 [==============================] - 9s 210us/sample - loss: 0.7259 - accuracy: 0.7727 - val_loss: 0.9945 - val_accuracy: 0.7067\n"
     ]
    },
    {
     "data": {
      "text/plain": [
       "<tensorflow.python.keras.callbacks.History at 0x7fcb30cce390>"
      ]
     },
     "execution_count": 56,
     "metadata": {
      "tags": []
     },
     "output_type": "execute_result"
    }
   ],
   "source": [
    "# Running the model with 50 epochs and batch size 16\n",
    "\n",
    "model_sgd.fit(X_train_reshape, y_train, validation_data=(X_test_reshape, y_test), epochs=50,\n",
    "          batch_size = 16)"
   ]
  },
  {
   "cell_type": "markdown",
   "metadata": {
    "colab_type": "text",
    "id": "XJ2jmqNL2nrv"
   },
   "source": [
    "**The accuracy is 72% on train data and 70% on test data for 50 epochs**"
   ]
  },
  {
   "cell_type": "markdown",
   "metadata": {
    "colab_type": "text",
    "id": "9f85kdo82zPY"
   },
   "source": [
    "# 6. Implement batch normalization for training the neural network (2.5 points)"
   ]
  },
  {
   "cell_type": "code",
   "execution_count": 0,
   "metadata": {
    "colab": {},
    "colab_type": "code",
    "id": "QQAnCSGR2yh0"
   },
   "outputs": [],
   "source": [
    "# Initialize Sequential model\n",
    "model_normalized = tf.keras.models.Sequential()\n",
    "\n",
    "# Reshape data from 2D to 1D -> 32*32 image\n",
    "model_normalized.add(tf.keras.layers.Reshape((img_rows*img_cols,),input_shape=input_shape))\n",
    "\n",
    "#Normalize the data by batch normalisation method\n",
    "model_normalized.add(tf.keras.layers.BatchNormalization())\n",
    "\n",
    "# Adding 4 Hidden layers\n",
    "model_normalized.add(tf.keras.layers.Dense(200, activation='relu', name='Layer_1'))\n",
    "model_normalized.add(tf.keras.layers.Dense(100, activation='relu', name='Layer_2'))\n",
    "model_normalized.add(tf.keras.layers.Dense(200, activation='relu', name='Layer_3'))\n",
    "model_normalized.add(tf.keras.layers.Dense(100, activation='relu', name='Layer_4'))\n",
    "\n",
    "#Output layer\n",
    "model_normalized.add(tf.keras.layers.Dense(10, activation='softmax', name='Output'))"
   ]
  },
  {
   "cell_type": "code",
   "execution_count": 0,
   "metadata": {
    "colab": {},
    "colab_type": "code",
    "id": "adu2N1EX01qQ"
   },
   "outputs": [],
   "source": [
    "# Adding stochastic gradient descent with learning rate 0.001\n",
    "optimizedsgd=tf.keras.optimizers.SGD(lr=0.001)"
   ]
  },
  {
   "cell_type": "code",
   "execution_count": 0,
   "metadata": {
    "colab": {},
    "colab_type": "code",
    "id": "c4oC6xeR3JJj"
   },
   "outputs": [],
   "source": [
    "#Compiling the Model\n",
    "model_normalized.compile(optimizer=optimizedsgd, loss='categorical_crossentropy', metrics=['accuracy'])"
   ]
  },
  {
   "cell_type": "code",
   "execution_count": 61,
   "metadata": {
    "colab": {
     "base_uri": "https://localhost:8080/",
     "height": 391
    },
    "colab_type": "code",
    "id": "NZ6etgnT3PSI",
    "outputId": "6d493391-4d17-41b7-ac72-23901f2ce55b"
   },
   "outputs": [
    {
     "name": "stdout",
     "output_type": "stream",
     "text": [
      "Model: \"sequential_2\"\n",
      "_________________________________________________________________\n",
      "Layer (type)                 Output Shape              Param #   \n",
      "=================================================================\n",
      "reshape_2 (Reshape)          (None, 1024)              0         \n",
      "_________________________________________________________________\n",
      "batch_normalization (BatchNo (None, 1024)              4096      \n",
      "_________________________________________________________________\n",
      "Layer_1 (Dense)              (None, 200)               205000    \n",
      "_________________________________________________________________\n",
      "Layer_2 (Dense)              (None, 100)               20100     \n",
      "_________________________________________________________________\n",
      "Layer_3 (Dense)              (None, 200)               20200     \n",
      "_________________________________________________________________\n",
      "Layer_4 (Dense)              (None, 100)               20100     \n",
      "_________________________________________________________________\n",
      "Output (Dense)               (None, 10)                1010      \n",
      "=================================================================\n",
      "Total params: 270,506\n",
      "Trainable params: 268,458\n",
      "Non-trainable params: 2,048\n",
      "_________________________________________________________________\n"
     ]
    }
   ],
   "source": [
    "# summary of the model\n",
    "model_normalized.summary()"
   ]
  },
  {
   "cell_type": "code",
   "execution_count": 62,
   "metadata": {
    "colab": {
     "base_uri": "https://localhost:8080/",
     "height": 1000
    },
    "colab_type": "code",
    "id": "YLS32CiD3SQQ",
    "outputId": "39effd8c-8760-4be2-a67f-5776a8567267"
   },
   "outputs": [
    {
     "name": "stdout",
     "output_type": "stream",
     "text": [
      "Train on 42000 samples, validate on 18000 samples\n",
      "Epoch 1/50\n",
      "42000/42000 [==============================] - 12s 285us/sample - loss: 2.2838 - accuracy: 0.1369 - val_loss: 2.2300 - val_accuracy: 0.2076\n",
      "Epoch 2/50\n",
      "42000/42000 [==============================] - 12s 279us/sample - loss: 2.1725 - accuracy: 0.2435 - val_loss: 2.0413 - val_accuracy: 0.3396\n",
      "Epoch 3/50\n",
      "42000/42000 [==============================] - 11s 272us/sample - loss: 1.9355 - accuracy: 0.3627 - val_loss: 1.6957 - val_accuracy: 0.4753\n",
      "Epoch 4/50\n",
      "42000/42000 [==============================] - 12s 283us/sample - loss: 1.6510 - accuracy: 0.4627 - val_loss: 1.4040 - val_accuracy: 0.5665\n",
      "Epoch 5/50\n",
      "42000/42000 [==============================] - 12s 281us/sample - loss: 1.4543 - accuracy: 0.5318 - val_loss: 1.2282 - val_accuracy: 0.6262\n",
      "Epoch 6/50\n",
      "42000/42000 [==============================] - 12s 289us/sample - loss: 1.3296 - accuracy: 0.5735 - val_loss: 1.1171 - val_accuracy: 0.6667\n",
      "Epoch 7/50\n",
      "42000/42000 [==============================] - 12s 281us/sample - loss: 1.2375 - accuracy: 0.6080 - val_loss: 1.0198 - val_accuracy: 0.6981\n",
      "Epoch 8/50\n",
      "42000/42000 [==============================] - 12s 281us/sample - loss: 1.1617 - accuracy: 0.6302 - val_loss: 0.9612 - val_accuracy: 0.7208\n",
      "Epoch 9/50\n",
      "42000/42000 [==============================] - 12s 281us/sample - loss: 1.1070 - accuracy: 0.6478 - val_loss: 0.9210 - val_accuracy: 0.7273\n",
      "Epoch 10/50\n",
      "42000/42000 [==============================] - 12s 278us/sample - loss: 1.0523 - accuracy: 0.6665 - val_loss: 0.8730 - val_accuracy: 0.7429\n",
      "Epoch 11/50\n",
      "42000/42000 [==============================] - 12s 281us/sample - loss: 1.0154 - accuracy: 0.6816 - val_loss: 0.8448 - val_accuracy: 0.7526\n",
      "Epoch 12/50\n",
      "42000/42000 [==============================] - 12s 280us/sample - loss: 0.9762 - accuracy: 0.6916 - val_loss: 0.8215 - val_accuracy: 0.7588\n",
      "Epoch 13/50\n",
      "42000/42000 [==============================] - 12s 276us/sample - loss: 0.9502 - accuracy: 0.7026 - val_loss: 0.7820 - val_accuracy: 0.7744\n",
      "Epoch 14/50\n",
      "42000/42000 [==============================] - 13s 304us/sample - loss: 0.9224 - accuracy: 0.7105 - val_loss: 0.7705 - val_accuracy: 0.7758\n",
      "Epoch 15/50\n",
      "42000/42000 [==============================] - 12s 277us/sample - loss: 0.8966 - accuracy: 0.7169 - val_loss: 0.7375 - val_accuracy: 0.7863\n",
      "Epoch 16/50\n",
      "42000/42000 [==============================] - 12s 278us/sample - loss: 0.8683 - accuracy: 0.7248 - val_loss: 0.7216 - val_accuracy: 0.7908\n",
      "Epoch 17/50\n",
      "42000/42000 [==============================] - 12s 278us/sample - loss: 0.8567 - accuracy: 0.7292 - val_loss: 0.7117 - val_accuracy: 0.7945\n",
      "Epoch 18/50\n",
      "42000/42000 [==============================] - 12s 274us/sample - loss: 0.8321 - accuracy: 0.7374 - val_loss: 0.7019 - val_accuracy: 0.7979\n",
      "Epoch 19/50\n",
      "42000/42000 [==============================] - 12s 283us/sample - loss: 0.8149 - accuracy: 0.7444 - val_loss: 0.6782 - val_accuracy: 0.8047\n",
      "Epoch 20/50\n",
      "42000/42000 [==============================] - 12s 283us/sample - loss: 0.8020 - accuracy: 0.7490 - val_loss: 0.6639 - val_accuracy: 0.8105\n",
      "Epoch 21/50\n",
      "42000/42000 [==============================] - 12s 275us/sample - loss: 0.7807 - accuracy: 0.7513 - val_loss: 0.6514 - val_accuracy: 0.8146\n",
      "Epoch 22/50\n",
      "42000/42000 [==============================] - 12s 275us/sample - loss: 0.7695 - accuracy: 0.7555 - val_loss: 0.6494 - val_accuracy: 0.8155\n",
      "Epoch 23/50\n",
      "42000/42000 [==============================] - 12s 274us/sample - loss: 0.7579 - accuracy: 0.7619 - val_loss: 0.6444 - val_accuracy: 0.8191\n",
      "Epoch 24/50\n",
      "42000/42000 [==============================] - 12s 277us/sample - loss: 0.7435 - accuracy: 0.7662 - val_loss: 0.6274 - val_accuracy: 0.8234\n",
      "Epoch 25/50\n",
      "42000/42000 [==============================] - 12s 276us/sample - loss: 0.7322 - accuracy: 0.7667 - val_loss: 0.6278 - val_accuracy: 0.8193\n",
      "Epoch 26/50\n",
      "42000/42000 [==============================] - 11s 271us/sample - loss: 0.7215 - accuracy: 0.7712 - val_loss: 0.6211 - val_accuracy: 0.8224\n",
      "Epoch 27/50\n",
      "42000/42000 [==============================] - 12s 276us/sample - loss: 0.7182 - accuracy: 0.7717 - val_loss: 0.6174 - val_accuracy: 0.8228\n",
      "Epoch 28/50\n",
      "42000/42000 [==============================] - 11s 273us/sample - loss: 0.7067 - accuracy: 0.7763 - val_loss: 0.6003 - val_accuracy: 0.8321\n",
      "Epoch 29/50\n",
      "42000/42000 [==============================] - 12s 275us/sample - loss: 0.6945 - accuracy: 0.7798 - val_loss: 0.6191 - val_accuracy: 0.8224\n",
      "Epoch 30/50\n",
      "42000/42000 [==============================] - 11s 274us/sample - loss: 0.6934 - accuracy: 0.7813 - val_loss: 0.5945 - val_accuracy: 0.8318\n",
      "Epoch 31/50\n",
      "42000/42000 [==============================] - 11s 273us/sample - loss: 0.6761 - accuracy: 0.7850 - val_loss: 0.6054 - val_accuracy: 0.8278\n",
      "Epoch 32/50\n",
      "42000/42000 [==============================] - 11s 272us/sample - loss: 0.6722 - accuracy: 0.7881 - val_loss: 0.5800 - val_accuracy: 0.8351\n",
      "Epoch 33/50\n",
      "42000/42000 [==============================] - 12s 275us/sample - loss: 0.6645 - accuracy: 0.7907 - val_loss: 0.5807 - val_accuracy: 0.8351\n",
      "Epoch 34/50\n",
      "42000/42000 [==============================] - 12s 276us/sample - loss: 0.6600 - accuracy: 0.7900 - val_loss: 0.5783 - val_accuracy: 0.8384\n",
      "Epoch 35/50\n",
      "42000/42000 [==============================] - 11s 271us/sample - loss: 0.6539 - accuracy: 0.7954 - val_loss: 0.5726 - val_accuracy: 0.8369\n",
      "Epoch 36/50\n",
      "42000/42000 [==============================] - 11s 273us/sample - loss: 0.6471 - accuracy: 0.7937 - val_loss: 0.5679 - val_accuracy: 0.8404\n",
      "Epoch 37/50\n",
      "42000/42000 [==============================] - 12s 274us/sample - loss: 0.6406 - accuracy: 0.7965 - val_loss: 0.5680 - val_accuracy: 0.8383\n",
      "Epoch 38/50\n",
      "42000/42000 [==============================] - 12s 274us/sample - loss: 0.6319 - accuracy: 0.8008 - val_loss: 0.5612 - val_accuracy: 0.8416\n",
      "Epoch 39/50\n",
      "42000/42000 [==============================] - 11s 270us/sample - loss: 0.6273 - accuracy: 0.8015 - val_loss: 0.5602 - val_accuracy: 0.8416\n",
      "Epoch 40/50\n",
      "42000/42000 [==============================] - 12s 274us/sample - loss: 0.6232 - accuracy: 0.8005 - val_loss: 0.5637 - val_accuracy: 0.8397\n",
      "Epoch 41/50\n",
      "42000/42000 [==============================] - 12s 296us/sample - loss: 0.6219 - accuracy: 0.8008 - val_loss: 0.5597 - val_accuracy: 0.8426\n",
      "Epoch 42/50\n",
      "42000/42000 [==============================] - 12s 294us/sample - loss: 0.6143 - accuracy: 0.8039 - val_loss: 0.5508 - val_accuracy: 0.8453\n",
      "Epoch 43/50\n",
      "42000/42000 [==============================] - 12s 278us/sample - loss: 0.6116 - accuracy: 0.8059 - val_loss: 0.5610 - val_accuracy: 0.8404\n",
      "Epoch 44/50\n",
      "42000/42000 [==============================] - 11s 271us/sample - loss: 0.6055 - accuracy: 0.8071 - val_loss: 0.5482 - val_accuracy: 0.8441\n",
      "Epoch 45/50\n",
      "42000/42000 [==============================] - 11s 272us/sample - loss: 0.6003 - accuracy: 0.8079 - val_loss: 0.5548 - val_accuracy: 0.8408\n",
      "Epoch 46/50\n",
      "42000/42000 [==============================] - 12s 292us/sample - loss: 0.5951 - accuracy: 0.8109 - val_loss: 0.5426 - val_accuracy: 0.8489\n",
      "Epoch 47/50\n",
      "42000/42000 [==============================] - 11s 268us/sample - loss: 0.5888 - accuracy: 0.8117 - val_loss: 0.5585 - val_accuracy: 0.8421\n",
      "Epoch 48/50\n",
      "42000/42000 [==============================] - 11s 271us/sample - loss: 0.5880 - accuracy: 0.8138 - val_loss: 0.5539 - val_accuracy: 0.8421\n",
      "Epoch 49/50\n",
      "42000/42000 [==============================] - 11s 273us/sample - loss: 0.5870 - accuracy: 0.8125 - val_loss: 0.5371 - val_accuracy: 0.8490\n",
      "Epoch 50/50\n",
      "42000/42000 [==============================] - 11s 271us/sample - loss: 0.5801 - accuracy: 0.8186 - val_loss: 0.5618 - val_accuracy: 0.8403\n"
     ]
    },
    {
     "data": {
      "text/plain": [
       "<tensorflow.python.keras.callbacks.History at 0x7fcb30318ac8>"
      ]
     },
     "execution_count": 62,
     "metadata": {
      "tags": []
     },
     "output_type": "execute_result"
    }
   ],
   "source": [
    "# Running the model with 50 epochs and batch size 16\n",
    "\n",
    "model_normalized.fit(X_train_reshape, y_train, validation_data=(X_test_reshape, y_test), epochs=50,\n",
    "          batch_size = 16)"
   ]
  },
  {
   "cell_type": "markdown",
   "metadata": {
    "colab_type": "text",
    "id": "pRWBEQAn5sIX"
   },
   "source": [
    "**The accuracy is 81% on train data and 84% on test data for 50 epochs**"
   ]
  },
  {
   "cell_type": "markdown",
   "metadata": {
    "colab_type": "text",
    "id": "w653DWPM4eqR"
   },
   "source": [
    "# 7. Understand the differences and trade-offs between traditional and NN classifiers with the help of classification metrics (5 points)"
   ]
  },
  {
   "cell_type": "markdown",
   "metadata": {
    "colab_type": "text",
    "id": "1Iji_mZz4jw2"
   },
   "source": [
    "#### 1. Classification reoprt for KNN model with optimal K"
   ]
  },
  {
   "cell_type": "code",
   "execution_count": 63,
   "metadata": {
    "colab": {
     "base_uri": "https://localhost:8080/",
     "height": 527
    },
    "colab_type": "code",
    "id": "gzffxjY-3bis",
    "outputId": "ba2a0eca-03a3-4478-cbad-efcb3d77bfb0"
   },
   "outputs": [
    {
     "name": "stdout",
     "output_type": "stream",
     "text": [
      "Classification Report of KNN\n",
      "              precision    recall  f1-score   support\n",
      "\n",
      "           0       0.61      0.44      0.51      1814\n",
      "           1       0.62      0.51      0.56      1828\n",
      "           2       0.74      0.40      0.52      1803\n",
      "           3       0.56      0.27      0.37      1719\n",
      "           4       0.78      0.51      0.61      1812\n",
      "           5       0.58      0.25      0.35      1768\n",
      "           6       0.54      0.29      0.37      1832\n",
      "           7       0.80      0.54      0.65      1808\n",
      "           8       0.45      0.25      0.32      1812\n",
      "           9       0.60      0.32      0.41      1804\n",
      "\n",
      "   micro avg       0.64      0.38      0.47     18000\n",
      "   macro avg       0.63      0.38      0.47     18000\n",
      "weighted avg       0.63      0.38      0.47     18000\n",
      " samples avg       0.38      0.38      0.38     18000\n",
      "\n",
      "Confusion matrix: \n",
      " [[1494   15    7   17   22   16   76   18   68   81]\n",
      " [ 658  940   39   37   50   21   19   42   12   10]\n",
      " [ 737   84  713   46   26   16   14   88   33   46]\n",
      " [ 811   88   58  471   27  101   28   28   61   46]\n",
      " [ 625  104   14   21  918   15   45   12   36   22]\n",
      " [ 900   52   20  106   21  443   80   12   80   54]\n",
      " [ 926   38   10   28   52   58  524    4  169   23]\n",
      " [ 555  103   59   33    7   10   12  984   13   32]\n",
      " [ 991   39   13   42   32   48  128    7  449   63]\n",
      " [ 914   45   30   39   21   31   45   32   78  569]]\n"
     ]
    }
   ],
   "source": [
    "print(\"Classification Report of KNN\")\n",
    "print(classification_report(y_test, y_predict_optimal))\n",
    "knn_val_cm = confusion_matrix(y_test.argmax(axis=1), y_predict_optimal.argmax(axis=1))\n",
    "print('Confusion matrix: \\n', knn_val_cm)"
   ]
  },
  {
   "cell_type": "markdown",
   "metadata": {
    "colab_type": "text",
    "id": "uLTAw-Fg5CVJ"
   },
   "source": [
    "#### 2. Classification report of feed forward NN with Relu activation"
   ]
  },
  {
   "cell_type": "code",
   "execution_count": 67,
   "metadata": {
    "colab": {
     "base_uri": "https://localhost:8080/",
     "height": 510
    },
    "colab_type": "code",
    "id": "LX8sdIzv5Mhb",
    "outputId": "e5cc94ae-472c-4c74-e275-8b871e599fcb"
   },
   "outputs": [
    {
     "name": "stdout",
     "output_type": "stream",
     "text": [
      "Classification Report of NN\n",
      "              precision    recall  f1-score   support\n",
      "\n",
      "           0       0.65      0.67      0.66      1814\n",
      "           1       0.58      0.71      0.64      1828\n",
      "           2       0.48      0.64      0.55      1803\n",
      "           3       0.65      0.50      0.56      1719\n",
      "           4       0.69      0.78      0.73      1812\n",
      "           5       0.61      0.63      0.62      1768\n",
      "           6       0.72      0.62      0.67      1832\n",
      "           7       0.70      0.51      0.59      1808\n",
      "           8       0.58      0.58      0.58      1812\n",
      "           9       0.71      0.62      0.66      1804\n",
      "\n",
      "    accuracy                           0.63     18000\n",
      "   macro avg       0.64      0.63      0.63     18000\n",
      "weighted avg       0.64      0.63      0.63     18000\n",
      "\n",
      "Confusion matrix: \n",
      " [[1224  130   80   12   74   36   49   20   68  121]\n",
      " [  94 1304  111   73   95   24   14   70   34    9]\n",
      " [  41   63 1160   76   56   63   17  221   45   61]\n",
      " [  60  110  215  851   38  195   15   17  184   34]\n",
      " [  53   94   36   26 1413   64   40   13   29   44]\n",
      " [  80  113   80   92   50 1118  104   10   95   26]\n",
      " [ 108   77   32   12  143  127 1141    6  164   22]\n",
      " [  44  137  517   62   21   23   27  921   25   31]\n",
      " [  55  108   87   47   82   92  174   13 1046  108]\n",
      " [ 113  107  108   62   67  101   13   17  102 1114]]\n"
     ]
    }
   ],
   "source": [
    "print(\"Classification Report of NN\")\n",
    "y_predict_nn = model.predict(X_test_reshape)\n",
    "print(classification_report(np.argmax(y_test, axis=1), np.argmax(y_predict_nn, axis=1)))\n",
    "nn_val_cm = confusion_matrix(y_test.argmax(axis=1), y_predict_nn.argmax(axis=1))\n",
    "print('Confusion matrix: \\n', nn_val_cm)"
   ]
  },
  {
   "cell_type": "markdown",
   "metadata": {
    "colab_type": "text",
    "id": "wcMLIOj16YGw"
   },
   "source": [
    "#### 3. Classification report of feed forward NN with Relu activation and with a stoachastic gradient of learning rate 0.001"
   ]
  },
  {
   "cell_type": "code",
   "execution_count": 69,
   "metadata": {
    "colab": {
     "base_uri": "https://localhost:8080/",
     "height": 510
    },
    "colab_type": "code",
    "id": "dCw3RWmn52tI",
    "outputId": "867ade77-8dba-4750-b850-338b2bf511fe"
   },
   "outputs": [
    {
     "name": "stdout",
     "output_type": "stream",
     "text": [
      "Classification Report of NN with SGD\n",
      "              precision    recall  f1-score   support\n",
      "\n",
      "           0       0.76      0.71      0.74      1814\n",
      "           1       0.58      0.80      0.67      1828\n",
      "           2       0.77      0.71      0.74      1803\n",
      "           3       0.71      0.65      0.68      1719\n",
      "           4       0.61      0.82      0.70      1812\n",
      "           5       0.74      0.66      0.70      1768\n",
      "           6       0.72      0.73      0.72      1832\n",
      "           7       0.75      0.73      0.74      1808\n",
      "           8       0.76      0.63      0.69      1812\n",
      "           9       0.80      0.62      0.70      1804\n",
      "\n",
      "    accuracy                           0.71     18000\n",
      "   macro avg       0.72      0.71      0.71     18000\n",
      "weighted avg       0.72      0.71      0.71     18000\n",
      "\n",
      "Confusion matrix: \n",
      " [[1291   88   15   28  113   17  120   44   35   63]\n",
      " [  47 1470   41   39   84   18   24   60   33   12]\n",
      " [  24  110 1276   71   68   24   18  140   36   36]\n",
      " [  19  204   54 1115   67  119   34   51   37   19]\n",
      " [  24  105   33   26 1485   30   54   18   13   24]\n",
      " [  45  111   27  109  106 1159  103   26   47   35]\n",
      " [  54   45   29   26  192   54 1337   15   70   10]\n",
      " [  38  192  110   40   30   20   23 1314   16   25]\n",
      " [  52   89   37   58  160   60  126   18 1149   63]\n",
      " [  98  119   45   68  130   60   30   60   69 1125]]\n"
     ]
    }
   ],
   "source": [
    "print(\"Classification Report of NN with SGD\")\n",
    "y_predict_sgd = model_sgd.predict(X_test_reshape)\n",
    "print(classification_report(np.argmax(y_test, axis=1), np.argmax(y_predict_sgd, axis=1)))\n",
    "sgd_val_cm = confusion_matrix(y_test.argmax(axis=1), y_predict_sgd.argmax(axis=1))\n",
    "print('Confusion matrix: \\n', sgd_val_cm)"
   ]
  },
  {
   "cell_type": "markdown",
   "metadata": {},
   "source": [
    "#### 4. Classification report of feed forward NN with Relu activation and with a stoachastic gradient of learning rate 0.001 with batch normalization"
   ]
  },
  {
   "cell_type": "code",
   "execution_count": 71,
   "metadata": {
    "colab": {
     "base_uri": "https://localhost:8080/",
     "height": 510
    },
    "colab_type": "code",
    "id": "dL4PjSYK6dHD",
    "outputId": "8800857e-8f42-4cdb-cca2-dca93d9d6c0e"
   },
   "outputs": [
    {
     "name": "stdout",
     "output_type": "stream",
     "text": [
      "Classification Report of NN with normalized\n",
      "              precision    recall  f1-score   support\n",
      "\n",
      "           0       0.83      0.89      0.86      1814\n",
      "           1       0.81      0.88      0.84      1828\n",
      "           2       0.90      0.84      0.87      1803\n",
      "           3       0.78      0.80      0.79      1719\n",
      "           4       0.85      0.89      0.86      1812\n",
      "           5       0.84      0.82      0.83      1768\n",
      "           6       0.87      0.79      0.83      1832\n",
      "           7       0.90      0.87      0.88      1808\n",
      "           8       0.81      0.81      0.81      1812\n",
      "           9       0.84      0.81      0.83      1804\n",
      "\n",
      "    accuracy                           0.84     18000\n",
      "   macro avg       0.84      0.84      0.84     18000\n",
      "weighted avg       0.84      0.84      0.84     18000\n",
      "\n",
      "Confusion matrix: \n",
      " [[1613   27    7   23   29    5   22   14   26   48]\n",
      " [  20 1607   16   32   60    7   12   33   26   15]\n",
      " [  27   40 1522   46   40   11    5   51   23   38]\n",
      " [  21   51   37 1375   26   94   16   29   50   20]\n",
      " [  28   48   14   22 1605    7   24   12   18   34]\n",
      " [  22   22   10  101   19 1455   60    9   39   31]\n",
      " [  63   29   11   28   53   66 1454    8  102   18]\n",
      " [  36   80   29   29   16   16    7 1569   10   16]\n",
      " [  47   46   22   67   22   26   65    8 1459   50]\n",
      " [  76   38   24   48   29   46   15   13   48 1467]]\n"
     ]
    }
   ],
   "source": [
    "print(\"Classification Report of NN with normalized\")\n",
    "y_predict_normalized = model_normalized.predict(X_test_reshape)\n",
    "print(classification_report(np.argmax(y_test, axis=1), np.argmax(y_predict_normalized, axis=1)))\n",
    "normalized_val_cm = confusion_matrix(y_test.argmax(axis=1), y_predict_normalized.argmax(axis=1))\n",
    "print('Confusion matrix: \\n', normalized_val_cm)"
   ]
  },
  {
   "cell_type": "markdown",
   "metadata": {
    "colab_type": "text",
    "id": "Ng_WNRvf7G1s"
   },
   "source": [
    "**Understanding on differences between traditional and NN classifiers**\n",
    "\n",
    "#### KNN: \n",
    "\n",
    "We implemented KNN which yielded 38% accuracy,but the model execution took a lot of time \n",
    "\n",
    "Notes on KNN: The Nearest Neighbor Classifier may sometimes be a good choice in some settings (especially if the data is low-dimensional), but it is rarely appropriate for use in practical image classification settings. One problem is that images are high-dimensional objects (i.e. they often contain many pixels), and distances over high-dimensional spaces can be very counter-intuitive.\n",
    "\n",
    "#### Neural Networks\n",
    "\n",
    "Feedforward neural network, RELU activations has yielded 63% accuracy.\n",
    "\n",
    "The neural network with a stochastic radient descent with learning rate 0.001 as yielded 71% accuracy\n",
    "\n",
    "Batch normalization for training the neural network has yielded 84% accuracy\n",
    "\n",
    "#### Learning from above models is that the accuracy of image classifiers is better with neural networks. And in neural networks the adding batch normalization and learning rate can improve the accuracy. We may need to find out the optimised values for these on multiple run\n"
   ]
  },
  {
   "cell_type": "markdown",
   "metadata": {
    "colab": {},
    "colab_type": "code",
    "id": "oX-32slP60MQ"
   },
   "source": [
    "# Conclusion"
   ]
  },
  {
   "cell_type": "markdown",
   "metadata": {},
   "source": [
    "1. Read the image data file and split it into train/test datasets\n",
    "2. Plotted some images to see how the train/test values looks like\n",
    "3. Reshaped and flattened the data for running algorithms\n",
    "4. Implemented KNN classifier. With n=9, it yielded very poor accuracy of 25%. Since the dataset is huge and taking long time to run, we took the first 5K records to find the optimal K. With an optimal K of 3, the accuracy was little bit improved to 38%\n",
    "\n",
    "5. Built the models with neural networks. Ran the models with epoch 50 and batch size 16\n",
    "6. Implemented and applied a deep neural network classifier including feedforward  neural network, RELU activations. The accuracy was 63%\n",
    "7. Then implemented and applied a deep neural network classifier with backpropagation including cost stochastic gradient descent, cross entropy loss, cost functions. The accuracy was improved to 71%\n",
    "8.  Implemented batch normalization for training the neural network. After batch normalization, the accuracy yielded was 84%\n",
    "9. Compared differences and trade-offs between traditional and NN classifiers with the help of classification metric. We learn that the neural classifiers yields better result compared to tradtional neural network"
   ]
  }
 ],
 "metadata": {
  "colab": {
   "collapsed_sections": [],
   "name": " Introduction to Neural Networks and Deep Learning_R7_INN_Project2.ipynb",
   "provenance": []
  },
  "kernelspec": {
   "display_name": "Python 3",
   "language": "python",
   "name": "python3"
  },
  "language_info": {
   "codemirror_mode": {
    "name": "ipython",
    "version": 3
   },
   "file_extension": ".py",
   "mimetype": "text/x-python",
   "name": "python",
   "nbconvert_exporter": "python",
   "pygments_lexer": "ipython3",
   "version": "3.7.3"
  }
 },
 "nbformat": 4,
 "nbformat_minor": 1
}
