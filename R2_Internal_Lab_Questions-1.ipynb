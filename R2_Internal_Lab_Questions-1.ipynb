{
 "cells": [
  {
   "cell_type": "markdown",
   "metadata": {
    "colab_type": "text",
    "id": "MBpNtcUSoRIa"
   },
   "source": [
    "# K nearest neighbors"
   ]
  },
  {
   "cell_type": "markdown",
   "metadata": {
    "colab_type": "text",
    "id": "em-qAehKoRIb"
   },
   "source": [
    "KNN falls in the supervised learning family of algorithms. Informally, this means that we are given a labelled dataset consiting of training observations (x, y) and would like to capture the relationship between x and y. More formally, our goal is to learn a function h: X→Y so that given an unseen observation x, h(x) can confidently predict the corresponding output y.\n",
    "\n",
    "In this module we will explore the inner workings of KNN, choosing the optimal K values and using KNN from scikit-learn."
   ]
  },
  {
   "cell_type": "markdown",
   "metadata": {
    "colab_type": "text",
    "id": "DT7IQDlboRIc"
   },
   "source": [
    "## Overview\n",
    "\n",
    "1. Read the problem statement.\n",
    "\n",
    "2. Get the dataset.\n",
    "\n",
    "3. Explore the dataset.\n",
    "\n",
    "4. Pre-processing of dataset.\n",
    "\n",
    "5. Visualization\n",
    "\n",
    "6. Transform the dataset for building machine learning model.\n",
    "\n",
    "7. Split data into train, test set.\n",
    "\n",
    "8. Build Model.\n",
    "\n",
    "9. Apply the model.\n",
    "\n",
    "10. Evaluate the model.\n",
    "\n",
    "11. Finding Optimal K value\n",
    "\n",
    "12. Repeat 7, 8, 9 steps."
   ]
  },
  {
   "cell_type": "markdown",
   "metadata": {
    "colab_type": "text",
    "id": "8BsgPUvKoRIc"
   },
   "source": [
    "### Dataset\n",
    "\n",
    "The data set we’ll be using is the Iris Flower Dataset which was first introduced in 1936 by the famous statistician Ronald Fisher and consists of 50 observations from each of three species of Iris (Iris setosa, Iris virginica and Iris versicolor). Four features were measured from each sample: the length and the width of the sepals and petals.\n",
    "\n",
    "**Download the dataset here:**\n",
    "- https://www.kaggle.com/uciml/iris\n",
    "\n",
    "**Train the KNN algorithm to be able to distinguish the species from one another given the measurements of the 4 features.**"
   ]
  },
  {
   "cell_type": "markdown",
   "metadata": {
    "colab_type": "text",
    "id": "N89OdYGBjPEp"
   },
   "source": [
    "## Load data"
   ]
  },
  {
   "cell_type": "markdown",
   "metadata": {
    "colab_type": "text",
    "id": "MYqTlwmboRId"
   },
   "source": [
    "### Question 1\n",
    "\n",
    "Import the data set and print 10 random rows from the data set\n",
    "\n",
    "Hint: use **sample()** function to get random rows"
   ]
  },
  {
   "cell_type": "code",
   "execution_count": 212,
   "metadata": {
    "colab": {},
    "colab_type": "code",
    "id": "igR1np_YoRIe"
   },
   "outputs": [
    {
     "data": {
      "text/html": [
       "<div>\n",
       "<style scoped>\n",
       "    .dataframe tbody tr th:only-of-type {\n",
       "        vertical-align: middle;\n",
       "    }\n",
       "\n",
       "    .dataframe tbody tr th {\n",
       "        vertical-align: top;\n",
       "    }\n",
       "\n",
       "    .dataframe thead th {\n",
       "        text-align: right;\n",
       "    }\n",
       "</style>\n",
       "<table border=\"1\" class=\"dataframe\">\n",
       "  <thead>\n",
       "    <tr style=\"text-align: right;\">\n",
       "      <th></th>\n",
       "      <th>Id</th>\n",
       "      <th>SepalLengthCm</th>\n",
       "      <th>SepalWidthCm</th>\n",
       "      <th>PetalLengthCm</th>\n",
       "      <th>PetalWidthCm</th>\n",
       "      <th>Species</th>\n",
       "    </tr>\n",
       "  </thead>\n",
       "  <tbody>\n",
       "    <tr>\n",
       "      <th>123</th>\n",
       "      <td>124</td>\n",
       "      <td>6.3</td>\n",
       "      <td>2.7</td>\n",
       "      <td>4.9</td>\n",
       "      <td>1.8</td>\n",
       "      <td>Iris-virginica</td>\n",
       "    </tr>\n",
       "    <tr>\n",
       "      <th>52</th>\n",
       "      <td>53</td>\n",
       "      <td>6.9</td>\n",
       "      <td>3.1</td>\n",
       "      <td>4.9</td>\n",
       "      <td>1.5</td>\n",
       "      <td>Iris-versicolor</td>\n",
       "    </tr>\n",
       "    <tr>\n",
       "      <th>145</th>\n",
       "      <td>146</td>\n",
       "      <td>6.7</td>\n",
       "      <td>3.0</td>\n",
       "      <td>5.2</td>\n",
       "      <td>2.3</td>\n",
       "      <td>Iris-virginica</td>\n",
       "    </tr>\n",
       "    <tr>\n",
       "      <th>69</th>\n",
       "      <td>70</td>\n",
       "      <td>5.6</td>\n",
       "      <td>2.5</td>\n",
       "      <td>3.9</td>\n",
       "      <td>1.1</td>\n",
       "      <td>Iris-versicolor</td>\n",
       "    </tr>\n",
       "    <tr>\n",
       "      <th>111</th>\n",
       "      <td>112</td>\n",
       "      <td>6.4</td>\n",
       "      <td>2.7</td>\n",
       "      <td>5.3</td>\n",
       "      <td>1.9</td>\n",
       "      <td>Iris-virginica</td>\n",
       "    </tr>\n",
       "    <tr>\n",
       "      <th>37</th>\n",
       "      <td>38</td>\n",
       "      <td>4.9</td>\n",
       "      <td>3.1</td>\n",
       "      <td>1.5</td>\n",
       "      <td>0.1</td>\n",
       "      <td>Iris-setosa</td>\n",
       "    </tr>\n",
       "    <tr>\n",
       "      <th>92</th>\n",
       "      <td>93</td>\n",
       "      <td>5.8</td>\n",
       "      <td>2.6</td>\n",
       "      <td>4.0</td>\n",
       "      <td>1.2</td>\n",
       "      <td>Iris-versicolor</td>\n",
       "    </tr>\n",
       "    <tr>\n",
       "      <th>139</th>\n",
       "      <td>140</td>\n",
       "      <td>6.9</td>\n",
       "      <td>3.1</td>\n",
       "      <td>5.4</td>\n",
       "      <td>2.1</td>\n",
       "      <td>Iris-virginica</td>\n",
       "    </tr>\n",
       "    <tr>\n",
       "      <th>105</th>\n",
       "      <td>106</td>\n",
       "      <td>7.6</td>\n",
       "      <td>3.0</td>\n",
       "      <td>6.6</td>\n",
       "      <td>2.1</td>\n",
       "      <td>Iris-virginica</td>\n",
       "    </tr>\n",
       "    <tr>\n",
       "      <th>9</th>\n",
       "      <td>10</td>\n",
       "      <td>4.9</td>\n",
       "      <td>3.1</td>\n",
       "      <td>1.5</td>\n",
       "      <td>0.1</td>\n",
       "      <td>Iris-setosa</td>\n",
       "    </tr>\n",
       "  </tbody>\n",
       "</table>\n",
       "</div>"
      ],
      "text/plain": [
       "      Id  SepalLengthCm  SepalWidthCm  PetalLengthCm  PetalWidthCm  \\\n",
       "123  124            6.3           2.7            4.9           1.8   \n",
       "52    53            6.9           3.1            4.9           1.5   \n",
       "145  146            6.7           3.0            5.2           2.3   \n",
       "69    70            5.6           2.5            3.9           1.1   \n",
       "111  112            6.4           2.7            5.3           1.9   \n",
       "37    38            4.9           3.1            1.5           0.1   \n",
       "92    93            5.8           2.6            4.0           1.2   \n",
       "139  140            6.9           3.1            5.4           2.1   \n",
       "105  106            7.6           3.0            6.6           2.1   \n",
       "9     10            4.9           3.1            1.5           0.1   \n",
       "\n",
       "             Species  \n",
       "123   Iris-virginica  \n",
       "52   Iris-versicolor  \n",
       "145   Iris-virginica  \n",
       "69   Iris-versicolor  \n",
       "111   Iris-virginica  \n",
       "37       Iris-setosa  \n",
       "92   Iris-versicolor  \n",
       "139   Iris-virginica  \n",
       "105   Iris-virginica  \n",
       "9        Iris-setosa  "
      ]
     },
     "execution_count": 212,
     "metadata": {},
     "output_type": "execute_result"
    }
   ],
   "source": [
    "import numpy as np\n",
    "import pandas as pd\n",
    "Ir= pd.read_csv('iris.csv')\n",
    "Iris = pd.DataFrame(Ir)\n",
    "Iris.sample(10)"
   ]
  },
  {
   "cell_type": "markdown",
   "metadata": {
    "colab_type": "text",
    "id": "5SuXqTKmoRIg"
   },
   "source": [
    "## Data Pre-processing"
   ]
  },
  {
   "cell_type": "markdown",
   "metadata": {
    "colab_type": "text",
    "id": "J8VyfAlVoRIg"
   },
   "source": [
    "### Question 2 - Estimating missing values\n",
    "\n",
    "Its not good to remove the records having missing values all the time. We may end up loosing some data points. So, we will have to see how to replace those missing values with some estimated values (median)"
   ]
  },
  {
   "cell_type": "markdown",
   "metadata": {
    "colab_type": "text",
    "id": "wAby9Ksi_BD4"
   },
   "source": [
    "Calculate the number of missing values per column\n",
    "- don't use loops"
   ]
  },
  {
   "cell_type": "code",
   "execution_count": 213,
   "metadata": {
    "colab": {},
    "colab_type": "code",
    "id": "8a8HDPxIoRIh"
   },
   "outputs": [
    {
     "data": {
      "text/plain": [
       "Id               0\n",
       "SepalLengthCm    1\n",
       "SepalWidthCm     2\n",
       "PetalLengthCm    2\n",
       "PetalWidthCm     1\n",
       "Species          0\n",
       "dtype: int64"
      ]
     },
     "execution_count": 213,
     "metadata": {},
     "output_type": "execute_result"
    }
   ],
   "source": [
    "Iris.isnull().sum()"
   ]
  },
  {
   "cell_type": "markdown",
   "metadata": {
    "colab_type": "text",
    "id": "9atbuCMf_Mk8"
   },
   "source": [
    "Fill missing values with median of that particular column"
   ]
  },
  {
   "cell_type": "code",
   "execution_count": 214,
   "metadata": {
    "colab": {},
    "colab_type": "code",
    "id": "nlD7gt_c_TGh"
   },
   "outputs": [],
   "source": [
    "Temp1=Iris['SepalLengthCm'].median()\n",
    "Iris['SepalLengthCm']=Iris['SepalLengthCm'].fillna(value=Temp1)\n",
    "Temp2=Iris['SepalWidthCm'].median()\n",
    "Iris['SepalWidthCm']=Iris['SepalWidthCm'].fillna(value=Temp2)\n",
    "Temp3=Iris['PetalLengthCm'].median()\n",
    "Iris['PetalLengthCm']=Iris['PetalLengthCm'].fillna(value=Temp3)\n",
    "Temp4=Iris['PetalWidthCm'].median()\n",
    "Iris['PetalWidthCm']=Iris['PetalWidthCm'].fillna(value=Temp4)"
   ]
  },
  {
   "cell_type": "markdown",
   "metadata": {
    "colab_type": "text",
    "id": "kvEFXK8aoRIj"
   },
   "source": [
    "### Question 3 - Dealing with categorical data\n",
    "\n",
    "Change all the classes to numericals (0 to 2)\n",
    "\n",
    "Hint: use **LabelEncoder()**"
   ]
  },
  {
   "cell_type": "code",
   "execution_count": 215,
   "metadata": {
    "colab": {},
    "colab_type": "code",
    "id": "YcgW8ryIeM1R"
   },
   "outputs": [],
   "source": [
    "from sklearn import preprocessing\n",
    "LE=preprocessing.LabelEncoder()\n",
    "Iris['Species']=LE.fit_transform(Iris['Species'])"
   ]
  },
  {
   "cell_type": "markdown",
   "metadata": {
    "colab_type": "text",
    "id": "CEdhV6q-oRIj"
   },
   "source": [
    "### Question 4\n",
    "\n",
    "Observe the association of each independent variable with target variable and drop variables from feature set having correlation in range -0.1 to 0.1 with target variable.\n",
    "\n",
    "Hint: use **corr()**"
   ]
  },
  {
   "cell_type": "code",
   "execution_count": 216,
   "metadata": {
    "colab": {},
    "colab_type": "code",
    "id": "Izq1HCgloRIk"
   },
   "outputs": [],
   "source": [
    "Iris.corr()\n",
    "Iris=Iris.drop(['Id'],axis=1)"
   ]
  },
  {
   "cell_type": "markdown",
   "metadata": {
    "colab_type": "text",
    "id": "KJfDNNiJoRIl"
   },
   "source": [
    "### Question 5\n",
    "\n",
    "Observe the independent variables variance and drop such variables having no variance or almost zero variance (variance < 0.1). They will be having almost no influence on the classification\n",
    "\n",
    "Hint: use **var()**"
   ]
  },
  {
   "cell_type": "code",
   "execution_count": 217,
   "metadata": {
    "colab": {},
    "colab_type": "code",
    "id": "c8fYDazvoRIm"
   },
   "outputs": [
    {
     "data": {
      "text/plain": [
       "SepalLengthCm    0.676645\n",
       "SepalWidthCm     0.185552\n",
       "PetalLengthCm    3.076516\n",
       "PetalWidthCm     0.577141\n",
       "Species          0.675322\n",
       "dtype: float64"
      ]
     },
     "execution_count": 217,
     "metadata": {},
     "output_type": "execute_result"
    }
   ],
   "source": [
    "Iris.var()"
   ]
  },
  {
   "cell_type": "markdown",
   "metadata": {
    "colab_type": "text",
    "id": "79S0_e9goRIo"
   },
   "source": [
    "### Question 6\n",
    "\n",
    "Plot the scatter matrix for all the variables.\n",
    "\n",
    "Hint: use **pandas.plotting.scatter_matrix()**\n",
    "\n",
    "you can also use pairplot()"
   ]
  },
  {
   "cell_type": "code",
   "execution_count": 218,
   "metadata": {
    "colab": {},
    "colab_type": "code",
    "id": "yqtNPRDWoRIo"
   },
   "outputs": [
    {
     "data": {
      "text/plain": [
       "<seaborn.axisgrid.PairGrid at 0x2786f843550>"
      ]
     },
     "execution_count": 218,
     "metadata": {},
     "output_type": "execute_result"
    },
    {
     "data": {
      "image/png": "[encoded data removed]",
      "text/plain": [
       "<Figure size 900x900 with 30 Axes>"
      ]
     },
     "metadata": {
      "needs_background": "light"
     },
     "output_type": "display_data"
    }
   ],
   "source": [
    "import seaborn as sns\n",
    "import matplotlib as mpl\n",
    "sns.pairplot(Iris)"
   ]
  },
  {
   "cell_type": "markdown",
   "metadata": {
    "colab_type": "text",
    "id": "Zj8ZZmlOoRIq"
   },
   "source": [
    "## Split the dataset into training and test sets\n"
   ]
  },
  {
   "cell_type": "markdown",
   "metadata": {
    "colab_type": "text",
    "id": "8CNiTb3Ii_pN"
   },
   "source": [
    "### Question 7\n",
    "\n",
    "Split the dataset into training and test sets with 80-20 ratio\n",
    "\n",
    "Hint: use **train_test_split()**"
   ]
  },
  {
   "cell_type": "code",
   "execution_count": 219,
   "metadata": {
    "colab": {},
    "colab_type": "code",
    "id": "jaJH_RdDoRIr"
   },
   "outputs": [],
   "source": [
    "from scipy.stats import zscore\n",
    "from sklearn.preprocessing import Imputer\n",
    "test_size = 0.2\n",
    "x=Iris.drop(labels=\"Species\",axis=1)\n",
    "x=x.apply(zscore)\n",
    "y=Iris[[\"Species\"]]\n",
    "from sklearn.model_selection import train_test_split\n",
    "x_train, x_test, y_train, y_test = train_test_split(x, y, test_size=test_size)"
   ]
  },
  {
   "cell_type": "markdown",
   "metadata": {
    "colab_type": "text",
    "id": "KpjOe5ZCoRIt"
   },
   "source": [
    "## Build Model"
   ]
  },
  {
   "cell_type": "markdown",
   "metadata": {
    "colab_type": "text",
    "id": "ZZcm6qlljHWt"
   },
   "source": [
    "### Question 8\n",
    "\n",
    "Build the model and train and test on training and test sets respectively using **scikit-learn**.\n",
    "\n",
    "Print the Accuracy of the model with different values of **k = 3, 5, 9**\n",
    "\n",
    "Hint: For accuracy you can check **accuracy_score()** in scikit-learn"
   ]
  },
  {
   "cell_type": "code",
   "execution_count": 220,
   "metadata": {
    "colab": {},
    "colab_type": "code",
    "id": "QYULK2n_oRIt"
   },
   "outputs": [
    {
     "name": "stdout",
     "output_type": "stream",
     "text": [
      "Accuracy for k=3 is  0.9032258064516129\n"
     ]
    },
    {
     "name": "stderr",
     "output_type": "stream",
     "text": [
      "C:\\ProgramData\\Anaconda3\\lib\\site-packages\\ipykernel_launcher.py:5: DataConversionWarning: A column-vector y was passed when a 1d array was expected. Please change the shape of y to (n_samples, ), for example using ravel().\n",
      "  \"\"\"\n"
     ]
    }
   ],
   "source": [
    "from sklearn.neighbors import KNeighborsClassifier\n",
    "from sklearn.metrics import accuracy_score\n",
    "from sklearn import metrics\n",
    "NNH = KNeighborsClassifier(n_neighbors= 3)\n",
    "NNH.fit(x_train, y_train)\n",
    "predicted_labels = NNH.predict(x_test)\n",
    "print(\"Accuracy for k=3 is \",NNH.score(x_test, y_test))"
   ]
  },
  {
   "cell_type": "code",
   "execution_count": 221,
   "metadata": {},
   "outputs": [
    {
     "name": "stdout",
     "output_type": "stream",
     "text": [
      "Accuracy for k=5 is  0.9032258064516129\n"
     ]
    },
    {
     "name": "stderr",
     "output_type": "stream",
     "text": [
      "C:\\ProgramData\\Anaconda3\\lib\\site-packages\\ipykernel_launcher.py:2: DataConversionWarning: A column-vector y was passed when a 1d array was expected. Please change the shape of y to (n_samples, ), for example using ravel().\n",
      "  \n"
     ]
    }
   ],
   "source": [
    "NNH = KNeighborsClassifier(n_neighbors= 5)\n",
    "NNH.fit(x_train, y_train)\n",
    "predicted_labels = NNH.predict(x_test)\n",
    "print(\"Accuracy for k=5 is \",NNH.score(x_test, y_test))"
   ]
  },
  {
   "cell_type": "code",
   "execution_count": 222,
   "metadata": {},
   "outputs": [
    {
     "name": "stdout",
     "output_type": "stream",
     "text": [
      "Accuracy for k=9 is  0.8709677419354839\n"
     ]
    },
    {
     "name": "stderr",
     "output_type": "stream",
     "text": [
      "C:\\ProgramData\\Anaconda3\\lib\\site-packages\\ipykernel_launcher.py:2: DataConversionWarning: A column-vector y was passed when a 1d array was expected. Please change the shape of y to (n_samples, ), for example using ravel().\n",
      "  \n"
     ]
    }
   ],
   "source": [
    "NNH = KNeighborsClassifier(n_neighbors= 9)\n",
    "NNH.fit(x_train, y_train)\n",
    "predicted_labels = NNH.predict(x_test)\n",
    "print(\"Accuracy for k=9 is \",NNH.score(x_test, y_test))"
   ]
  },
  {
   "cell_type": "markdown",
   "metadata": {
    "colab_type": "text",
    "id": "BpZukHzJkK4h"
   },
   "source": [
    "## Find optimal value of K"
   ]
  },
  {
   "cell_type": "markdown",
   "metadata": {
    "colab_type": "text",
    "id": "IkgXn-3Psti_"
   },
   "source": [
    "### Question 9 - Finding Optimal value of k\n",
    "\n",
    "- Run the KNN with no of neighbours to be 1, 3, 5 ... 19\n",
    "- Find the **optimal number of neighbours** from the above list"
   ]
  },
  {
   "cell_type": "code",
   "execution_count": 223,
   "metadata": {
    "colab": {},
    "colab_type": "code",
    "id": "D_q46Mn3oRIx"
   },
   "outputs": [
    {
     "name": "stdout",
     "output_type": "stream",
     "text": [
      "Optimum value for k = 7\n",
      "{1: 0.9032258064516129, 3: 0.9032258064516129, 5: 0.9032258064516129, 7: 0.9354838709677419, 9: 0.8709677419354839, 11: 0.9032258064516129, 13: 0.9032258064516129, 15: 0.9032258064516129, 17: 0.8709677419354839, 19: 0.8387096774193549}\n"
     ]
    },
    {
     "name": "stderr",
     "output_type": "stream",
     "text": [
      "C:\\ProgramData\\Anaconda3\\lib\\site-packages\\ipykernel_launcher.py:3: DataConversionWarning: A column-vector y was passed when a 1d array was expected. Please change the shape of y to (n_samples, ), for example using ravel().\n",
      "  This is separate from the ipykernel package so we can avoid doing imports until\n",
      "C:\\ProgramData\\Anaconda3\\lib\\site-packages\\ipykernel_launcher.py:3: DataConversionWarning: A column-vector y was passed when a 1d array was expected. Please change the shape of y to (n_samples, ), for example using ravel().\n",
      "  This is separate from the ipykernel package so we can avoid doing imports until\n",
      "C:\\ProgramData\\Anaconda3\\lib\\site-packages\\ipykernel_launcher.py:3: DataConversionWarning: A column-vector y was passed when a 1d array was expected. Please change the shape of y to (n_samples, ), for example using ravel().\n",
      "  This is separate from the ipykernel package so we can avoid doing imports until\n",
      "C:\\ProgramData\\Anaconda3\\lib\\site-packages\\ipykernel_launcher.py:3: DataConversionWarning: A column-vector y was passed when a 1d array was expected. Please change the shape of y to (n_samples, ), for example using ravel().\n",
      "  This is separate from the ipykernel package so we can avoid doing imports until\n",
      "C:\\ProgramData\\Anaconda3\\lib\\site-packages\\ipykernel_launcher.py:3: DataConversionWarning: A column-vector y was passed when a 1d array was expected. Please change the shape of y to (n_samples, ), for example using ravel().\n",
      "  This is separate from the ipykernel package so we can avoid doing imports until\n",
      "C:\\ProgramData\\Anaconda3\\lib\\site-packages\\ipykernel_launcher.py:3: DataConversionWarning: A column-vector y was passed when a 1d array was expected. Please change the shape of y to (n_samples, ), for example using ravel().\n",
      "  This is separate from the ipykernel package so we can avoid doing imports until\n",
      "C:\\ProgramData\\Anaconda3\\lib\\site-packages\\ipykernel_launcher.py:3: DataConversionWarning: A column-vector y was passed when a 1d array was expected. Please change the shape of y to (n_samples, ), for example using ravel().\n",
      "  This is separate from the ipykernel package so we can avoid doing imports until\n",
      "C:\\ProgramData\\Anaconda3\\lib\\site-packages\\ipykernel_launcher.py:3: DataConversionWarning: A column-vector y was passed when a 1d array was expected. Please change the shape of y to (n_samples, ), for example using ravel().\n",
      "  This is separate from the ipykernel package so we can avoid doing imports until\n",
      "C:\\ProgramData\\Anaconda3\\lib\\site-packages\\ipykernel_launcher.py:3: DataConversionWarning: A column-vector y was passed when a 1d array was expected. Please change the shape of y to (n_samples, ), for example using ravel().\n",
      "  This is separate from the ipykernel package so we can avoid doing imports until\n",
      "C:\\ProgramData\\Anaconda3\\lib\\site-packages\\ipykernel_launcher.py:3: DataConversionWarning: A column-vector y was passed when a 1d array was expected. Please change the shape of y to (n_samples, ), for example using ravel().\n",
      "  This is separate from the ipykernel package so we can avoid doing imports until\n"
     ]
    }
   ],
   "source": [
    "for x in range(1, 20, 2):\n",
    "    NNH = KNeighborsClassifier(n_neighbors= x)\n",
    "    NNH.fit(x_train, y_train)\n",
    "    predicted_labels = NNH.predict(x_test)\n",
    "    if x==1:\n",
    "        acc=({x:NNH.score(x_test, y_test)})\n",
    "    else:\n",
    "        acc.update({x:NNH.score(x_test, y_test)})\n",
    "print(\"Optimum value for k = \"+str(max(acc,key=acc.get)))\n",
    "print(acc)"
   ]
  },
  {
   "cell_type": "markdown",
   "metadata": {
    "colab_type": "text",
    "id": "LxBEObRblv_s"
   },
   "source": [
    "## Plot accuracy"
   ]
  },
  {
   "cell_type": "markdown",
   "metadata": {
    "colab_type": "text",
    "id": "8JriZKaDoRIy"
   },
   "source": [
    "### Question 10\n",
    "\n",
    "Plot accuracy score vs k (with k value on X-axis) using matplotlib."
   ]
  },
  {
   "cell_type": "code",
   "execution_count": 224,
   "metadata": {
    "colab": {},
    "colab_type": "code",
    "id": "qB4RffGwoRIz"
   },
   "outputs": [
    {
     "data": {
      "text/plain": [
       "[<matplotlib.lines.Line2D at 0x278713c2518>]"
      ]
     },
     "execution_count": 224,
     "metadata": {},
     "output_type": "execute_result"
    },
    {
     "data": {
      "image/png": "[encoded data removed]",
      "text/plain": [
       "<Figure size 432x288 with 1 Axes>"
      ]
     },
     "metadata": {
      "needs_background": "light"
     },
     "output_type": "display_data"
    }
   ],
   "source": [
    "import matplotlib.pyplot as plt\n",
    "plt.plot(acc.keys(),acc.values())"
   ]
  },
  {
   "cell_type": "code",
   "execution_count": null,
   "metadata": {
    "colab": {},
    "colab_type": "code",
    "id": "oRCIo362tvXY"
   },
   "outputs": [],
   "source": []
  },
  {
   "cell_type": "markdown",
   "metadata": {
    "colab_type": "text",
    "id": "tAtLBIchFVwA"
   },
   "source": [
    "# Breast cancer dataset - OPTIONAL"
   ]
  },
  {
   "cell_type": "markdown",
   "metadata": {
    "colab_type": "text",
    "id": "RXdYbXW1FkOS"
   },
   "source": [
    "## Read data"
   ]
  },
  {
   "cell_type": "markdown",
   "metadata": {
    "colab_type": "text",
    "id": "WOsCG0o6oX72"
   },
   "source": [
    "### Question 1\n",
    "Read the data given in bc2.csv file"
   ]
  },
  {
   "cell_type": "code",
   "execution_count": null,
   "metadata": {
    "colab": {},
    "colab_type": "code",
    "id": "mNEtFh-xoX72"
   },
   "outputs": [],
   "source": []
  },
  {
   "cell_type": "markdown",
   "metadata": {
    "colab_type": "text",
    "id": "9R6ERn9WG7td"
   },
   "source": [
    "## Data preprocessing"
   ]
  },
  {
   "cell_type": "markdown",
   "metadata": {
    "colab_type": "text",
    "id": "xxTlWXy8oX79"
   },
   "source": [
    "### Question 2\n",
    "Observe the no.of records in dataset and type of each column"
   ]
  },
  {
   "cell_type": "code",
   "execution_count": null,
   "metadata": {
    "colab": {},
    "colab_type": "code",
    "id": "F7EIRqEXoX7-"
   },
   "outputs": [],
   "source": []
  },
  {
   "cell_type": "code",
   "execution_count": null,
   "metadata": {
    "colab": {},
    "colab_type": "code",
    "id": "jHyZN4mFoX8D"
   },
   "outputs": [],
   "source": []
  },
  {
   "cell_type": "markdown",
   "metadata": {
    "colab_type": "text",
    "id": "9kR01TZRoX8J"
   },
   "source": [
    "### Question 3\n",
    "Use summary statistics to check if missing values, outlier and encoding treament is necessary\n",
    "\n",
    "Hint: use **describe()**"
   ]
  },
  {
   "cell_type": "code",
   "execution_count": null,
   "metadata": {
    "colab": {},
    "colab_type": "code",
    "id": "ibkOQX-ioX8K"
   },
   "outputs": [],
   "source": []
  },
  {
   "cell_type": "markdown",
   "metadata": {
    "colab_type": "text",
    "id": "DmB4l7Z5oX8Q"
   },
   "source": [
    "#### Check Missing Values"
   ]
  },
  {
   "cell_type": "code",
   "execution_count": null,
   "metadata": {
    "colab": {},
    "colab_type": "code",
    "id": "2q2OAFzpoX8R"
   },
   "outputs": [],
   "source": []
  },
  {
   "cell_type": "markdown",
   "metadata": {
    "colab_type": "text",
    "id": "JrpV32uyoX8X"
   },
   "source": [
    "### Question 4\n",
    "#### Check how many `?` are there in Bare Nuclei feature (they are also unknown or missing values). "
   ]
  },
  {
   "cell_type": "code",
   "execution_count": null,
   "metadata": {
    "colab": {},
    "colab_type": "code",
    "id": "2rBi56w6HUg-"
   },
   "outputs": [],
   "source": []
  },
  {
   "cell_type": "markdown",
   "metadata": {
    "colab_type": "text",
    "id": "DOjikDbJEPJ7"
   },
   "source": [
    "#### Replace them with the 'top' value of the describe function of Bare Nuclei feature\n",
    "\n",
    "Hint: give value of parameter include='all' in describe function"
   ]
  },
  {
   "cell_type": "code",
   "execution_count": null,
   "metadata": {
    "colab": {},
    "colab_type": "code",
    "id": "Kfa-aWYWC4cZ"
   },
   "outputs": [],
   "source": []
  },
  {
   "cell_type": "markdown",
   "metadata": {
    "colab_type": "text",
    "id": "Cy5ETZQnoX8v"
   },
   "source": [
    "### Question 5\n",
    "#### Find the distribution of target variable (Class) "
   ]
  },
  {
   "cell_type": "code",
   "execution_count": null,
   "metadata": {
    "colab": {},
    "colab_type": "code",
    "id": "Ixu9-geooX8x"
   },
   "outputs": [],
   "source": []
  },
  {
   "cell_type": "markdown",
   "metadata": {
    "colab_type": "text",
    "id": "hLlzasuKoX86"
   },
   "source": [
    "#### Plot the distribution of target variable using histogram"
   ]
  },
  {
   "cell_type": "code",
   "execution_count": null,
   "metadata": {
    "colab": {},
    "colab_type": "code",
    "id": "QjCRf2_LoX87"
   },
   "outputs": [],
   "source": []
  },
  {
   "cell_type": "markdown",
   "metadata": {
    "colab_type": "text",
    "id": "OqwsZ0-zoX9A"
   },
   "source": [
    "#### Convert the datatype of Bare Nuclei to `int`"
   ]
  },
  {
   "cell_type": "code",
   "execution_count": null,
   "metadata": {
    "colab": {},
    "colab_type": "code",
    "id": "e43GO058oX9B"
   },
   "outputs": [],
   "source": []
  },
  {
   "cell_type": "markdown",
   "metadata": {
    "colab_type": "text",
    "id": "PrSwisj5GWhS"
   },
   "source": [
    "## Scatter plot"
   ]
  },
  {
   "cell_type": "markdown",
   "metadata": {
    "colab_type": "text",
    "id": "3qJe-3P-oX9J"
   },
   "source": [
    "### Question 6\n",
    "Plot Scatter Matrix to understand the distribution of variables and check if any variables are collinear and drop one of them."
   ]
  },
  {
   "cell_type": "code",
   "execution_count": null,
   "metadata": {
    "colab": {},
    "colab_type": "code",
    "id": "yi9muLxBoX-T"
   },
   "outputs": [],
   "source": []
  },
  {
   "cell_type": "markdown",
   "metadata": {
    "colab_type": "text",
    "id": "uIkJ2-VBHmDs"
   },
   "source": [
    "## Train test split"
   ]
  },
  {
   "cell_type": "markdown",
   "metadata": {
    "colab_type": "text",
    "id": "PZlmsxP_oX-Y"
   },
   "source": [
    "### Question 7\n",
    "#### Divide the dataset into feature set and target set"
   ]
  },
  {
   "cell_type": "code",
   "execution_count": null,
   "metadata": {
    "colab": {},
    "colab_type": "code",
    "id": "FD1Z2vspoX-b"
   },
   "outputs": [],
   "source": []
  },
  {
   "cell_type": "markdown",
   "metadata": {
    "colab_type": "text",
    "id": "mlOFMsfSoX-e"
   },
   "source": [
    "#### Divide the Training and Test sets in 70:30 "
   ]
  },
  {
   "cell_type": "code",
   "execution_count": null,
   "metadata": {
    "colab": {},
    "colab_type": "code",
    "id": "hYyOQ5VxoX-f"
   },
   "outputs": [],
   "source": []
  },
  {
   "cell_type": "markdown",
   "metadata": {
    "colab_type": "text",
    "id": "BEcQGz5lFHtr"
   },
   "source": [
    "## Scale the data"
   ]
  },
  {
   "cell_type": "markdown",
   "metadata": {
    "colab_type": "text",
    "id": "Dm4_aB1YoX9E"
   },
   "source": [
    "### Question 8\n",
    "Standardize the data\n",
    "\n",
    "Hint: use **StandardScaler()**"
   ]
  },
  {
   "cell_type": "code",
   "execution_count": null,
   "metadata": {
    "colab": {},
    "colab_type": "code",
    "id": "XCQ-vZxboX9E"
   },
   "outputs": [],
   "source": []
  },
  {
   "cell_type": "markdown",
   "metadata": {
    "colab_type": "text",
    "id": "i6_j1pAqKb5j"
   },
   "source": [
    "## Build Model"
   ]
  },
  {
   "cell_type": "markdown",
   "metadata": {
    "colab_type": "text",
    "id": "NF3daRwcKb5p"
   },
   "source": [
    "### Question 9\n",
    "\n",
    "Build the model and train and test on training and test sets respectively using **scikit-learn**.\n",
    "\n",
    "Print the Accuracy of the model with different values of **k = 3, 5, 9**\n",
    "\n",
    "Hint: For accuracy you can check **accuracy_score()** in scikit-learn"
   ]
  },
  {
   "cell_type": "code",
   "execution_count": null,
   "metadata": {
    "colab": {},
    "colab_type": "code",
    "id": "nNz4c9B9Kb5t"
   },
   "outputs": [],
   "source": []
  },
  {
   "cell_type": "markdown",
   "metadata": {
    "colab_type": "text",
    "id": "cCxRD_0YKb54"
   },
   "source": [
    "## Find optimal value of K"
   ]
  },
  {
   "cell_type": "markdown",
   "metadata": {
    "colab_type": "text",
    "id": "XbQPiiWoKb55"
   },
   "source": [
    "### Question 10\n",
    "Finding Optimal value of k\n",
    "\n",
    "- Run the KNN with no of neighbours to be 1, 3, 5 ... 19\n",
    "- Find the **optimal number of neighbours** from the above list"
   ]
  },
  {
   "cell_type": "code",
   "execution_count": null,
   "metadata": {
    "colab": {},
    "colab_type": "code",
    "id": "gFxDlDV_Kb57"
   },
   "outputs": [],
   "source": []
  },
  {
   "cell_type": "markdown",
   "metadata": {
    "colab_type": "text",
    "id": "DA7vxtFtKb5-"
   },
   "source": [
    "## Plot accuracy"
   ]
  },
  {
   "cell_type": "markdown",
   "metadata": {
    "colab_type": "text",
    "id": "Ry_ROYrKKb5_"
   },
   "source": [
    "### Question 11\n",
    "\n",
    "Plot accuracy score vs k (with k value on X-axis) using matplotlib."
   ]
  },
  {
   "cell_type": "code",
   "execution_count": null,
   "metadata": {
    "colab": {},
    "colab_type": "code",
    "id": "FhJ6yy6UKb6A"
   },
   "outputs": [],
   "source": []
  }
 ],
 "metadata": {
  "colab": {
   "name": "R2_Internal_Lab_Questions.ipynb",
   "provenance": [],
   "toc_visible": true,
   "version": "0.3.2"
  },
  "kernelspec": {
   "display_name": "Python 3",
   "language": "python",
   "name": "python3"
  },
  "language_info": {
   "codemirror_mode": {
    "name": "ipython",
    "version": 3
   },
   "file_extension": ".py",
   "mimetype": "text/x-python",
   "name": "python",
   "nbconvert_exporter": "python",
   "pygments_lexer": "ipython3",
   "version": "3.7.3"
  }
 },
 "nbformat": 4,
 "nbformat_minor": 1
}
