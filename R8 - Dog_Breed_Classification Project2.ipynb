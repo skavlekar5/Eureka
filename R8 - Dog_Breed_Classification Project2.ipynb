{
  "nbformat": 4,
  "nbformat_minor": 0,
  "metadata": {
    "colab": {
      "name": "CV_Project2_Dog_Breed_Classification_Questions.ipynb",
      "provenance": [],
      "collapsed_sections": [],
      "machine_shape": "hm"
    },
    "kernelspec": {
      "name": "python3",
      "display_name": "Python 3"
    },
    "accelerator": "TPU"
  },
  "cells": [
    {
      "cell_type": "markdown",
      "metadata": {
        "colab_type": "text",
        "id": "2kIWaR5ZpKlJ"
      },
      "source": [
        "## Dog Breed Classification\n",
        "\n",
        "In this project we will use traditional CNN, CNN with data augmentation and finally transfer Learning by VGG16 model with weights pre-trained on Imagenet to solve the dog breed classification problem"
      ]
    },
    {
      "cell_type": "markdown",
      "metadata": {
        "colab_type": "text",
        "id": "F7MDmaAw2xGO"
      },
      "source": [
        "### Load Dataset Files"
      ]
    },
    {
      "cell_type": "code",
      "metadata": {
        "colab_type": "code",
        "id": "BZWpQv1OwqYK",
        "colab": {
          "base_uri": "https://localhost:8080/",
          "height": 50
        },
        "outputId": "531d4894-2568-4f63-e9be-6edf417357b7"
      },
      "source": [
        "%tensorflow_version 2.x\n",
        "import tensorflow as tf\n",
        "print(tf.__version__)"
      ],
      "execution_count": 1,
      "outputs": [
        {
          "output_type": "stream",
          "text": [
            "TensorFlow 2.x selected.\n",
            "2.1.0\n"
          ],
          "name": "stdout"
        }
      ]
    },
    {
      "cell_type": "code",
      "metadata": {
        "id": "1tf78x2lYx1P",
        "colab_type": "code",
        "colab": {
          "base_uri": "https://localhost:8080/",
          "height": 34
        },
        "outputId": "ea70913b-97e0-4fe6-d06d-dbe575bf818e"
      },
      "source": [
        "from google.colab import drive\n",
        "drive.mount('/content/drive')"
      ],
      "execution_count": 2,
      "outputs": [
        {
          "output_type": "stream",
          "text": [
            "Drive already mounted at /content/drive; to attempt to forcibly remount, call drive.mount(\"/content/drive\", force_remount=True).\n"
          ],
          "name": "stdout"
        }
      ]
    },
    {
      "cell_type": "code",
      "metadata": {
        "colab_type": "code",
        "id": "fVhB9OopxFbX",
        "colab": {
          "base_uri": "https://localhost:8080/",
          "height": 34
        },
        "outputId": "d09d879c-ac28-4a95-e761-ed5252de5300"
      },
      "source": [
        "import os\n",
        "from PIL import Image\n",
        "import numpy as np # linear algebra\n",
        "import pandas as pd # data processing, CSV file I/O (e.g. pd.read_csv)\n",
        "import matplotlib.pyplot as plt\n",
        "from sklearn.model_selection import train_test_split\n",
        "from glob import glob\n",
        "import cv2\n",
        "import scipy.misc\n",
        "from skimage import transform\n",
        "from tqdm import tqdm\n",
        "import seaborn as sns\n",
        "from sklearn.metrics import confusion_matrix\n",
        "from sklearn.metrics import classification_report\n",
        "from skimage.transform import resize\n",
        "from keras.models import Model\n",
        "\n",
        "import warnings\n",
        "warnings.filterwarnings(\"ignore\")"
      ],
      "execution_count": 3,
      "outputs": [
        {
          "output_type": "stream",
          "text": [
            "Using TensorFlow backend.\n"
          ],
          "name": "stderr"
        }
      ]
    },
    {
      "cell_type": "markdown",
      "metadata": {
        "colab_type": "text",
        "id": "1q2zzIaUprk_"
      },
      "source": [
        "Now, upload the given dataset file shared with you in your google drive and give its path for the below given `project_path` variable. For example, a path is given below according to the file path in our google drive. You need to change this to match the path of yours."
      ]
    },
    {
      "cell_type": "code",
      "metadata": {
        "colab_type": "code",
        "id": "Tp6FvAToxUFs",
        "colab": {}
      },
      "source": [
        "project_path = \"drive/My Drive/Dog_breed/\""
      ],
      "execution_count": 0,
      "outputs": []
    },
    {
      "cell_type": "markdown",
      "metadata": {
        "colab_type": "text",
        "id": "rydR_j8lqUei"
      },
      "source": [
        "Run the below code to extract all the images in the train.zip files given in the dataset. We are going to use these images as train and validation sets and their labels in further steps."
      ]
    },
    {
      "cell_type": "code",
      "metadata": {
        "colab_type": "code",
        "id": "3350WZM4w4EL",
        "colab": {}
      },
      "source": [
        "from zipfile import ZipFile\n",
        "with ZipFile(project_path+'train.zip', 'r') as z:\n",
        "  z.extractall()"
      ],
      "execution_count": 0,
      "outputs": []
    },
    {
      "cell_type": "markdown",
      "metadata": {
        "id": "3NHq1iBCfFjE",
        "colab_type": "text"
      },
      "source": [
        "Repeat the same step for test.zip"
      ]
    },
    {
      "cell_type": "code",
      "metadata": {
        "colab_type": "code",
        "id": "_fxzynvB2YCb",
        "colab": {}
      },
      "source": [
        "from zipfile import ZipFile\n",
        "with ZipFile(project_path+'test.zip', 'r') as z:\n",
        "  z.extractall()"
      ],
      "execution_count": 0,
      "outputs": []
    },
    {
      "cell_type": "markdown",
      "metadata": {
        "id": "jnUMhQrDfJmz",
        "colab_type": "text"
      },
      "source": [
        "Repeat the same step for sample_submission.csv.zip"
      ]
    },
    {
      "cell_type": "code",
      "metadata": {
        "colab_type": "code",
        "id": "4PyTxE8q2jLf",
        "colab": {}
      },
      "source": [
        "from zipfile import ZipFile\n",
        "with ZipFile(project_path+'sample_submission.csv.zip', 'r') as z:\n",
        "  z.extractall()"
      ],
      "execution_count": 0,
      "outputs": []
    },
    {
      "cell_type": "markdown",
      "metadata": {
        "id": "2G9RIxB-fOLT",
        "colab_type": "text"
      },
      "source": [
        "Repeat the same step for labels.csv.zip"
      ]
    },
    {
      "cell_type": "code",
      "metadata": {
        "colab_type": "code",
        "id": "rXtnEoEixbgi",
        "colab": {}
      },
      "source": [
        "from zipfile import ZipFile\n",
        "with ZipFile(project_path+'labels.csv.zip', 'r') as z:\n",
        "  z.extractall()"
      ],
      "execution_count": 0,
      "outputs": []
    },
    {
      "cell_type": "markdown",
      "metadata": {
        "id": "sJc1lVrW_jmL",
        "colab_type": "text"
      },
      "source": [
        "After this process, we will have 4 files - Train folder, test folder and labels.csv and sample_submission.csv as part of your google drive"
      ]
    },
    {
      "cell_type": "markdown",
      "metadata": {
        "colab_type": "text",
        "id": "aYmJKmDqqpng"
      },
      "source": [
        "### Read labels.csv file using pandas"
      ]
    },
    {
      "cell_type": "code",
      "metadata": {
        "id": "WmlJ2VMY96IZ",
        "colab_type": "code",
        "colab": {
          "base_uri": "https://localhost:8080/",
          "height": 195
        },
        "outputId": "3c727a3f-3dfe-4dbd-b663-c943527c2102"
      },
      "source": [
        "labels = pd.read_csv('labels.csv')\n",
        "labels.head()"
      ],
      "execution_count": 9,
      "outputs": [
        {
          "output_type": "execute_result",
          "data": {
            "text/html": [
              "<div>\n",
              "<style scoped>\n",
              "    .dataframe tbody tr th:only-of-type {\n",
              "        vertical-align: middle;\n",
              "    }\n",
              "\n",
              "    .dataframe tbody tr th {\n",
              "        vertical-align: top;\n",
              "    }\n",
              "\n",
              "    .dataframe thead th {\n",
              "        text-align: right;\n",
              "    }\n",
              "</style>\n",
              "<table border=\"1\" class=\"dataframe\">\n",
              "  <thead>\n",
              "    <tr style=\"text-align: right;\">\n",
              "      <th></th>\n",
              "      <th>id</th>\n",
              "      <th>breed</th>\n",
              "    </tr>\n",
              "  </thead>\n",
              "  <tbody>\n",
              "    <tr>\n",
              "      <th>0</th>\n",
              "      <td>000bec180eb18c7604dcecc8fe0dba07</td>\n",
              "      <td>boston_bull</td>\n",
              "    </tr>\n",
              "    <tr>\n",
              "      <th>1</th>\n",
              "      <td>001513dfcb2ffafc82cccf4d8bbaba97</td>\n",
              "      <td>dingo</td>\n",
              "    </tr>\n",
              "    <tr>\n",
              "      <th>2</th>\n",
              "      <td>001cdf01b096e06d78e9e5112d419397</td>\n",
              "      <td>pekinese</td>\n",
              "    </tr>\n",
              "    <tr>\n",
              "      <th>3</th>\n",
              "      <td>00214f311d5d2247d5dfe4fe24b2303d</td>\n",
              "      <td>bluetick</td>\n",
              "    </tr>\n",
              "    <tr>\n",
              "      <th>4</th>\n",
              "      <td>0021f9ceb3235effd7fcde7f7538ed62</td>\n",
              "      <td>golden_retriever</td>\n",
              "    </tr>\n",
              "  </tbody>\n",
              "</table>\n",
              "</div>"
            ],
            "text/plain": [
              "                                 id             breed\n",
              "0  000bec180eb18c7604dcecc8fe0dba07       boston_bull\n",
              "1  001513dfcb2ffafc82cccf4d8bbaba97             dingo\n",
              "2  001cdf01b096e06d78e9e5112d419397          pekinese\n",
              "3  00214f311d5d2247d5dfe4fe24b2303d          bluetick\n",
              "4  0021f9ceb3235effd7fcde7f7538ed62  golden_retriever"
            ]
          },
          "metadata": {
            "tags": []
          },
          "execution_count": 9
        }
      ]
    },
    {
      "cell_type": "markdown",
      "metadata": {
        "colab_type": "text",
        "id": "QP8YAzQvqyK-"
      },
      "source": [
        "### Print the count of each category of Dogs given in the dataset\n",
        "\n"
      ]
    },
    {
      "cell_type": "code",
      "metadata": {
        "id": "3L2naXlr96Im",
        "colab_type": "code",
        "colab": {
          "base_uri": "https://localhost:8080/",
          "height": 218
        },
        "outputId": "6f9f6a6e-fb8c-4ceb-8bc1-5e272ca9ff0f"
      },
      "source": [
        "labels.breed.value_counts()"
      ],
      "execution_count": 10,
      "outputs": [
        {
          "output_type": "execute_result",
          "data": {
            "text/plain": [
              "scottish_deerhound      126\n",
              "maltese_dog             117\n",
              "afghan_hound            116\n",
              "entlebucher             115\n",
              "bernese_mountain_dog    114\n",
              "                       ... \n",
              "golden_retriever         67\n",
              "brabancon_griffon        67\n",
              "komondor                 67\n",
              "eskimo_dog               66\n",
              "briard                   66\n",
              "Name: breed, Length: 120, dtype: int64"
            ]
          },
          "metadata": {
            "tags": []
          },
          "execution_count": 10
        }
      ]
    },
    {
      "cell_type": "code",
      "metadata": {
        "id": "CLm3W5RN96Ir",
        "colab_type": "code",
        "colab": {
          "base_uri": "https://localhost:8080/",
          "height": 389
        },
        "outputId": "817aa8db-73c4-4a01-da7c-d8f72a24aca9"
      },
      "source": [
        "#top 20 breed and their count\n",
        "top_breeds = sorted(list(labels['breed'].value_counts().head(20).index))\n",
        "labelstop = labels[labels['breed'].isin(top_breeds)]\n",
        "labelstop.breed.value_counts().plot(kind='bar')"
      ],
      "execution_count": 11,
      "outputs": [
        {
          "output_type": "execute_result",
          "data": {
            "text/plain": [
              "<matplotlib.axes._subplots.AxesSubplot at 0x7f19c87545c0>"
            ]
          },
          "metadata": {
            "tags": []
          },
          "execution_count": 11
        },
        {
          "output_type": "display_data",
          "data": {
            "image/png": "[encoded data removed]",
            "text/plain": [
              "<Figure size 432x288 with 1 Axes>"
            ]
          },
          "metadata": {
            "tags": []
          }
        }
      ]
    },
    {
      "cell_type": "code",
      "metadata": {
        "id": "NhZ9k3iucS5F",
        "colab_type": "code",
        "colab": {
          "base_uri": "https://localhost:8080/",
          "height": 521
        },
        "outputId": "806b0276-3e38-4464-dee3-42cbf1202abe"
      },
      "source": [
        "print(\"Dog- Unique Classes\",labels[\"breed\"].unique())"
      ],
      "execution_count": 12,
      "outputs": [
        {
          "output_type": "stream",
          "text": [
            "Dog- Unique Classes ['boston_bull' 'dingo' 'pekinese' 'bluetick' 'golden_retriever'\n",
            " 'bedlington_terrier' 'borzoi' 'basenji' 'scottish_deerhound'\n",
            " 'shetland_sheepdog' 'walker_hound' 'maltese_dog' 'norfolk_terrier'\n",
            " 'african_hunting_dog' 'wire-haired_fox_terrier' 'redbone'\n",
            " 'lakeland_terrier' 'boxer' 'doberman' 'otterhound' 'standard_schnauzer'\n",
            " 'irish_water_spaniel' 'black-and-tan_coonhound' 'cairn' 'affenpinscher'\n",
            " 'labrador_retriever' 'ibizan_hound' 'english_setter' 'weimaraner'\n",
            " 'giant_schnauzer' 'groenendael' 'dhole' 'toy_poodle' 'border_terrier'\n",
            " 'tibetan_terrier' 'norwegian_elkhound' 'shih-tzu' 'irish_terrier'\n",
            " 'kuvasz' 'german_shepherd' 'greater_swiss_mountain_dog' 'basset'\n",
            " 'australian_terrier' 'schipperke' 'rhodesian_ridgeback' 'irish_setter'\n",
            " 'appenzeller' 'bloodhound' 'samoyed' 'miniature_schnauzer'\n",
            " 'brittany_spaniel' 'kelpie' 'papillon' 'border_collie' 'entlebucher'\n",
            " 'collie' 'malamute' 'welsh_springer_spaniel' 'chihuahua' 'saluki' 'pug'\n",
            " 'malinois' 'komondor' 'airedale' 'leonberg' 'mexican_hairless'\n",
            " 'bull_mastiff' 'bernese_mountain_dog' 'american_staffordshire_terrier'\n",
            " 'lhasa' 'cardigan' 'italian_greyhound' 'clumber' 'scotch_terrier'\n",
            " 'afghan_hound' 'old_english_sheepdog' 'saint_bernard'\n",
            " 'miniature_pinscher' 'eskimo_dog' 'irish_wolfhound' 'brabancon_griffon'\n",
            " 'toy_terrier' 'chow' 'flat-coated_retriever' 'norwich_terrier'\n",
            " 'soft-coated_wheaten_terrier' 'staffordshire_bullterrier'\n",
            " 'english_foxhound' 'gordon_setter' 'siberian_husky' 'newfoundland'\n",
            " 'briard' 'chesapeake_bay_retriever' 'dandie_dinmont' 'great_pyrenees'\n",
            " 'beagle' 'vizsla' 'west_highland_white_terrier' 'kerry_blue_terrier'\n",
            " 'whippet' 'sealyham_terrier' 'standard_poodle' 'keeshond'\n",
            " 'japanese_spaniel' 'miniature_poodle' 'pomeranian'\n",
            " 'curly-coated_retriever' 'yorkshire_terrier' 'pembroke' 'great_dane'\n",
            " 'blenheim_spaniel' 'silky_terrier' 'sussex_spaniel'\n",
            " 'german_short-haired_pointer' 'french_bulldog' 'bouvier_des_flandres'\n",
            " 'tibetan_mastiff' 'english_springer' 'cocker_spaniel' 'rottweiler']\n"
          ],
          "name": "stdout"
        }
      ]
    },
    {
      "cell_type": "code",
      "metadata": {
        "id": "BFZmfL1ackFA",
        "colab_type": "code",
        "colab": {
          "base_uri": "https://localhost:8080/",
          "height": 34
        },
        "outputId": "c0b2d44c-7244-4469-ef99-96915e17675c"
      },
      "source": [
        "print(\"Total number of dog breeds = \",labels.breed.nunique())"
      ],
      "execution_count": 13,
      "outputs": [
        {
          "output_type": "stream",
          "text": [
            "Total number of dog breeds =  120\n"
          ],
          "name": "stdout"
        }
      ]
    },
    {
      "cell_type": "markdown",
      "metadata": {
        "colab_type": "text",
        "id": "WI94_Qcc0D4M"
      },
      "source": [
        "### Get one-hot encodings of labels"
      ]
    },
    {
      "cell_type": "code",
      "metadata": {
        "id": "Q48iAcY196I3",
        "colab_type": "code",
        "colab": {}
      },
      "source": [
        "from sklearn.preprocessing import LabelBinarizer\n",
        "encoder = LabelBinarizer()"
      ],
      "execution_count": 0,
      "outputs": []
    },
    {
      "cell_type": "code",
      "metadata": {
        "id": "9nlWmRNM96I8",
        "colab_type": "code",
        "outputId": "bf41a7ea-5b69-4119-fe09-69da16d951ad",
        "colab": {
          "base_uri": "https://localhost:8080/",
          "height": 134
        }
      },
      "source": [
        "transfomed_label = encoder.fit_transform(labels.breed)\n",
        "print(transfomed_label)"
      ],
      "execution_count": 15,
      "outputs": [
        {
          "output_type": "stream",
          "text": [
            "[[0 0 0 ... 0 0 0]\n",
            " [0 0 0 ... 0 0 0]\n",
            " [0 0 0 ... 0 0 0]\n",
            " ...\n",
            " [0 0 0 ... 0 0 0]\n",
            " [0 0 0 ... 0 0 0]\n",
            " [0 0 0 ... 0 0 0]]\n"
          ],
          "name": "stdout"
        }
      ]
    },
    {
      "cell_type": "markdown",
      "metadata": {
        "id": "VWaJ9naXfoiU",
        "colab_type": "text"
      },
      "source": [
        "## Preparing training dataset\n",
        "1. Write a code which reads each and every id from labels.csv file and loads the corresponding image (in RGB - 128, 128, 3) from the train folder. <br>\n",
        "2. Create 2 variables <br> \n",
        "     a.  x_train - Should have all the images of the dogs from train folder <br>\n",
        "     b.  y_train - Corresponding label of the dog <br>\n",
        "<u>Note:</u> The id of the dog images and its corresponding labels are available in labels.csv file   \n",
        "<u>Hint:</u> Watch the video shared on \"Preparing the training dataset\" if you face issue on creating the training dataset"
      ]
    },
    {
      "cell_type": "code",
      "metadata": {
        "colab_type": "code",
        "id": "aC2f9ecR0XGR",
        "colab": {
          "base_uri": "https://localhost:8080/",
          "height": 34
        },
        "outputId": "e0296c36-b9ca-4209-da64-dd5780af6cc9"
      },
      "source": [
        "img_rows = 128\n",
        "img_cols = 128\n",
        "x_train = []\n",
        "y_train = []\n",
        "i = 0 \n",
        "\n",
        "for f, breed in tqdm(labels.values):\n",
        "    img = cv2.imread('./train/{}.jpg'.format(f))\n",
        "    label = transfomed_label[i]\n",
        "    x_train.append(cv2.resize(img, (img_rows, img_cols)))\n",
        "    y_train.append(label)\n",
        "    i += 1"
      ],
      "execution_count": 16,
      "outputs": [
        {
          "output_type": "stream",
          "text": [
            "100%|██████████| 10222/10222 [00:32<00:00, 316.41it/s]\n"
          ],
          "name": "stderr"
        }
      ]
    },
    {
      "cell_type": "code",
      "metadata": {
        "colab_type": "code",
        "id": "nkkZEpOe0ipk",
        "colab": {}
      },
      "source": [
        "import pickle"
      ],
      "execution_count": 0,
      "outputs": []
    },
    {
      "cell_type": "code",
      "metadata": {
        "id": "9fgJ6x2CbntI",
        "colab_type": "code",
        "colab": {}
      },
      "source": [
        "pickle_out = open(\"drive/My Drive/Dog_breed/x_train.pickle\",\"wb\")\n",
        "pickle.dump(x_train,pickle_out)\n",
        "pickle_out.close()\n",
        "\n",
        "pickle_out = open(\"drive/My Drive/Dog_breed/y_train.pickle\",\"wb\")\n",
        "pickle.dump(y_train,pickle_out)\n",
        "pickle_out.close()"
      ],
      "execution_count": 0,
      "outputs": []
    },
    {
      "cell_type": "code",
      "metadata": {
        "id": "7ega0AJmbn0P",
        "colab_type": "code",
        "colab": {}
      },
      "source": [
        "pickle_in = open(\"drive/My Drive/Dog_breed/x_train.pickle\",\"rb\")\n",
        "x_train = pickle.load(pickle_in) \n",
        "pickle_in.close()\n",
        "\n",
        "pickle_in = open(\"drive/My Drive/Dog_breed/y_train.pickle\",\"rb\")\n",
        "y_train = pickle.load(pickle_in) \n",
        "pickle_in.close()"
      ],
      "execution_count": 0,
      "outputs": []
    },
    {
      "cell_type": "markdown",
      "metadata": {
        "id": "6ioWDEgElBOs",
        "colab_type": "text"
      },
      "source": [
        "Normalize the training data and convert into 4 dimensions so that it can be used as an input to conv layers in the model"
      ]
    },
    {
      "cell_type": "code",
      "metadata": {
        "colab_type": "code",
        "id": "ARn76j3U1CDa",
        "colab": {
          "base_uri": "https://localhost:8080/",
          "height": 50
        },
        "outputId": "052d86be-6cb5-45c7-dd25-5634cad2c950"
      },
      "source": [
        "y_train_norm= np.array(y_train, np.uint8)\n",
        "x_train_norm = np.array(x_train, np.float32) / 255.\n",
        "\n",
        "print(y_train_norm.shape)\n",
        "print(x_train_norm.shape)"
      ],
      "execution_count": 20,
      "outputs": [
        {
          "output_type": "stream",
          "text": [
            "(10222, 120)\n",
            "(10222, 128, 128, 3)\n"
          ],
          "name": "stdout"
        }
      ]
    },
    {
      "cell_type": "markdown",
      "metadata": {
        "colab_type": "text",
        "id": "bdCXuAE11gZL"
      },
      "source": [
        "### Split the training and validation data from `x_train_data` and `y_train_data` obtained from above step"
      ]
    },
    {
      "cell_type": "code",
      "metadata": {
        "id": "kpWx-pgV96Jv",
        "colab_type": "code",
        "colab": {}
      },
      "source": [
        "X1_train,X1_test,y1_train,y1_test = train_test_split(x_train_norm, y_train_norm, test_size=0.3, random_state=10)"
      ],
      "execution_count": 0,
      "outputs": []
    },
    {
      "cell_type": "markdown",
      "metadata": {
        "colab_type": "text",
        "id": "XkL-N1jDsU8m"
      },
      "source": [
        "### Loading the test data\n",
        "Read the id column from the samples_submission.csv and store it in test_img"
      ]
    },
    {
      "cell_type": "code",
      "metadata": {
        "colab_type": "code",
        "id": "DnpXdpd9b3E7",
        "colab": {
          "base_uri": "https://localhost:8080/",
          "height": 261
        },
        "outputId": "762b48e7-5d4c-4946-c90f-f7d0266d209e"
      },
      "source": [
        "test_data= pd.read_csv('sample_submission.csv')\n",
        "test_data.head()"
      ],
      "execution_count": 22,
      "outputs": [
        {
          "output_type": "execute_result",
          "data": {
            "text/html": [
              "<div>\n",
              "<style scoped>\n",
              "    .dataframe tbody tr th:only-of-type {\n",
              "        vertical-align: middle;\n",
              "    }\n",
              "\n",
              "    .dataframe tbody tr th {\n",
              "        vertical-align: top;\n",
              "    }\n",
              "\n",
              "    .dataframe thead th {\n",
              "        text-align: right;\n",
              "    }\n",
              "</style>\n",
              "<table border=\"1\" class=\"dataframe\">\n",
              "  <thead>\n",
              "    <tr style=\"text-align: right;\">\n",
              "      <th></th>\n",
              "      <th>id</th>\n",
              "      <th>affenpinscher</th>\n",
              "      <th>afghan_hound</th>\n",
              "      <th>african_hunting_dog</th>\n",
              "      <th>airedale</th>\n",
              "      <th>american_staffordshire_terrier</th>\n",
              "      <th>appenzeller</th>\n",
              "      <th>australian_terrier</th>\n",
              "      <th>basenji</th>\n",
              "      <th>basset</th>\n",
              "      <th>beagle</th>\n",
              "      <th>bedlington_terrier</th>\n",
              "      <th>bernese_mountain_dog</th>\n",
              "      <th>black-and-tan_coonhound</th>\n",
              "      <th>blenheim_spaniel</th>\n",
              "      <th>bloodhound</th>\n",
              "      <th>bluetick</th>\n",
              "      <th>border_collie</th>\n",
              "      <th>border_terrier</th>\n",
              "      <th>borzoi</th>\n",
              "      <th>boston_bull</th>\n",
              "      <th>bouvier_des_flandres</th>\n",
              "      <th>boxer</th>\n",
              "      <th>brabancon_griffon</th>\n",
              "      <th>briard</th>\n",
              "      <th>brittany_spaniel</th>\n",
              "      <th>bull_mastiff</th>\n",
              "      <th>cairn</th>\n",
              "      <th>cardigan</th>\n",
              "      <th>chesapeake_bay_retriever</th>\n",
              "      <th>chihuahua</th>\n",
              "      <th>chow</th>\n",
              "      <th>clumber</th>\n",
              "      <th>cocker_spaniel</th>\n",
              "      <th>collie</th>\n",
              "      <th>curly-coated_retriever</th>\n",
              "      <th>dandie_dinmont</th>\n",
              "      <th>dhole</th>\n",
              "      <th>dingo</th>\n",
              "      <th>doberman</th>\n",
              "      <th>...</th>\n",
              "      <th>norwegian_elkhound</th>\n",
              "      <th>norwich_terrier</th>\n",
              "      <th>old_english_sheepdog</th>\n",
              "      <th>otterhound</th>\n",
              "      <th>papillon</th>\n",
              "      <th>pekinese</th>\n",
              "      <th>pembroke</th>\n",
              "      <th>pomeranian</th>\n",
              "      <th>pug</th>\n",
              "      <th>redbone</th>\n",
              "      <th>rhodesian_ridgeback</th>\n",
              "      <th>rottweiler</th>\n",
              "      <th>saint_bernard</th>\n",
              "      <th>saluki</th>\n",
              "      <th>samoyed</th>\n",
              "      <th>schipperke</th>\n",
              "      <th>scotch_terrier</th>\n",
              "      <th>scottish_deerhound</th>\n",
              "      <th>sealyham_terrier</th>\n",
              "      <th>shetland_sheepdog</th>\n",
              "      <th>shih-tzu</th>\n",
              "      <th>siberian_husky</th>\n",
              "      <th>silky_terrier</th>\n",
              "      <th>soft-coated_wheaten_terrier</th>\n",
              "      <th>staffordshire_bullterrier</th>\n",
              "      <th>standard_poodle</th>\n",
              "      <th>standard_schnauzer</th>\n",
              "      <th>sussex_spaniel</th>\n",
              "      <th>tibetan_mastiff</th>\n",
              "      <th>tibetan_terrier</th>\n",
              "      <th>toy_poodle</th>\n",
              "      <th>toy_terrier</th>\n",
              "      <th>vizsla</th>\n",
              "      <th>walker_hound</th>\n",
              "      <th>weimaraner</th>\n",
              "      <th>welsh_springer_spaniel</th>\n",
              "      <th>west_highland_white_terrier</th>\n",
              "      <th>whippet</th>\n",
              "      <th>wire-haired_fox_terrier</th>\n",
              "      <th>yorkshire_terrier</th>\n",
              "    </tr>\n",
              "  </thead>\n",
              "  <tbody>\n",
              "    <tr>\n",
              "      <th>0</th>\n",
              "      <td>000621fb3cbb32d8935728e48679680e</td>\n",
              "      <td>0.008333</td>\n",
              "      <td>0.008333</td>\n",
              "      <td>0.008333</td>\n",
              "      <td>0.008333</td>\n",
              "      <td>0.008333</td>\n",
              "      <td>0.008333</td>\n",
              "      <td>0.008333</td>\n",
              "      <td>0.008333</td>\n",
              "      <td>0.008333</td>\n",
              "      <td>0.008333</td>\n",
              "      <td>0.008333</td>\n",
              "      <td>0.008333</td>\n",
              "      <td>0.008333</td>\n",
              "      <td>0.008333</td>\n",
              "      <td>0.008333</td>\n",
              "      <td>0.008333</td>\n",
              "      <td>0.008333</td>\n",
              "      <td>0.008333</td>\n",
              "      <td>0.008333</td>\n",
              "      <td>0.008333</td>\n",
              "      <td>0.008333</td>\n",
              "      <td>0.008333</td>\n",
              "      <td>0.008333</td>\n",
              "      <td>0.008333</td>\n",
              "      <td>0.008333</td>\n",
              "      <td>0.008333</td>\n",
              "      <td>0.008333</td>\n",
              "      <td>0.008333</td>\n",
              "      <td>0.008333</td>\n",
              "      <td>0.008333</td>\n",
              "      <td>0.008333</td>\n",
              "      <td>0.008333</td>\n",
              "      <td>0.008333</td>\n",
              "      <td>0.008333</td>\n",
              "      <td>0.008333</td>\n",
              "      <td>0.008333</td>\n",
              "      <td>0.008333</td>\n",
              "      <td>0.008333</td>\n",
              "      <td>0.008333</td>\n",
              "      <td>...</td>\n",
              "      <td>0.008333</td>\n",
              "      <td>0.008333</td>\n",
              "      <td>0.008333</td>\n",
              "      <td>0.008333</td>\n",
              "      <td>0.008333</td>\n",
              "      <td>0.008333</td>\n",
              "      <td>0.008333</td>\n",
              "      <td>0.008333</td>\n",
              "      <td>0.008333</td>\n",
              "      <td>0.008333</td>\n",
              "      <td>0.008333</td>\n",
              "      <td>0.008333</td>\n",
              "      <td>0.008333</td>\n",
              "      <td>0.008333</td>\n",
              "      <td>0.008333</td>\n",
              "      <td>0.008333</td>\n",
              "      <td>0.008333</td>\n",
              "      <td>0.008333</td>\n",
              "      <td>0.008333</td>\n",
              "      <td>0.008333</td>\n",
              "      <td>0.008333</td>\n",
              "      <td>0.008333</td>\n",
              "      <td>0.008333</td>\n",
              "      <td>0.008333</td>\n",
              "      <td>0.008333</td>\n",
              "      <td>0.008333</td>\n",
              "      <td>0.008333</td>\n",
              "      <td>0.008333</td>\n",
              "      <td>0.008333</td>\n",
              "      <td>0.008333</td>\n",
              "      <td>0.008333</td>\n",
              "      <td>0.008333</td>\n",
              "      <td>0.008333</td>\n",
              "      <td>0.008333</td>\n",
              "      <td>0.008333</td>\n",
              "      <td>0.008333</td>\n",
              "      <td>0.008333</td>\n",
              "      <td>0.008333</td>\n",
              "      <td>0.008333</td>\n",
              "      <td>0.008333</td>\n",
              "    </tr>\n",
              "    <tr>\n",
              "      <th>1</th>\n",
              "      <td>00102ee9d8eb90812350685311fe5890</td>\n",
              "      <td>0.008333</td>\n",
              "      <td>0.008333</td>\n",
              "      <td>0.008333</td>\n",
              "      <td>0.008333</td>\n",
              "      <td>0.008333</td>\n",
              "      <td>0.008333</td>\n",
              "      <td>0.008333</td>\n",
              "      <td>0.008333</td>\n",
              "      <td>0.008333</td>\n",
              "      <td>0.008333</td>\n",
              "      <td>0.008333</td>\n",
              "      <td>0.008333</td>\n",
              "      <td>0.008333</td>\n",
              "      <td>0.008333</td>\n",
              "      <td>0.008333</td>\n",
              "      <td>0.008333</td>\n",
              "      <td>0.008333</td>\n",
              "      <td>0.008333</td>\n",
              "      <td>0.008333</td>\n",
              "      <td>0.008333</td>\n",
              "      <td>0.008333</td>\n",
              "      <td>0.008333</td>\n",
              "      <td>0.008333</td>\n",
              "      <td>0.008333</td>\n",
              "      <td>0.008333</td>\n",
              "      <td>0.008333</td>\n",
              "      <td>0.008333</td>\n",
              "      <td>0.008333</td>\n",
              "      <td>0.008333</td>\n",
              "      <td>0.008333</td>\n",
              "      <td>0.008333</td>\n",
              "      <td>0.008333</td>\n",
              "      <td>0.008333</td>\n",
              "      <td>0.008333</td>\n",
              "      <td>0.008333</td>\n",
              "      <td>0.008333</td>\n",
              "      <td>0.008333</td>\n",
              "      <td>0.008333</td>\n",
              "      <td>0.008333</td>\n",
              "      <td>...</td>\n",
              "      <td>0.008333</td>\n",
              "      <td>0.008333</td>\n",
              "      <td>0.008333</td>\n",
              "      <td>0.008333</td>\n",
              "      <td>0.008333</td>\n",
              "      <td>0.008333</td>\n",
              "      <td>0.008333</td>\n",
              "      <td>0.008333</td>\n",
              "      <td>0.008333</td>\n",
              "      <td>0.008333</td>\n",
              "      <td>0.008333</td>\n",
              "      <td>0.008333</td>\n",
              "      <td>0.008333</td>\n",
              "      <td>0.008333</td>\n",
              "      <td>0.008333</td>\n",
              "      <td>0.008333</td>\n",
              "      <td>0.008333</td>\n",
              "      <td>0.008333</td>\n",
              "      <td>0.008333</td>\n",
              "      <td>0.008333</td>\n",
              "      <td>0.008333</td>\n",
              "      <td>0.008333</td>\n",
              "      <td>0.008333</td>\n",
              "      <td>0.008333</td>\n",
              "      <td>0.008333</td>\n",
              "      <td>0.008333</td>\n",
              "      <td>0.008333</td>\n",
              "      <td>0.008333</td>\n",
              "      <td>0.008333</td>\n",
              "      <td>0.008333</td>\n",
              "      <td>0.008333</td>\n",
              "      <td>0.008333</td>\n",
              "      <td>0.008333</td>\n",
              "      <td>0.008333</td>\n",
              "      <td>0.008333</td>\n",
              "      <td>0.008333</td>\n",
              "      <td>0.008333</td>\n",
              "      <td>0.008333</td>\n",
              "      <td>0.008333</td>\n",
              "      <td>0.008333</td>\n",
              "    </tr>\n",
              "    <tr>\n",
              "      <th>2</th>\n",
              "      <td>0012a730dfa437f5f3613fb75efcd4ce</td>\n",
              "      <td>0.008333</td>\n",
              "      <td>0.008333</td>\n",
              "      <td>0.008333</td>\n",
              "      <td>0.008333</td>\n",
              "      <td>0.008333</td>\n",
              "      <td>0.008333</td>\n",
              "      <td>0.008333</td>\n",
              "      <td>0.008333</td>\n",
              "      <td>0.008333</td>\n",
              "      <td>0.008333</td>\n",
              "      <td>0.008333</td>\n",
              "      <td>0.008333</td>\n",
              "      <td>0.008333</td>\n",
              "      <td>0.008333</td>\n",
              "      <td>0.008333</td>\n",
              "      <td>0.008333</td>\n",
              "      <td>0.008333</td>\n",
              "      <td>0.008333</td>\n",
              "      <td>0.008333</td>\n",
              "      <td>0.008333</td>\n",
              "      <td>0.008333</td>\n",
              "      <td>0.008333</td>\n",
              "      <td>0.008333</td>\n",
              "      <td>0.008333</td>\n",
              "      <td>0.008333</td>\n",
              "      <td>0.008333</td>\n",
              "      <td>0.008333</td>\n",
              "      <td>0.008333</td>\n",
              "      <td>0.008333</td>\n",
              "      <td>0.008333</td>\n",
              "      <td>0.008333</td>\n",
              "      <td>0.008333</td>\n",
              "      <td>0.008333</td>\n",
              "      <td>0.008333</td>\n",
              "      <td>0.008333</td>\n",
              "      <td>0.008333</td>\n",
              "      <td>0.008333</td>\n",
              "      <td>0.008333</td>\n",
              "      <td>0.008333</td>\n",
              "      <td>...</td>\n",
              "      <td>0.008333</td>\n",
              "      <td>0.008333</td>\n",
              "      <td>0.008333</td>\n",
              "      <td>0.008333</td>\n",
              "      <td>0.008333</td>\n",
              "      <td>0.008333</td>\n",
              "      <td>0.008333</td>\n",
              "      <td>0.008333</td>\n",
              "      <td>0.008333</td>\n",
              "      <td>0.008333</td>\n",
              "      <td>0.008333</td>\n",
              "      <td>0.008333</td>\n",
              "      <td>0.008333</td>\n",
              "      <td>0.008333</td>\n",
              "      <td>0.008333</td>\n",
              "      <td>0.008333</td>\n",
              "      <td>0.008333</td>\n",
              "      <td>0.008333</td>\n",
              "      <td>0.008333</td>\n",
              "      <td>0.008333</td>\n",
              "      <td>0.008333</td>\n",
              "      <td>0.008333</td>\n",
              "      <td>0.008333</td>\n",
              "      <td>0.008333</td>\n",
              "      <td>0.008333</td>\n",
              "      <td>0.008333</td>\n",
              "      <td>0.008333</td>\n",
              "      <td>0.008333</td>\n",
              "      <td>0.008333</td>\n",
              "      <td>0.008333</td>\n",
              "      <td>0.008333</td>\n",
              "      <td>0.008333</td>\n",
              "      <td>0.008333</td>\n",
              "      <td>0.008333</td>\n",
              "      <td>0.008333</td>\n",
              "      <td>0.008333</td>\n",
              "      <td>0.008333</td>\n",
              "      <td>0.008333</td>\n",
              "      <td>0.008333</td>\n",
              "      <td>0.008333</td>\n",
              "    </tr>\n",
              "    <tr>\n",
              "      <th>3</th>\n",
              "      <td>001510bc8570bbeee98c8d80c8a95ec1</td>\n",
              "      <td>0.008333</td>\n",
              "      <td>0.008333</td>\n",
              "      <td>0.008333</td>\n",
              "      <td>0.008333</td>\n",
              "      <td>0.008333</td>\n",
              "      <td>0.008333</td>\n",
              "      <td>0.008333</td>\n",
              "      <td>0.008333</td>\n",
              "      <td>0.008333</td>\n",
              "      <td>0.008333</td>\n",
              "      <td>0.008333</td>\n",
              "      <td>0.008333</td>\n",
              "      <td>0.008333</td>\n",
              "      <td>0.008333</td>\n",
              "      <td>0.008333</td>\n",
              "      <td>0.008333</td>\n",
              "      <td>0.008333</td>\n",
              "      <td>0.008333</td>\n",
              "      <td>0.008333</td>\n",
              "      <td>0.008333</td>\n",
              "      <td>0.008333</td>\n",
              "      <td>0.008333</td>\n",
              "      <td>0.008333</td>\n",
              "      <td>0.008333</td>\n",
              "      <td>0.008333</td>\n",
              "      <td>0.008333</td>\n",
              "      <td>0.008333</td>\n",
              "      <td>0.008333</td>\n",
              "      <td>0.008333</td>\n",
              "      <td>0.008333</td>\n",
              "      <td>0.008333</td>\n",
              "      <td>0.008333</td>\n",
              "      <td>0.008333</td>\n",
              "      <td>0.008333</td>\n",
              "      <td>0.008333</td>\n",
              "      <td>0.008333</td>\n",
              "      <td>0.008333</td>\n",
              "      <td>0.008333</td>\n",
              "      <td>0.008333</td>\n",
              "      <td>...</td>\n",
              "      <td>0.008333</td>\n",
              "      <td>0.008333</td>\n",
              "      <td>0.008333</td>\n",
              "      <td>0.008333</td>\n",
              "      <td>0.008333</td>\n",
              "      <td>0.008333</td>\n",
              "      <td>0.008333</td>\n",
              "      <td>0.008333</td>\n",
              "      <td>0.008333</td>\n",
              "      <td>0.008333</td>\n",
              "      <td>0.008333</td>\n",
              "      <td>0.008333</td>\n",
              "      <td>0.008333</td>\n",
              "      <td>0.008333</td>\n",
              "      <td>0.008333</td>\n",
              "      <td>0.008333</td>\n",
              "      <td>0.008333</td>\n",
              "      <td>0.008333</td>\n",
              "      <td>0.008333</td>\n",
              "      <td>0.008333</td>\n",
              "      <td>0.008333</td>\n",
              "      <td>0.008333</td>\n",
              "      <td>0.008333</td>\n",
              "      <td>0.008333</td>\n",
              "      <td>0.008333</td>\n",
              "      <td>0.008333</td>\n",
              "      <td>0.008333</td>\n",
              "      <td>0.008333</td>\n",
              "      <td>0.008333</td>\n",
              "      <td>0.008333</td>\n",
              "      <td>0.008333</td>\n",
              "      <td>0.008333</td>\n",
              "      <td>0.008333</td>\n",
              "      <td>0.008333</td>\n",
              "      <td>0.008333</td>\n",
              "      <td>0.008333</td>\n",
              "      <td>0.008333</td>\n",
              "      <td>0.008333</td>\n",
              "      <td>0.008333</td>\n",
              "      <td>0.008333</td>\n",
              "    </tr>\n",
              "    <tr>\n",
              "      <th>4</th>\n",
              "      <td>001a5f3114548acdefa3d4da05474c2e</td>\n",
              "      <td>0.008333</td>\n",
              "      <td>0.008333</td>\n",
              "      <td>0.008333</td>\n",
              "      <td>0.008333</td>\n",
              "      <td>0.008333</td>\n",
              "      <td>0.008333</td>\n",
              "      <td>0.008333</td>\n",
              "      <td>0.008333</td>\n",
              "      <td>0.008333</td>\n",
              "      <td>0.008333</td>\n",
              "      <td>0.008333</td>\n",
              "      <td>0.008333</td>\n",
              "      <td>0.008333</td>\n",
              "      <td>0.008333</td>\n",
              "      <td>0.008333</td>\n",
              "      <td>0.008333</td>\n",
              "      <td>0.008333</td>\n",
              "      <td>0.008333</td>\n",
              "      <td>0.008333</td>\n",
              "      <td>0.008333</td>\n",
              "      <td>0.008333</td>\n",
              "      <td>0.008333</td>\n",
              "      <td>0.008333</td>\n",
              "      <td>0.008333</td>\n",
              "      <td>0.008333</td>\n",
              "      <td>0.008333</td>\n",
              "      <td>0.008333</td>\n",
              "      <td>0.008333</td>\n",
              "      <td>0.008333</td>\n",
              "      <td>0.008333</td>\n",
              "      <td>0.008333</td>\n",
              "      <td>0.008333</td>\n",
              "      <td>0.008333</td>\n",
              "      <td>0.008333</td>\n",
              "      <td>0.008333</td>\n",
              "      <td>0.008333</td>\n",
              "      <td>0.008333</td>\n",
              "      <td>0.008333</td>\n",
              "      <td>0.008333</td>\n",
              "      <td>...</td>\n",
              "      <td>0.008333</td>\n",
              "      <td>0.008333</td>\n",
              "      <td>0.008333</td>\n",
              "      <td>0.008333</td>\n",
              "      <td>0.008333</td>\n",
              "      <td>0.008333</td>\n",
              "      <td>0.008333</td>\n",
              "      <td>0.008333</td>\n",
              "      <td>0.008333</td>\n",
              "      <td>0.008333</td>\n",
              "      <td>0.008333</td>\n",
              "      <td>0.008333</td>\n",
              "      <td>0.008333</td>\n",
              "      <td>0.008333</td>\n",
              "      <td>0.008333</td>\n",
              "      <td>0.008333</td>\n",
              "      <td>0.008333</td>\n",
              "      <td>0.008333</td>\n",
              "      <td>0.008333</td>\n",
              "      <td>0.008333</td>\n",
              "      <td>0.008333</td>\n",
              "      <td>0.008333</td>\n",
              "      <td>0.008333</td>\n",
              "      <td>0.008333</td>\n",
              "      <td>0.008333</td>\n",
              "      <td>0.008333</td>\n",
              "      <td>0.008333</td>\n",
              "      <td>0.008333</td>\n",
              "      <td>0.008333</td>\n",
              "      <td>0.008333</td>\n",
              "      <td>0.008333</td>\n",
              "      <td>0.008333</td>\n",
              "      <td>0.008333</td>\n",
              "      <td>0.008333</td>\n",
              "      <td>0.008333</td>\n",
              "      <td>0.008333</td>\n",
              "      <td>0.008333</td>\n",
              "      <td>0.008333</td>\n",
              "      <td>0.008333</td>\n",
              "      <td>0.008333</td>\n",
              "    </tr>\n",
              "  </tbody>\n",
              "</table>\n",
              "<p>5 rows × 121 columns</p>\n",
              "</div>"
            ],
            "text/plain": [
              "                                 id  ...  yorkshire_terrier\n",
              "0  000621fb3cbb32d8935728e48679680e  ...           0.008333\n",
              "1  00102ee9d8eb90812350685311fe5890  ...           0.008333\n",
              "2  0012a730dfa437f5f3613fb75efcd4ce  ...           0.008333\n",
              "3  001510bc8570bbeee98c8d80c8a95ec1  ...           0.008333\n",
              "4  001a5f3114548acdefa3d4da05474c2e  ...           0.008333\n",
              "\n",
              "[5 rows x 121 columns]"
            ]
          },
          "metadata": {
            "tags": []
          },
          "execution_count": 22
        }
      ]
    },
    {
      "cell_type": "code",
      "metadata": {
        "id": "yk3ew4Lse9EF",
        "colab_type": "code",
        "colab": {
          "base_uri": "https://localhost:8080/",
          "height": 218
        },
        "outputId": "c6c57814-9cc7-4541-bf0c-c661ba28698a"
      },
      "source": [
        "test_img = test_data['id']\n",
        "test_img"
      ],
      "execution_count": 23,
      "outputs": [
        {
          "output_type": "execute_result",
          "data": {
            "text/plain": [
              "0        000621fb3cbb32d8935728e48679680e\n",
              "1        00102ee9d8eb90812350685311fe5890\n",
              "2        0012a730dfa437f5f3613fb75efcd4ce\n",
              "3        001510bc8570bbeee98c8d80c8a95ec1\n",
              "4        001a5f3114548acdefa3d4da05474c2e\n",
              "                       ...               \n",
              "10352    ffeda8623d4eee33c6d1156a2ecbfcf8\n",
              "10353    fff1ec9e6e413275984966f745a313b0\n",
              "10354    fff74b59b758bbbf13a5793182a9bbe4\n",
              "10355    fff7d50d848e8014ac1e9172dc6762a3\n",
              "10356    fffbff22c1f51e3dc80c4bf04089545b\n",
              "Name: id, Length: 10357, dtype: object"
            ]
          },
          "metadata": {
            "tags": []
          },
          "execution_count": 23
        }
      ]
    },
    {
      "cell_type": "markdown",
      "metadata": {
        "id": "DEJqZIMbm0Jo",
        "colab_type": "text"
      },
      "source": [
        "Run the below code to load the test image files in x_test_feature"
      ]
    },
    {
      "cell_type": "code",
      "metadata": {
        "colab_type": "code",
        "id": "zf7n4WG-b3Hv",
        "colab": {
          "base_uri": "https://localhost:8080/",
          "height": 34
        },
        "outputId": "0ceb5b0f-b238-417c-b294-a0038626feb1"
      },
      "source": [
        "x_test_feature = []\n",
        "i = 0 # initialisation\n",
        "for f in tqdm(test_img.values): # f for format ,jpg\n",
        "    img = cv2.imread('./test/{}.jpg'.format(f), 0)\n",
        "    img_resize = cv2.resize(img, (img_rows, img_cols)) \n",
        "    x_test_feature.append(img_resize)"
      ],
      "execution_count": 24,
      "outputs": [
        {
          "output_type": "stream",
          "text": [
            "100%|██████████| 10357/10357 [00:15<00:00, 668.31it/s]\n"
          ],
          "name": "stderr"
        }
      ]
    },
    {
      "cell_type": "markdown",
      "metadata": {
        "id": "9My6qSyDnE-_",
        "colab_type": "text"
      },
      "source": [
        "Normalize the test data and convert it into 4 dimensions"
      ]
    },
    {
      "cell_type": "code",
      "metadata": {
        "id": "93n-IntMnJGI",
        "colab_type": "code",
        "colab": {
          "base_uri": "https://localhost:8080/",
          "height": 34
        },
        "outputId": "707d96b9-5fe6-478f-e2e3-e9aafecaec0d"
      },
      "source": [
        "x_test_feature = np.array(x_test_feature, np.float32) / 255.\n",
        "x_test_feature.shape"
      ],
      "execution_count": 25,
      "outputs": [
        {
          "output_type": "execute_result",
          "data": {
            "text/plain": [
              "(10357, 128, 128)"
            ]
          },
          "metadata": {
            "tags": []
          },
          "execution_count": 25
        }
      ]
    },
    {
      "cell_type": "markdown",
      "metadata": {
        "colab_type": "text",
        "id": "zKezNJVMsocP"
      },
      "source": [
        "### Build a basic conv neural network with 2 conv layers (kernel sizes - 5 and 3) add layers as mentioned below for classification.\n",
        "\n",
        "1. Add a Dense layer with 256 neurons with `relu` activation\n",
        "\n",
        "2. Add a Dense layer with 120 neurons as final layer (as there are 120 classes in the given dataset) with `softmax` activation for classifiaction. "
      ]
    },
    {
      "cell_type": "code",
      "metadata": {
        "id": "D2jxTY2S96J4",
        "colab_type": "code",
        "colab": {}
      },
      "source": [
        "model = tf.keras.Sequential()"
      ],
      "execution_count": 0,
      "outputs": []
    },
    {
      "cell_type": "code",
      "metadata": {
        "id": "f_BAvCzo96J6",
        "colab_type": "code",
        "colab": {}
      },
      "source": [
        "model.add(tf.keras.layers.Conv2D(filters=32, kernel_size=(5,5),strides =(1,1),activation='relu',input_shape=(128,128,3)))\n",
        "model.add(tf.keras.layers.BatchNormalization())\n",
        "model.add(tf.keras.layers.Conv2D(filters=32, kernel_size=(3,3),strides =(1,1),activation='relu'))\n",
        "model.add(tf.keras.layers.BatchNormalization())\n",
        "model.add(tf.keras.layers.MaxPooling2D(pool_size=(2,2),strides =(2,2), padding='valid'))\n",
        "model.add(tf.keras.layers.Dropout(0.25))\n",
        "\n",
        "#model.add(tf.keras.layers.Conv2D(filters=64, kernel_size=(3,3),strides =(2,2),activation='relu'))\n",
        "#model.add(tf.keras.layers.BatchNormalization())\n",
        "#model.add(tf.keras.layers.Conv2D(filters=64, kernel_size=(3,3),strides =(2,2),activation='relu'))\n",
        "#model.add(tf.keras.layers.BatchNormalization())\n",
        "#model.add(tf.keras.layers.MaxPooling2D(pool_size=(2,2),strides =(2,2), padding='valid'))\n",
        "#model.add(tf.keras.layers.Dropout(0.25))\n",
        "\n",
        "\n",
        "model.add(tf.keras.layers.Flatten()) ## Deep neural network\n",
        "model.add(tf.keras.layers.Dense(256, activation='relu'))\n",
        "#model.add(tf.keras.layers.LayerNormalization())\n",
        "#model.add(tf.keras.layers.Dense(256, activation='relu'))\n",
        "#model.add(tf.keras.layers.Dropout(0.25))\n",
        "model.add(tf.keras.layers.Dense(120, activation='softmax'))"
      ],
      "execution_count": 0,
      "outputs": []
    },
    {
      "cell_type": "code",
      "metadata": {
        "id": "QR7WwoF3CAog",
        "colab_type": "code",
        "outputId": "818286a9-0663-4f38-8eb0-d0e869a78f61",
        "colab": {
          "base_uri": "https://localhost:8080/",
          "height": 454
        }
      },
      "source": [
        "model.compile(loss='categorical_crossentropy',optimizer='adam',metrics=['accuracy'])\n",
        "model.summary()"
      ],
      "execution_count": 28,
      "outputs": [
        {
          "output_type": "stream",
          "text": [
            "Model: \"sequential\"\n",
            "_________________________________________________________________\n",
            "Layer (type)                 Output Shape              Param #   \n",
            "=================================================================\n",
            "conv2d (Conv2D)              (None, 124, 124, 32)      2432      \n",
            "_________________________________________________________________\n",
            "batch_normalization (BatchNo (None, 124, 124, 32)      128       \n",
            "_________________________________________________________________\n",
            "conv2d_1 (Conv2D)            (None, 122, 122, 32)      9248      \n",
            "_________________________________________________________________\n",
            "batch_normalization_1 (Batch (None, 122, 122, 32)      128       \n",
            "_________________________________________________________________\n",
            "max_pooling2d (MaxPooling2D) (None, 61, 61, 32)        0         \n",
            "_________________________________________________________________\n",
            "dropout (Dropout)            (None, 61, 61, 32)        0         \n",
            "_________________________________________________________________\n",
            "flatten (Flatten)            (None, 119072)            0         \n",
            "_________________________________________________________________\n",
            "dense (Dense)                (None, 256)               30482688  \n",
            "_________________________________________________________________\n",
            "dense_1 (Dense)              (None, 120)               30840     \n",
            "=================================================================\n",
            "Total params: 30,525,464\n",
            "Trainable params: 30,525,336\n",
            "Non-trainable params: 128\n",
            "_________________________________________________________________\n"
          ],
          "name": "stdout"
        }
      ]
    },
    {
      "cell_type": "markdown",
      "metadata": {
        "id": "ui8EXw6_oqpR",
        "colab_type": "text"
      },
      "source": [
        "### Use batch_size = 128 and epochs = 10 and execute the model"
      ]
    },
    {
      "cell_type": "code",
      "metadata": {
        "id": "IriIc37NozbK",
        "colab_type": "code",
        "outputId": "8f0fcbb2-55e0-4531-c317-e8dcaefa1e28",
        "colab": {
          "base_uri": "https://localhost:8080/",
          "height": 386
        }
      },
      "source": [
        "model.fit(X1_train,y1_train,batch_size=128,epochs=10,validation_data=(X1_test,y1_test))"
      ],
      "execution_count": 29,
      "outputs": [
        {
          "output_type": "stream",
          "text": [
            "Train on 7155 samples, validate on 3067 samples\n",
            "Epoch 1/10\n",
            "7155/7155 [==============================] - 70s 10ms/sample - loss: 6.8145 - accuracy: 0.0092 - val_loss: 12.4635 - val_accuracy: 0.0082\n",
            "Epoch 2/10\n",
            "7155/7155 [==============================] - 69s 10ms/sample - loss: 4.8095 - accuracy: 0.0129 - val_loss: 44.2933 - val_accuracy: 0.0068\n",
            "Epoch 3/10\n",
            "7155/7155 [==============================] - 71s 10ms/sample - loss: 4.8103 - accuracy: 0.0145 - val_loss: 64.3714 - val_accuracy: 0.0098\n",
            "Epoch 4/10\n",
            "7155/7155 [==============================] - 70s 10ms/sample - loss: 4.7949 - accuracy: 0.0165 - val_loss: 22.7080 - val_accuracy: 0.0153\n",
            "Epoch 5/10\n",
            "7155/7155 [==============================] - 70s 10ms/sample - loss: 4.7489 - accuracy: 0.0214 - val_loss: 120.2594 - val_accuracy: 0.0124\n",
            "Epoch 6/10\n",
            "7155/7155 [==============================] - 71s 10ms/sample - loss: 4.7147 - accuracy: 0.0236 - val_loss: 82.9038 - val_accuracy: 0.0121\n",
            "Epoch 7/10\n",
            "7155/7155 [==============================] - 71s 10ms/sample - loss: 4.6725 - accuracy: 0.0295 - val_loss: 58.2539 - val_accuracy: 0.0157\n",
            "Epoch 8/10\n",
            "7155/7155 [==============================] - 71s 10ms/sample - loss: 4.6386 - accuracy: 0.0342 - val_loss: 40.2851 - val_accuracy: 0.0189\n",
            "Epoch 9/10\n",
            "7155/7155 [==============================] - 70s 10ms/sample - loss: 4.6005 - accuracy: 0.0387 - val_loss: 20.8882 - val_accuracy: 0.0163\n",
            "Epoch 10/10\n",
            "7155/7155 [==============================] - 69s 10ms/sample - loss: 4.5662 - accuracy: 0.0421 - val_loss: 6.6720 - val_accuracy: 0.0163\n"
          ],
          "name": "stdout"
        },
        {
          "output_type": "execute_result",
          "data": {
            "text/plain": [
              "<tensorflow.python.keras.callbacks.History at 0x7f19c8845a58>"
            ]
          },
          "metadata": {
            "tags": []
          },
          "execution_count": 29
        }
      ]
    },
    {
      "cell_type": "code",
      "metadata": {
        "id": "0PR9j5_Xozmd",
        "colab_type": "code",
        "outputId": "43ee74e4-3193-4545-af97-e38971401e5f",
        "colab": {
          "base_uri": "https://localhost:8080/",
          "height": 34
        }
      },
      "source": [
        "scores = model.evaluate(X1_train, y1_train, verbose=0)\n",
        "print(\"Train Accuracy: %.2f%%\" % (scores[1]*100))"
      ],
      "execution_count": 30,
      "outputs": [
        {
          "output_type": "stream",
          "text": [
            "Train Accuracy: 3.56%\n"
          ],
          "name": "stdout"
        }
      ]
    },
    {
      "cell_type": "code",
      "metadata": {
        "id": "qLSGWTWwEmXj",
        "colab_type": "code",
        "outputId": "1053257d-e070-466b-de6b-56141f149469",
        "colab": {
          "base_uri": "https://localhost:8080/",
          "height": 34
        }
      },
      "source": [
        "scores = model.evaluate(X1_test, y1_test, verbose=0)\n",
        "print(\"Test Accuracy: %.2f%%\" % (scores[1]*100))"
      ],
      "execution_count": 31,
      "outputs": [
        {
          "output_type": "stream",
          "text": [
            "Test Accuracy: 1.63%\n"
          ],
          "name": "stdout"
        }
      ]
    },
    {
      "cell_type": "markdown",
      "metadata": {
        "id": "Z8hWaKmjoz69",
        "colab_type": "text"
      },
      "source": [
        "#The model accuracy is very poor !!!!"
      ]
    },
    {
      "cell_type": "markdown",
      "metadata": {
        "colab_type": "text",
        "id": "agJKkc6xtKiq"
      },
      "source": [
        "### Use Data Augmentation in the above model to see if the accuracy improves\n"
      ]
    },
    {
      "cell_type": "code",
      "metadata": {
        "colab_type": "code",
        "id": "31Mn8qnZb3Ru",
        "colab": {}
      },
      "source": [
        "datagen = tf.keras.preprocessing.image.ImageDataGenerator(rotation_range=300, # Degree range for random rotations\n",
        "                            width_shift_range=0.5, # Range for random horizontal shifts\n",
        "                            height_shift_range=0.5, # Range for random vertical shifts\n",
        "                            zoom_range=0.5, # Range for random zoom\n",
        "                            horizontal_flip=True, # Randomly flip inputs horizontally\n",
        "                            vertical_flip=True) # Randomly flip inputs vertically"
      ],
      "execution_count": 0,
      "outputs": []
    },
    {
      "cell_type": "markdown",
      "metadata": {
        "colab_type": "text",
        "id": "6sssbaTfxlkk"
      },
      "source": [
        "### Using the above objects, create the image generators with variable names `train_generator` and `val_generator`\n",
        "\n",
        "You need to use train_datagen.flow() and val_datagen.flow()"
      ]
    },
    {
      "cell_type": "code",
      "metadata": {
        "id": "sehaRgT-96KQ",
        "colab_type": "code",
        "colab": {}
      },
      "source": [
        "train_generator = datagen.flow(X1_train, y1_train)\n",
        "val_generator = datagen.flow(X1_test, y1_test)"
      ],
      "execution_count": 0,
      "outputs": []
    },
    {
      "cell_type": "markdown",
      "metadata": {
        "colab_type": "text",
        "id": "TVFQJZw3x4-C"
      },
      "source": [
        "### Fit the model using fit_generator() using `train_generator` and `val_generator` from the above step with 10 epochs"
      ]
    },
    {
      "cell_type": "code",
      "metadata": {
        "colab_type": "code",
        "id": "J1K2MqHbuPUa",
        "colab": {
          "base_uri": "https://localhost:8080/",
          "height": 571
        },
        "outputId": "3f26ef85-0148-42bf-f052-b480f5f4e6eb"
      },
      "source": [
        "model.fit_generator(train_generator,\n",
        "                   steps_per_epoch=X1_train.shape[0] // 128,\n",
        "                   epochs=10,\n",
        "                   verbose=2,\n",
        "                   validation_data=val_generator)"
      ],
      "execution_count": 34,
      "outputs": [
        {
          "output_type": "stream",
          "text": [
            "WARNING:tensorflow:From <ipython-input-34-edc74f969ba7>:5: Model.fit_generator (from tensorflow.python.keras.engine.training) is deprecated and will be removed in a future version.\n",
            "Instructions for updating:\n",
            "Please use Model.fit, which supports generators.\n",
            "WARNING:tensorflow:sample_weight modes were coerced from\n",
            "  ...\n",
            "    to  \n",
            "  ['...']\n",
            "WARNING:tensorflow:sample_weight modes were coerced from\n",
            "  ...\n",
            "    to  \n",
            "  ['...']\n",
            "Train for 55 steps, validate for 96 steps\n",
            "Epoch 1/10\n",
            "55/55 - 34s - loss: 9.9836 - accuracy: 0.0136 - val_loss: 6.4864 - val_accuracy: 0.0082\n",
            "Epoch 2/10\n",
            "55/55 - 34s - loss: 4.8604 - accuracy: 0.0108 - val_loss: 4.7856 - val_accuracy: 0.0085\n",
            "Epoch 3/10\n",
            "55/55 - 34s - loss: 4.7930 - accuracy: 0.0142 - val_loss: 4.7854 - val_accuracy: 0.0085\n",
            "Epoch 4/10\n",
            "55/55 - 34s - loss: 4.8052 - accuracy: 0.0114 - val_loss: 4.7853 - val_accuracy: 0.0085\n",
            "Epoch 5/10\n",
            "55/55 - 35s - loss: 4.7915 - accuracy: 0.0108 - val_loss: 4.8001 - val_accuracy: 0.0085\n",
            "Epoch 6/10\n",
            "55/55 - 34s - loss: 4.7896 - accuracy: 0.0102 - val_loss: 4.7849 - val_accuracy: 0.0085\n",
            "Epoch 7/10\n",
            "55/55 - 35s - loss: 4.7754 - accuracy: 0.0103 - val_loss: 4.7852 - val_accuracy: 0.0085\n",
            "Epoch 8/10\n",
            "55/55 - 34s - loss: 4.7786 - accuracy: 0.0155 - val_loss: 4.7850 - val_accuracy: 0.0085\n",
            "Epoch 9/10\n",
            "55/55 - 34s - loss: 4.7805 - accuracy: 0.0097 - val_loss: 4.7863 - val_accuracy: 0.0085\n",
            "Epoch 10/10\n",
            "55/55 - 34s - loss: 4.7739 - accuracy: 0.0114 - val_loss: 4.7849 - val_accuracy: 0.0085\n"
          ],
          "name": "stdout"
        },
        {
          "output_type": "execute_result",
          "data": {
            "text/plain": [
              "<tensorflow.python.keras.callbacks.History at 0x7f19879ac2b0>"
            ]
          },
          "metadata": {
            "tags": []
          },
          "execution_count": 34
        }
      ]
    },
    {
      "cell_type": "code",
      "metadata": {
        "id": "is76fkC8g69M",
        "colab_type": "code",
        "colab": {
          "base_uri": "https://localhost:8080/",
          "height": 34
        },
        "outputId": "40c65f5b-c978-49d8-eff3-a0649c8cab85"
      },
      "source": [
        "scores = model.evaluate(X1_train, y1_train, verbose=0)\n",
        "print(\"Train Accuracy: %.2f%%\" % (scores[1]*100))"
      ],
      "execution_count": 35,
      "outputs": [
        {
          "output_type": "stream",
          "text": [
            "Train Accuracy: 1.20%\n"
          ],
          "name": "stdout"
        }
      ]
    },
    {
      "cell_type": "code",
      "metadata": {
        "id": "oi7Vzi2vg3km",
        "colab_type": "code",
        "colab": {
          "base_uri": "https://localhost:8080/",
          "height": 34
        },
        "outputId": "b548edae-9ebf-440d-ea72-38a9ded4700c"
      },
      "source": [
        "scores = model.evaluate(X1_test, y1_test, verbose=0)\n",
        "print(\"Test Accuracy: %.2f%%\" % (scores[1]*100))"
      ],
      "execution_count": 36,
      "outputs": [
        {
          "output_type": "stream",
          "text": [
            "Test Accuracy: 0.85%\n"
          ],
          "name": "stdout"
        }
      ]
    },
    {
      "cell_type": "markdown",
      "metadata": {
        "id": "Q2zmLztqo5DY",
        "colab_type": "text"
      },
      "source": [
        "# Model accuracy is still poor!!!"
      ]
    },
    {
      "cell_type": "markdown",
      "metadata": {
        "id": "rSTATrhsAo7L",
        "colab_type": "text"
      },
      "source": [
        "### Lets use Transfer Learning\n",
        "\n",
        "Download the vgg wieght file from here : https://github.com/MinerKasch/applied_deep_learning/blob/master/vgg16_weights_tf_dim_ordering_tf_kernels_notop.h5"
      ]
    },
    {
      "cell_type": "markdown",
      "metadata": {
        "id": "zy5JdbW6pIvD",
        "colab_type": "text"
      },
      "source": [
        "Use the below code to load VGG16 weights trained on ImageNet"
      ]
    },
    {
      "cell_type": "code",
      "metadata": {
        "id": "yrqs0zg7ApNw",
        "colab_type": "code",
        "colab": {}
      },
      "source": [
        "from tensorflow.keras.applications.vgg16 import VGG16, preprocess_input\n",
        "# Instantiate the model with the pre-trained weights (no top)\n",
        "base_model= VGG16(weights=('drive/My Drive/Dog_breed/vgg16_weights_tf_dim_ordering_tf_kernels_notop.h5'),\n",
        "                 input_shape=(128,128,3),include_top=False,pooling='avg')"
      ],
      "execution_count": 0,
      "outputs": []
    },
    {
      "cell_type": "markdown",
      "metadata": {
        "id": "EItOlRBGpV_A",
        "colab_type": "text"
      },
      "source": [
        "Print the summary of the base_model"
      ]
    },
    {
      "cell_type": "code",
      "metadata": {
        "id": "lQsEBgnlpHjH",
        "colab_type": "code",
        "outputId": "507f2750-dd17-4d6d-f5c1-81bbb2370186",
        "colab": {
          "base_uri": "https://localhost:8080/",
          "height": 823
        }
      },
      "source": [
        "base_model.summary()"
      ],
      "execution_count": 38,
      "outputs": [
        {
          "output_type": "stream",
          "text": [
            "Model: \"vgg16\"\n",
            "_________________________________________________________________\n",
            "Layer (type)                 Output Shape              Param #   \n",
            "=================================================================\n",
            "input_1 (InputLayer)         [(None, 128, 128, 3)]     0         \n",
            "_________________________________________________________________\n",
            "block1_conv1 (Conv2D)        (None, 128, 128, 64)      1792      \n",
            "_________________________________________________________________\n",
            "block1_conv2 (Conv2D)        (None, 128, 128, 64)      36928     \n",
            "_________________________________________________________________\n",
            "block1_pool (MaxPooling2D)   (None, 64, 64, 64)        0         \n",
            "_________________________________________________________________\n",
            "block2_conv1 (Conv2D)        (None, 64, 64, 128)       73856     \n",
            "_________________________________________________________________\n",
            "block2_conv2 (Conv2D)        (None, 64, 64, 128)       147584    \n",
            "_________________________________________________________________\n",
            "block2_pool (MaxPooling2D)   (None, 32, 32, 128)       0         \n",
            "_________________________________________________________________\n",
            "block3_conv1 (Conv2D)        (None, 32, 32, 256)       295168    \n",
            "_________________________________________________________________\n",
            "block3_conv2 (Conv2D)        (None, 32, 32, 256)       590080    \n",
            "_________________________________________________________________\n",
            "block3_conv3 (Conv2D)        (None, 32, 32, 256)       590080    \n",
            "_________________________________________________________________\n",
            "block3_pool (MaxPooling2D)   (None, 16, 16, 256)       0         \n",
            "_________________________________________________________________\n",
            "block4_conv1 (Conv2D)        (None, 16, 16, 512)       1180160   \n",
            "_________________________________________________________________\n",
            "block4_conv2 (Conv2D)        (None, 16, 16, 512)       2359808   \n",
            "_________________________________________________________________\n",
            "block4_conv3 (Conv2D)        (None, 16, 16, 512)       2359808   \n",
            "_________________________________________________________________\n",
            "block4_pool (MaxPooling2D)   (None, 8, 8, 512)         0         \n",
            "_________________________________________________________________\n",
            "block5_conv1 (Conv2D)        (None, 8, 8, 512)         2359808   \n",
            "_________________________________________________________________\n",
            "block5_conv2 (Conv2D)        (None, 8, 8, 512)         2359808   \n",
            "_________________________________________________________________\n",
            "block5_conv3 (Conv2D)        (None, 8, 8, 512)         2359808   \n",
            "_________________________________________________________________\n",
            "block5_pool (MaxPooling2D)   (None, 4, 4, 512)         0         \n",
            "_________________________________________________________________\n",
            "global_average_pooling2d (Gl (None, 512)               0         \n",
            "=================================================================\n",
            "Total params: 14,714,688\n",
            "Trainable params: 14,714,688\n",
            "Non-trainable params: 0\n",
            "_________________________________________________________________\n"
          ],
          "name": "stdout"
        }
      ]
    },
    {
      "cell_type": "markdown",
      "metadata": {
        "id": "fHpeOyW0qauW",
        "colab_type": "text"
      },
      "source": [
        "### Add the following classification layers to the imported VGG Model <br>\n",
        "1. Flatten Layer\n",
        "2. Dense layer with 1024 neurons with activation as Relu\n",
        "3. Dense layer with 256 neurons with activation as Relu\n",
        "4. Dense layer with 120 neurons with activation as Softmax"
      ]
    },
    {
      "cell_type": "code",
      "metadata": {
        "id": "0BpT4MLkqoaO",
        "colab_type": "code",
        "colab": {}
      },
      "source": [
        "fl1=tf.keras.layers.Flatten(name='flatten')\n",
        "dl1=tf.keras.layers.Dense(1024, activation='relu',name='dense1')\n",
        "dl2=tf.keras.layers.Dense(512, activation='relu',name='dense2')\n",
        "dp=tf.keras.layers.Dropout(0.2,name='drop')\n",
        "dout=tf.keras.layers.Dense(120, activation='softmax',name='out')"
      ],
      "execution_count": 0,
      "outputs": []
    },
    {
      "cell_type": "markdown",
      "metadata": {
        "id": "LeQem0pHITIj",
        "colab_type": "text"
      },
      "source": [
        "### Make all the layers in the base_model (VGG16) to be non-trainable"
      ]
    },
    {
      "cell_type": "code",
      "metadata": {
        "id": "C7w9CSPvIRnX",
        "colab_type": "code",
        "colab": {
          "base_uri": "https://localhost:8080/",
          "height": 823
        },
        "outputId": "2763e654-5e3d-4306-be47-dad6b446c9bb"
      },
      "source": [
        "for layer in base_model.layers:\n",
        "  layer.trainable = False\n",
        "\n",
        "base_model.summary()"
      ],
      "execution_count": 40,
      "outputs": [
        {
          "output_type": "stream",
          "text": [
            "Model: \"vgg16\"\n",
            "_________________________________________________________________\n",
            "Layer (type)                 Output Shape              Param #   \n",
            "=================================================================\n",
            "input_1 (InputLayer)         [(None, 128, 128, 3)]     0         \n",
            "_________________________________________________________________\n",
            "block1_conv1 (Conv2D)        (None, 128, 128, 64)      1792      \n",
            "_________________________________________________________________\n",
            "block1_conv2 (Conv2D)        (None, 128, 128, 64)      36928     \n",
            "_________________________________________________________________\n",
            "block1_pool (MaxPooling2D)   (None, 64, 64, 64)        0         \n",
            "_________________________________________________________________\n",
            "block2_conv1 (Conv2D)        (None, 64, 64, 128)       73856     \n",
            "_________________________________________________________________\n",
            "block2_conv2 (Conv2D)        (None, 64, 64, 128)       147584    \n",
            "_________________________________________________________________\n",
            "block2_pool (MaxPooling2D)   (None, 32, 32, 128)       0         \n",
            "_________________________________________________________________\n",
            "block3_conv1 (Conv2D)        (None, 32, 32, 256)       295168    \n",
            "_________________________________________________________________\n",
            "block3_conv2 (Conv2D)        (None, 32, 32, 256)       590080    \n",
            "_________________________________________________________________\n",
            "block3_conv3 (Conv2D)        (None, 32, 32, 256)       590080    \n",
            "_________________________________________________________________\n",
            "block3_pool (MaxPooling2D)   (None, 16, 16, 256)       0         \n",
            "_________________________________________________________________\n",
            "block4_conv1 (Conv2D)        (None, 16, 16, 512)       1180160   \n",
            "_________________________________________________________________\n",
            "block4_conv2 (Conv2D)        (None, 16, 16, 512)       2359808   \n",
            "_________________________________________________________________\n",
            "block4_conv3 (Conv2D)        (None, 16, 16, 512)       2359808   \n",
            "_________________________________________________________________\n",
            "block4_pool (MaxPooling2D)   (None, 8, 8, 512)         0         \n",
            "_________________________________________________________________\n",
            "block5_conv1 (Conv2D)        (None, 8, 8, 512)         2359808   \n",
            "_________________________________________________________________\n",
            "block5_conv2 (Conv2D)        (None, 8, 8, 512)         2359808   \n",
            "_________________________________________________________________\n",
            "block5_conv3 (Conv2D)        (None, 8, 8, 512)         2359808   \n",
            "_________________________________________________________________\n",
            "block5_pool (MaxPooling2D)   (None, 4, 4, 512)         0         \n",
            "_________________________________________________________________\n",
            "global_average_pooling2d (Gl (None, 512)               0         \n",
            "=================================================================\n",
            "Total params: 14,714,688\n",
            "Trainable params: 0\n",
            "Non-trainable params: 14,714,688\n",
            "_________________________________________________________________\n"
          ],
          "name": "stdout"
        }
      ]
    },
    {
      "cell_type": "code",
      "metadata": {
        "id": "VWNnTQwCkatS",
        "colab_type": "code",
        "colab": {}
      },
      "source": [
        "model_vgg = tf.keras.models.Sequential([\n",
        "  base_model,\n",
        "  fl1,\n",
        "  dl1,\n",
        "  dl2,\n",
        "  dp,\n",
        "  dout\n",
        "])"
      ],
      "execution_count": 0,
      "outputs": []
    },
    {
      "cell_type": "markdown",
      "metadata": {
        "id": "kj-BwqgfIkdv",
        "colab_type": "text"
      },
      "source": [
        "### Fit and compile the model with batch_size = 128 and epochs = 10 and execute the model"
      ]
    },
    {
      "cell_type": "markdown",
      "metadata": {
        "id": "YD5fAgVQIpKZ",
        "colab_type": "text"
      },
      "source": [
        "Try to get training and validation accuracy to be more than 90%"
      ]
    },
    {
      "cell_type": "code",
      "metadata": {
        "id": "FJgx5kOCRfri",
        "colab_type": "code",
        "outputId": "215bae11-3e6f-4b03-b2f7-cbb867f744a4",
        "colab": {
          "base_uri": "https://localhost:8080/",
          "height": 353
        }
      },
      "source": [
        "model_vgg.compile(loss='categorical_crossentropy',optimizer='adam',metrics=['accuracy'])\n",
        "model_vgg.summary()"
      ],
      "execution_count": 42,
      "outputs": [
        {
          "output_type": "stream",
          "text": [
            "Model: \"sequential_1\"\n",
            "_________________________________________________________________\n",
            "Layer (type)                 Output Shape              Param #   \n",
            "=================================================================\n",
            "vgg16 (Model)                (None, 512)               14714688  \n",
            "_________________________________________________________________\n",
            "flatten (Flatten)            (None, 512)               0         \n",
            "_________________________________________________________________\n",
            "dense1 (Dense)               (None, 1024)              525312    \n",
            "_________________________________________________________________\n",
            "dense2 (Dense)               (None, 512)               524800    \n",
            "_________________________________________________________________\n",
            "drop (Dropout)               (None, 512)               0         \n",
            "_________________________________________________________________\n",
            "out (Dense)                  (None, 120)               61560     \n",
            "=================================================================\n",
            "Total params: 15,826,360\n",
            "Trainable params: 1,111,672\n",
            "Non-trainable params: 14,714,688\n",
            "_________________________________________________________________\n"
          ],
          "name": "stdout"
        }
      ]
    },
    {
      "cell_type": "code",
      "metadata": {
        "id": "f9_QVMnHi11r",
        "colab_type": "code",
        "colab": {
          "base_uri": "https://localhost:8080/",
          "height": 1000
        },
        "outputId": "fa9de2e4-7ff5-4681-ca96-165039025877"
      },
      "source": [
        "model_vgg.fit_generator(train_generator,steps_per_epoch=100,epochs=50,validation_data=val_generator, validation_steps=50, verbose=1) "
      ],
      "execution_count": 43,
      "outputs": [
        {
          "output_type": "stream",
          "text": [
            "WARNING:tensorflow:sample_weight modes were coerced from\n",
            "  ...\n",
            "    to  \n",
            "  ['...']\n",
            "WARNING:tensorflow:sample_weight modes were coerced from\n",
            "  ...\n",
            "    to  \n",
            "  ['...']\n",
            "Train for 100 steps, validate for 50 steps\n",
            "Epoch 1/50\n",
            "100/100 [==============================] - 57s 571ms/step - loss: 4.8173 - accuracy: 0.0084 - val_loss: 4.7886 - val_accuracy: 0.0075\n",
            "Epoch 2/50\n",
            "100/100 [==============================] - 56s 558ms/step - loss: 4.7867 - accuracy: 0.0110 - val_loss: 4.7862 - val_accuracy: 0.0069\n",
            "Epoch 3/50\n",
            "100/100 [==============================] - 56s 558ms/step - loss: 4.7696 - accuracy: 0.0185 - val_loss: 4.7723 - val_accuracy: 0.0113\n",
            "Epoch 4/50\n",
            "100/100 [==============================] - 56s 561ms/step - loss: 4.7248 - accuracy: 0.0191 - val_loss: 4.7395 - val_accuracy: 0.0200\n",
            "Epoch 5/50\n",
            "100/100 [==============================] - 55s 552ms/step - loss: 4.6696 - accuracy: 0.0250 - val_loss: 4.6929 - val_accuracy: 0.0213\n",
            "Epoch 6/50\n",
            "100/100 [==============================] - 57s 568ms/step - loss: 4.6190 - accuracy: 0.0341 - val_loss: 4.6411 - val_accuracy: 0.0269\n",
            "Epoch 7/50\n",
            "100/100 [==============================] - 56s 563ms/step - loss: 4.5932 - accuracy: 0.0300 - val_loss: 4.5876 - val_accuracy: 0.0275\n",
            "Epoch 8/50\n",
            "100/100 [==============================] - 57s 567ms/step - loss: 4.5320 - accuracy: 0.0338 - val_loss: 4.5111 - val_accuracy: 0.0500\n",
            "Epoch 9/50\n",
            "100/100 [==============================] - 56s 563ms/step - loss: 4.4936 - accuracy: 0.0378 - val_loss: 4.5149 - val_accuracy: 0.0394\n",
            "Epoch 10/50\n",
            "100/100 [==============================] - 56s 562ms/step - loss: 4.4428 - accuracy: 0.0386 - val_loss: 4.4513 - val_accuracy: 0.0444\n",
            "Epoch 11/50\n",
            "100/100 [==============================] - 56s 562ms/step - loss: 4.4016 - accuracy: 0.0455 - val_loss: 4.4648 - val_accuracy: 0.0356\n",
            "Epoch 12/50\n",
            "100/100 [==============================] - 57s 572ms/step - loss: 4.3633 - accuracy: 0.0468 - val_loss: 4.4119 - val_accuracy: 0.0444\n",
            "Epoch 13/50\n",
            "100/100 [==============================] - 56s 560ms/step - loss: 4.3667 - accuracy: 0.0487 - val_loss: 4.4060 - val_accuracy: 0.0519\n",
            "Epoch 14/50\n",
            "100/100 [==============================] - 56s 562ms/step - loss: 4.3017 - accuracy: 0.0587 - val_loss: 4.3097 - val_accuracy: 0.0531\n",
            "Epoch 15/50\n",
            "100/100 [==============================] - 56s 561ms/step - loss: 4.3074 - accuracy: 0.0640 - val_loss: 4.4059 - val_accuracy: 0.0444\n",
            "Epoch 16/50\n",
            "100/100 [==============================] - 56s 564ms/step - loss: 4.2452 - accuracy: 0.0647 - val_loss: 4.3166 - val_accuracy: 0.0587\n",
            "Epoch 17/50\n",
            "100/100 [==============================] - 56s 564ms/step - loss: 4.2341 - accuracy: 0.0684 - val_loss: 4.2907 - val_accuracy: 0.0675\n",
            "Epoch 18/50\n",
            "100/100 [==============================] - 56s 557ms/step - loss: 4.2078 - accuracy: 0.0675 - val_loss: 4.3670 - val_accuracy: 0.0581\n",
            "Epoch 19/50\n",
            "100/100 [==============================] - 55s 552ms/step - loss: 4.2046 - accuracy: 0.0637 - val_loss: 4.3440 - val_accuracy: 0.0619\n",
            "Epoch 20/50\n",
            "100/100 [==============================] - 56s 559ms/step - loss: 4.2129 - accuracy: 0.0659 - val_loss: 4.3204 - val_accuracy: 0.0581\n",
            "Epoch 21/50\n",
            "100/100 [==============================] - 56s 561ms/step - loss: 4.1751 - accuracy: 0.0750 - val_loss: 4.3108 - val_accuracy: 0.0650\n",
            "Epoch 22/50\n",
            "100/100 [==============================] - 56s 558ms/step - loss: 4.1763 - accuracy: 0.0675 - val_loss: 4.2579 - val_accuracy: 0.0650\n",
            "Epoch 23/50\n",
            "100/100 [==============================] - 57s 574ms/step - loss: 4.1514 - accuracy: 0.0722 - val_loss: 4.3292 - val_accuracy: 0.0644\n",
            "Epoch 24/50\n",
            "100/100 [==============================] - 56s 560ms/step - loss: 4.1493 - accuracy: 0.0766 - val_loss: 4.2804 - val_accuracy: 0.0675\n",
            "Epoch 25/50\n",
            "100/100 [==============================] - 56s 560ms/step - loss: 4.1443 - accuracy: 0.0806 - val_loss: 4.2469 - val_accuracy: 0.0719\n",
            "Epoch 26/50\n",
            "100/100 [==============================] - 57s 574ms/step - loss: 4.1268 - accuracy: 0.0794 - val_loss: 4.2534 - val_accuracy: 0.0700\n",
            "Epoch 27/50\n",
            "100/100 [==============================] - 56s 561ms/step - loss: 4.1380 - accuracy: 0.0816 - val_loss: 4.2603 - val_accuracy: 0.0669\n",
            "Epoch 28/50\n",
            "100/100 [==============================] - 56s 558ms/step - loss: 4.1415 - accuracy: 0.0869 - val_loss: 4.2170 - val_accuracy: 0.0706\n",
            "Epoch 29/50\n",
            "100/100 [==============================] - 58s 577ms/step - loss: 4.1576 - accuracy: 0.0835 - val_loss: 4.2514 - val_accuracy: 0.0600\n",
            "Epoch 30/50\n",
            "100/100 [==============================] - 60s 598ms/step - loss: 4.0865 - accuracy: 0.0731 - val_loss: 4.2279 - val_accuracy: 0.0719\n",
            "Epoch 31/50\n",
            "100/100 [==============================] - 56s 557ms/step - loss: 4.1009 - accuracy: 0.0800 - val_loss: 4.2681 - val_accuracy: 0.0781\n",
            "Epoch 32/50\n",
            "100/100 [==============================] - 56s 557ms/step - loss: 4.0964 - accuracy: 0.0778 - val_loss: 4.2086 - val_accuracy: 0.0763\n",
            "Epoch 33/50\n",
            "100/100 [==============================] - 55s 552ms/step - loss: 4.0516 - accuracy: 0.0941 - val_loss: 4.2078 - val_accuracy: 0.0781\n",
            "Epoch 34/50\n",
            "100/100 [==============================] - 56s 563ms/step - loss: 4.1045 - accuracy: 0.0869 - val_loss: 4.2167 - val_accuracy: 0.0775\n",
            "Epoch 35/50\n",
            "100/100 [==============================] - 55s 551ms/step - loss: 4.0882 - accuracy: 0.0803 - val_loss: 4.2174 - val_accuracy: 0.0825\n",
            "Epoch 36/50\n",
            "100/100 [==============================] - 56s 556ms/step - loss: 4.0551 - accuracy: 0.0901 - val_loss: 4.2006 - val_accuracy: 0.0731\n",
            "Epoch 37/50\n",
            "100/100 [==============================] - 55s 554ms/step - loss: 4.0399 - accuracy: 0.0935 - val_loss: 4.2483 - val_accuracy: 0.0688\n",
            "Epoch 38/50\n",
            "100/100 [==============================] - 55s 552ms/step - loss: 4.0528 - accuracy: 0.0894 - val_loss: 4.2020 - val_accuracy: 0.0775\n",
            "Epoch 39/50\n",
            "100/100 [==============================] - 56s 559ms/step - loss: 4.0542 - accuracy: 0.0878 - val_loss: 4.2268 - val_accuracy: 0.0694\n",
            "Epoch 40/50\n",
            "100/100 [==============================] - 57s 570ms/step - loss: 4.0213 - accuracy: 0.0919 - val_loss: 4.1915 - val_accuracy: 0.0763\n",
            "Epoch 41/50\n",
            "100/100 [==============================] - 55s 553ms/step - loss: 4.0269 - accuracy: 0.0913 - val_loss: 4.2064 - val_accuracy: 0.0775\n",
            "Epoch 42/50\n",
            "100/100 [==============================] - 56s 560ms/step - loss: 4.0097 - accuracy: 0.0973 - val_loss: 4.1780 - val_accuracy: 0.0769\n",
            "Epoch 43/50\n",
            "100/100 [==============================] - 56s 557ms/step - loss: 4.0373 - accuracy: 0.0891 - val_loss: 4.1602 - val_accuracy: 0.0800\n",
            "Epoch 44/50\n",
            "100/100 [==============================] - 56s 558ms/step - loss: 4.0173 - accuracy: 0.0916 - val_loss: 4.2447 - val_accuracy: 0.0900\n",
            "Epoch 45/50\n",
            "100/100 [==============================] - 56s 563ms/step - loss: 3.9944 - accuracy: 0.0891 - val_loss: 4.1843 - val_accuracy: 0.0787\n",
            "Epoch 46/50\n",
            "100/100 [==============================] - 56s 559ms/step - loss: 4.0159 - accuracy: 0.0925 - val_loss: 4.1971 - val_accuracy: 0.0875\n",
            "Epoch 47/50\n",
            "100/100 [==============================] - 56s 560ms/step - loss: 4.0058 - accuracy: 0.0966 - val_loss: 4.1908 - val_accuracy: 0.0737\n",
            "Epoch 48/50\n",
            "100/100 [==============================] - 56s 556ms/step - loss: 3.9813 - accuracy: 0.1007 - val_loss: 4.1372 - val_accuracy: 0.0875\n",
            "Epoch 49/50\n",
            "100/100 [==============================] - 55s 552ms/step - loss: 3.9981 - accuracy: 0.1001 - val_loss: 4.1858 - val_accuracy: 0.0812\n",
            "Epoch 50/50\n",
            "100/100 [==============================] - 56s 557ms/step - loss: 3.9583 - accuracy: 0.1050 - val_loss: 4.1719 - val_accuracy: 0.0862\n"
          ],
          "name": "stdout"
        },
        {
          "output_type": "execute_result",
          "data": {
            "text/plain": [
              "<tensorflow.python.keras.callbacks.History at 0x7f1986f6ffd0>"
            ]
          },
          "metadata": {
            "tags": []
          },
          "execution_count": 43
        }
      ]
    },
    {
      "cell_type": "code",
      "metadata": {
        "id": "GUErG1rBogMY",
        "colab_type": "code",
        "colab": {
          "base_uri": "https://localhost:8080/",
          "height": 34
        },
        "outputId": "899c653b-7fff-496d-9026-37d195a2ff58"
      },
      "source": [
        "scores = model_vgg.evaluate(X1_train, y1_train, verbose=0)\n",
        "print(\"Train Accuracy: %.2f%%\" % (scores[1]*100))"
      ],
      "execution_count": 44,
      "outputs": [
        {
          "output_type": "stream",
          "text": [
            "Train Accuracy: 17.37%\n"
          ],
          "name": "stdout"
        }
      ]
    },
    {
      "cell_type": "code",
      "metadata": {
        "id": "7akkvU0polZf",
        "colab_type": "code",
        "colab": {
          "base_uri": "https://localhost:8080/",
          "height": 34
        },
        "outputId": "06aff505-711a-482e-b2b6-f4d15dc36191"
      },
      "source": [
        "scores = model_vgg.evaluate(X1_test, y1_test, verbose=0)\n",
        "print(\"Test Accuracy: %.2f%%\" % (scores[1]*100))"
      ],
      "execution_count": 45,
      "outputs": [
        {
          "output_type": "stream",
          "text": [
            "Test Accuracy: 13.66%\n"
          ],
          "name": "stdout"
        }
      ]
    },
    {
      "cell_type": "code",
      "metadata": {
        "id": "kcRqdBQF2JqQ",
        "colab_type": "code",
        "colab": {}
      },
      "source": [
        "## after multiple iterations and tries, not able to bring the model upto expectation. So submitting the assignment with the procedure that has been followed\n",
        "## removed all iterations carried out, to make the notebook readable.\n",
        "## Max accuracy achieved = 27% in train and 18% in validation. which isnt shown in this notebook "
      ],
      "execution_count": 0,
      "outputs": []
    }
  ]
}